{
  "nbformat": 4,
  "nbformat_minor": 0,
  "metadata": {
    "colab": {
      "name": "Laptop_DecisionTree.ipynb",
      "provenance": []
    },
    "kernelspec": {
      "name": "python3",
      "display_name": "Python 3"
    },
    "language_info": {
      "name": "python"
    }
  },
  "cells": [
    {
      "cell_type": "markdown",
      "source": [
        "# Import libaries"
      ],
      "metadata": {
        "id": "lKUQamuRBI1l"
      }
    },
    {
      "cell_type": "code",
      "execution_count": 50,
      "metadata": {
        "id": "BL5yzP07hSVJ"
      },
      "outputs": [],
      "source": [
        "import pandas as pd\n",
        "import numpy as np\n",
        "import matplotlib.pyplot as plt\n",
        "import seaborn as sns\n",
        "\n",
        "import sklearn\n",
        "from sklearn.tree import DecisionTreeRegressor\n",
        "from sklearn.model_selection import train_test_split, KFold, GridSearchCV, RandomizedSearchCV, cross_val_score\n",
        "from sklearn.metrics import r2_score, mean_absolute_error, mean_squared_error\n",
        "from sklearn.feature_selection import RFE\n",
        "\n",
        "import warnings # supress warnings\n",
        "warnings.filterwarnings('ignore')"
      ]
    },
    {
      "cell_type": "markdown",
      "source": [
        "# Import dataset csv file\n",
        "\n",
        "`pd.read_csv()` is use to read csv file and convert into dataframe\n",
        "\n",
        "`.head()` is show the first five row of the dataset (as default)"
      ],
      "metadata": {
        "id": "d1iatHWPBPgA"
      }
    },
    {
      "cell_type": "code",
      "source": [
        "# import labtop dataset\n",
        "laptop = pd.read_csv('/content/drive/MyDrive/Colab Notebooks/AI/Project/Data/test4.csv')\n",
        "laptop.head()"
      ],
      "metadata": {
        "colab": {
          "base_uri": "https://localhost:8080/",
          "height": 0
        },
        "id": "oxCKD_VOjp36",
        "outputId": "d1e6cc11-b0ad-4991-c5a1-a6fe795d821b"
      },
      "execution_count": 51,
      "outputs": [
        {
          "output_type": "execute_result",
          "data": {
            "text/plain": [
              "   No.  Brand                                        Series  Weight(kg)  \\\n",
              "0    1  Apple    MacBook Pro 16 Space Grey-32C GPU/32GB/2TB         2.2   \n",
              "1    2  Apple    MacBook Pro 16 Space Grey-32C GPU/32GB/1TB         2.2   \n",
              "2    3  Apple    MacBook Pro 16 Space Grey-16C GPU/16GB/1TB         2.1   \n",
              "3    4  Apple  MacBook Pro 16 Space Grey-16C GPU/16GB/512GB         2.1   \n",
              "4    5  Apple        MacBook Pro 14 Silver-16C GPU/16GB/2TB         1.6   \n",
              "\n",
              "   Width(cm)  Depth(cm)  Height(cm)  Screen Size(inch) Display Resolution  \\\n",
              "0      35.57      24.81        1.68               16.2     IPS  3456x2234   \n",
              "1      35.57      24.81        1.68               16.2     IPS  3456x2234   \n",
              "2      35.57      24.81        1.68               16.2     IPS  3456x2234   \n",
              "3      35.57      24.81        1.68               16.2     IPS  3456x2234   \n",
              "4      31.26      22.12        1.55               14.2     IPS  3024x1964   \n",
              "\n",
              "      OS                   CPU                       GPU  RAM(GB)  \\\n",
              "0  macOS          Apple M1 Max  Apple M1 Max 32-Core GPU       32   \n",
              "1  macOS          Apple M1 Max  Apple M1 Max 32-Core GPU       32   \n",
              "2  macOS  Apple M1 Pro 10-Core  Apple M1 Pro 16-Core GPU       16   \n",
              "3  macOS  Apple M1 Pro 10-Core  Apple M1 Pro 16-Core GPU       16   \n",
              "4  macOS  Apple M1 Pro 10-Core  Apple M1 Pro 16-Core GPU       16   \n",
              "\n",
              "   Processor Speed(GHz)  Storage(GB) StorageType  Price(Baht)  \n",
              "0                   4.0         2000         SSD       138900  \n",
              "1                   4.0         1000         SSD       124900  \n",
              "2                   3.4         1000         SSD        96900  \n",
              "3                   3.4          512         SSD        89900  \n",
              "4                   3.4         2000         SSD       103900  "
            ],
            "text/html": [
              "\n",
              "  <div id=\"df-4343f78c-400f-49d6-afff-416b622df47d\">\n",
              "    <div class=\"colab-df-container\">\n",
              "      <div>\n",
              "<style scoped>\n",
              "    .dataframe tbody tr th:only-of-type {\n",
              "        vertical-align: middle;\n",
              "    }\n",
              "\n",
              "    .dataframe tbody tr th {\n",
              "        vertical-align: top;\n",
              "    }\n",
              "\n",
              "    .dataframe thead th {\n",
              "        text-align: right;\n",
              "    }\n",
              "</style>\n",
              "<table border=\"1\" class=\"dataframe\">\n",
              "  <thead>\n",
              "    <tr style=\"text-align: right;\">\n",
              "      <th></th>\n",
              "      <th>No.</th>\n",
              "      <th>Brand</th>\n",
              "      <th>Series</th>\n",
              "      <th>Weight(kg)</th>\n",
              "      <th>Width(cm)</th>\n",
              "      <th>Depth(cm)</th>\n",
              "      <th>Height(cm)</th>\n",
              "      <th>Screen Size(inch)</th>\n",
              "      <th>Display</th>\n",
              "      <th>Resolution</th>\n",
              "      <th>OS</th>\n",
              "      <th>CPU</th>\n",
              "      <th>GPU</th>\n",
              "      <th>RAM(GB)</th>\n",
              "      <th>Processor Speed(GHz)</th>\n",
              "      <th>Storage(GB)</th>\n",
              "      <th>StorageType</th>\n",
              "      <th>Price(Baht)</th>\n",
              "    </tr>\n",
              "  </thead>\n",
              "  <tbody>\n",
              "    <tr>\n",
              "      <th>0</th>\n",
              "      <td>1</td>\n",
              "      <td>Apple</td>\n",
              "      <td>MacBook Pro 16 Space Grey-32C GPU/32GB/2TB</td>\n",
              "      <td>2.2</td>\n",
              "      <td>35.57</td>\n",
              "      <td>24.81</td>\n",
              "      <td>1.68</td>\n",
              "      <td>16.2</td>\n",
              "      <td>IPS</td>\n",
              "      <td>3456x2234</td>\n",
              "      <td>macOS</td>\n",
              "      <td>Apple M1 Max</td>\n",
              "      <td>Apple M1 Max 32-Core GPU</td>\n",
              "      <td>32</td>\n",
              "      <td>4.0</td>\n",
              "      <td>2000</td>\n",
              "      <td>SSD</td>\n",
              "      <td>138900</td>\n",
              "    </tr>\n",
              "    <tr>\n",
              "      <th>1</th>\n",
              "      <td>2</td>\n",
              "      <td>Apple</td>\n",
              "      <td>MacBook Pro 16 Space Grey-32C GPU/32GB/1TB</td>\n",
              "      <td>2.2</td>\n",
              "      <td>35.57</td>\n",
              "      <td>24.81</td>\n",
              "      <td>1.68</td>\n",
              "      <td>16.2</td>\n",
              "      <td>IPS</td>\n",
              "      <td>3456x2234</td>\n",
              "      <td>macOS</td>\n",
              "      <td>Apple M1 Max</td>\n",
              "      <td>Apple M1 Max 32-Core GPU</td>\n",
              "      <td>32</td>\n",
              "      <td>4.0</td>\n",
              "      <td>1000</td>\n",
              "      <td>SSD</td>\n",
              "      <td>124900</td>\n",
              "    </tr>\n",
              "    <tr>\n",
              "      <th>2</th>\n",
              "      <td>3</td>\n",
              "      <td>Apple</td>\n",
              "      <td>MacBook Pro 16 Space Grey-16C GPU/16GB/1TB</td>\n",
              "      <td>2.1</td>\n",
              "      <td>35.57</td>\n",
              "      <td>24.81</td>\n",
              "      <td>1.68</td>\n",
              "      <td>16.2</td>\n",
              "      <td>IPS</td>\n",
              "      <td>3456x2234</td>\n",
              "      <td>macOS</td>\n",
              "      <td>Apple M1 Pro 10-Core</td>\n",
              "      <td>Apple M1 Pro 16-Core GPU</td>\n",
              "      <td>16</td>\n",
              "      <td>3.4</td>\n",
              "      <td>1000</td>\n",
              "      <td>SSD</td>\n",
              "      <td>96900</td>\n",
              "    </tr>\n",
              "    <tr>\n",
              "      <th>3</th>\n",
              "      <td>4</td>\n",
              "      <td>Apple</td>\n",
              "      <td>MacBook Pro 16 Space Grey-16C GPU/16GB/512GB</td>\n",
              "      <td>2.1</td>\n",
              "      <td>35.57</td>\n",
              "      <td>24.81</td>\n",
              "      <td>1.68</td>\n",
              "      <td>16.2</td>\n",
              "      <td>IPS</td>\n",
              "      <td>3456x2234</td>\n",
              "      <td>macOS</td>\n",
              "      <td>Apple M1 Pro 10-Core</td>\n",
              "      <td>Apple M1 Pro 16-Core GPU</td>\n",
              "      <td>16</td>\n",
              "      <td>3.4</td>\n",
              "      <td>512</td>\n",
              "      <td>SSD</td>\n",
              "      <td>89900</td>\n",
              "    </tr>\n",
              "    <tr>\n",
              "      <th>4</th>\n",
              "      <td>5</td>\n",
              "      <td>Apple</td>\n",
              "      <td>MacBook Pro 14 Silver-16C GPU/16GB/2TB</td>\n",
              "      <td>1.6</td>\n",
              "      <td>31.26</td>\n",
              "      <td>22.12</td>\n",
              "      <td>1.55</td>\n",
              "      <td>14.2</td>\n",
              "      <td>IPS</td>\n",
              "      <td>3024x1964</td>\n",
              "      <td>macOS</td>\n",
              "      <td>Apple M1 Pro 10-Core</td>\n",
              "      <td>Apple M1 Pro 16-Core GPU</td>\n",
              "      <td>16</td>\n",
              "      <td>3.4</td>\n",
              "      <td>2000</td>\n",
              "      <td>SSD</td>\n",
              "      <td>103900</td>\n",
              "    </tr>\n",
              "  </tbody>\n",
              "</table>\n",
              "</div>\n",
              "      <button class=\"colab-df-convert\" onclick=\"convertToInteractive('df-4343f78c-400f-49d6-afff-416b622df47d')\"\n",
              "              title=\"Convert this dataframe to an interactive table.\"\n",
              "              style=\"display:none;\">\n",
              "        \n",
              "  <svg xmlns=\"http://www.w3.org/2000/svg\" height=\"24px\"viewBox=\"0 0 24 24\"\n",
              "       width=\"24px\">\n",
              "    <path d=\"M0 0h24v24H0V0z\" fill=\"none\"/>\n",
              "    <path d=\"M18.56 5.44l.94 2.06.94-2.06 2.06-.94-2.06-.94-.94-2.06-.94 2.06-2.06.94zm-11 1L8.5 8.5l.94-2.06 2.06-.94-2.06-.94L8.5 2.5l-.94 2.06-2.06.94zm10 10l.94 2.06.94-2.06 2.06-.94-2.06-.94-.94-2.06-.94 2.06-2.06.94z\"/><path d=\"M17.41 7.96l-1.37-1.37c-.4-.4-.92-.59-1.43-.59-.52 0-1.04.2-1.43.59L10.3 9.45l-7.72 7.72c-.78.78-.78 2.05 0 2.83L4 21.41c.39.39.9.59 1.41.59.51 0 1.02-.2 1.41-.59l7.78-7.78 2.81-2.81c.8-.78.8-2.07 0-2.86zM5.41 20L4 18.59l7.72-7.72 1.47 1.35L5.41 20z\"/>\n",
              "  </svg>\n",
              "      </button>\n",
              "      \n",
              "  <style>\n",
              "    .colab-df-container {\n",
              "      display:flex;\n",
              "      flex-wrap:wrap;\n",
              "      gap: 12px;\n",
              "    }\n",
              "\n",
              "    .colab-df-convert {\n",
              "      background-color: #E8F0FE;\n",
              "      border: none;\n",
              "      border-radius: 50%;\n",
              "      cursor: pointer;\n",
              "      display: none;\n",
              "      fill: #1967D2;\n",
              "      height: 32px;\n",
              "      padding: 0 0 0 0;\n",
              "      width: 32px;\n",
              "    }\n",
              "\n",
              "    .colab-df-convert:hover {\n",
              "      background-color: #E2EBFA;\n",
              "      box-shadow: 0px 1px 2px rgba(60, 64, 67, 0.3), 0px 1px 3px 1px rgba(60, 64, 67, 0.15);\n",
              "      fill: #174EA6;\n",
              "    }\n",
              "\n",
              "    [theme=dark] .colab-df-convert {\n",
              "      background-color: #3B4455;\n",
              "      fill: #D2E3FC;\n",
              "    }\n",
              "\n",
              "    [theme=dark] .colab-df-convert:hover {\n",
              "      background-color: #434B5C;\n",
              "      box-shadow: 0px 1px 3px 1px rgba(0, 0, 0, 0.15);\n",
              "      filter: drop-shadow(0px 1px 2px rgba(0, 0, 0, 0.3));\n",
              "      fill: #FFFFFF;\n",
              "    }\n",
              "  </style>\n",
              "\n",
              "      <script>\n",
              "        const buttonEl =\n",
              "          document.querySelector('#df-4343f78c-400f-49d6-afff-416b622df47d button.colab-df-convert');\n",
              "        buttonEl.style.display =\n",
              "          google.colab.kernel.accessAllowed ? 'block' : 'none';\n",
              "\n",
              "        async function convertToInteractive(key) {\n",
              "          const element = document.querySelector('#df-4343f78c-400f-49d6-afff-416b622df47d');\n",
              "          const dataTable =\n",
              "            await google.colab.kernel.invokeFunction('convertToInteractive',\n",
              "                                                     [key], {});\n",
              "          if (!dataTable) return;\n",
              "\n",
              "          const docLinkHtml = 'Like what you see? Visit the ' +\n",
              "            '<a target=\"_blank\" href=https://colab.research.google.com/notebooks/data_table.ipynb>data table notebook</a>'\n",
              "            + ' to learn more about interactive tables.';\n",
              "          element.innerHTML = '';\n",
              "          dataTable['output_type'] = 'display_data';\n",
              "          await google.colab.output.renderOutput(dataTable, element);\n",
              "          const docLink = document.createElement('div');\n",
              "          docLink.innerHTML = docLinkHtml;\n",
              "          element.appendChild(docLink);\n",
              "        }\n",
              "      </script>\n",
              "    </div>\n",
              "  </div>\n",
              "  "
            ]
          },
          "metadata": {},
          "execution_count": 51
        }
      ]
    },
    {
      "cell_type": "markdown",
      "source": [
        "# Data preprocessing & Create model"
      ],
      "metadata": {
        "id": "zmaPWlCOJrLW"
      }
    },
    {
      "cell_type": "markdown",
      "source": [
        "`.dropna()` is for drop rows with null value"
      ],
      "metadata": {
        "id": "vA4dULAQCKTW"
      }
    },
    {
      "cell_type": "markdown",
      "source": [
        "`.info()` to show the overall information of the dataframe\n",
        "\n",
        "`.unique()` to show the unique values for that column"
      ],
      "metadata": {
        "id": "mmM8iWOFCqWo"
      }
    },
    {
      "cell_type": "code",
      "source": [
        "laptop = laptop.dropna()"
      ],
      "metadata": {
        "id": "7sWL9LkRFkJS"
      },
      "execution_count": 52,
      "outputs": []
    },
    {
      "cell_type": "code",
      "source": [
        "laptop.info()"
      ],
      "metadata": {
        "colab": {
          "base_uri": "https://localhost:8080/"
        },
        "id": "Z0RhMtNGygB4",
        "outputId": "ca105a97-41e8-4031-a5a3-2cf664d90673"
      },
      "execution_count": 53,
      "outputs": [
        {
          "output_type": "stream",
          "name": "stdout",
          "text": [
            "<class 'pandas.core.frame.DataFrame'>\n",
            "Int64Index: 345 entries, 0 to 344\n",
            "Data columns (total 18 columns):\n",
            " #   Column                Non-Null Count  Dtype  \n",
            "---  ------                --------------  -----  \n",
            " 0   No.                   345 non-null    int64  \n",
            " 1   Brand                 345 non-null    object \n",
            " 2   Series                345 non-null    object \n",
            " 3   Weight(kg)            345 non-null    float64\n",
            " 4   Width(cm)             345 non-null    float64\n",
            " 5   Depth(cm)             345 non-null    float64\n",
            " 6   Height(cm)            345 non-null    float64\n",
            " 7   Screen Size(inch)     345 non-null    float64\n",
            " 8   Display               345 non-null    object \n",
            " 9   Resolution            345 non-null    object \n",
            " 10  OS                    345 non-null    object \n",
            " 11  CPU                   345 non-null    object \n",
            " 12  GPU                   345 non-null    object \n",
            " 13  RAM(GB)               345 non-null    int64  \n",
            " 14  Processor Speed(GHz)  345 non-null    float64\n",
            " 15  Storage(GB)           345 non-null    int64  \n",
            " 16  StorageType           345 non-null    object \n",
            " 17  Price(Baht)           345 non-null    int64  \n",
            "dtypes: float64(6), int64(4), object(8)\n",
            "memory usage: 51.2+ KB\n"
          ]
        }
      ]
    },
    {
      "cell_type": "code",
      "source": [
        "laptop['Resolution'].unique()"
      ],
      "metadata": {
        "colab": {
          "base_uri": "https://localhost:8080/"
        },
        "id": "YAbux_daxv3v",
        "outputId": "d63c0a84-aa06-4f81-8a38-b05917b685dc"
      },
      "execution_count": 54,
      "outputs": [
        {
          "output_type": "execute_result",
          "data": {
            "text/plain": [
              "array(['3456x2234', '3024x1964', '2560x1600', '1920x1080', '2560x1440',\n",
              "       '3840x2160', '3072x1920', '1366x768', '3840x2400', '3456x2160',\n",
              "       '4096x2160', '1920x1200', '2880x1800', '3000x2000', '2520x1680',\n",
              "       '2160x1440'], dtype=object)"
            ]
          },
          "metadata": {},
          "execution_count": 54
        }
      ]
    },
    {
      "cell_type": "markdown",
      "source": [
        "* **Heatmap**: to visualize the correlation between dataset\n",
        "\n",
        "`sns.heatmap` is for draw a heatmap\n",
        "* `.corr()` in `pandas` create a pairwise correlation of columns\n",
        "* if `annot=True`, the data value is show on the heatmap; in this case is correlation value\n",
        "\n",
        "When the correlation value is near 0, It's indicate that it have low or no correlation with each other."
      ],
      "metadata": {
        "id": "Kr8CjAVK6Lij"
      }
    },
    {
      "cell_type": "code",
      "source": [
        "fig, ax = plt.subplots(figsize=(8,7))\n",
        "sns.heatmap(laptop.corr(), annot=True, ax=ax)"
      ],
      "metadata": {
        "colab": {
          "base_uri": "https://localhost:8080/",
          "height": 550
        },
        "id": "Nc0NPPLTuUqI",
        "outputId": "2d77d9cf-7a58-4833-e11e-bf3b3b65e11b"
      },
      "execution_count": 55,
      "outputs": [
        {
          "output_type": "execute_result",
          "data": {
            "text/plain": [
              "<matplotlib.axes._subplots.AxesSubplot at 0x7fc17139cd90>"
            ]
          },
          "metadata": {},
          "execution_count": 55
        },
        {
          "output_type": "display_data",
          "data": {
            "text/plain": [
              "<Figure size 576x504 with 2 Axes>"
            ],
            "image/png": "[encoded data removed]"
          },
          "metadata": {
            "needs_background": "light"
          }
        }
      ]
    },
    {
      "cell_type": "markdown",
      "source": [
        "`.copy()` to copy the laptop dataframe\n",
        "\n",
        "`.drop()` to drop unused column"
      ],
      "metadata": {
        "id": "CNkowhoFDZvU"
      }
    },
    {
      "cell_type": "code",
      "source": [
        "laptop2 = laptop.copy()\n",
        "laptop2.drop(['No.','Series','Height(cm)'], axis=1, inplace=True)\n",
        "laptop2.head()"
      ],
      "metadata": {
        "colab": {
          "base_uri": "https://localhost:8080/",
          "height": 354
        },
        "id": "Khu9jqrq3wuj",
        "outputId": "0cc54d78-c75a-4e53-8f33-87934da3d3db"
      },
      "execution_count": 56,
      "outputs": [
        {
          "output_type": "execute_result",
          "data": {
            "text/plain": [
              "   Brand  Weight(kg)  Width(cm)  Depth(cm)  Screen Size(inch) Display  \\\n",
              "0  Apple         2.2      35.57      24.81               16.2     IPS   \n",
              "1  Apple         2.2      35.57      24.81               16.2     IPS   \n",
              "2  Apple         2.1      35.57      24.81               16.2     IPS   \n",
              "3  Apple         2.1      35.57      24.81               16.2     IPS   \n",
              "4  Apple         1.6      31.26      22.12               14.2     IPS   \n",
              "\n",
              "  Resolution     OS                   CPU                       GPU  RAM(GB)  \\\n",
              "0  3456x2234  macOS          Apple M1 Max  Apple M1 Max 32-Core GPU       32   \n",
              "1  3456x2234  macOS          Apple M1 Max  Apple M1 Max 32-Core GPU       32   \n",
              "2  3456x2234  macOS  Apple M1 Pro 10-Core  Apple M1 Pro 16-Core GPU       16   \n",
              "3  3456x2234  macOS  Apple M1 Pro 10-Core  Apple M1 Pro 16-Core GPU       16   \n",
              "4  3024x1964  macOS  Apple M1 Pro 10-Core  Apple M1 Pro 16-Core GPU       16   \n",
              "\n",
              "   Processor Speed(GHz)  Storage(GB) StorageType  Price(Baht)  \n",
              "0                   4.0         2000         SSD       138900  \n",
              "1                   4.0         1000         SSD       124900  \n",
              "2                   3.4         1000         SSD        96900  \n",
              "3                   3.4          512         SSD        89900  \n",
              "4                   3.4         2000         SSD       103900  "
            ],
            "text/html": [
              "\n",
              "  <div id=\"df-0fb888ca-6382-46ea-853a-e1203a581eea\">\n",
              "    <div class=\"colab-df-container\">\n",
              "      <div>\n",
              "<style scoped>\n",
              "    .dataframe tbody tr th:only-of-type {\n",
              "        vertical-align: middle;\n",
              "    }\n",
              "\n",
              "    .dataframe tbody tr th {\n",
              "        vertical-align: top;\n",
              "    }\n",
              "\n",
              "    .dataframe thead th {\n",
              "        text-align: right;\n",
              "    }\n",
              "</style>\n",
              "<table border=\"1\" class=\"dataframe\">\n",
              "  <thead>\n",
              "    <tr style=\"text-align: right;\">\n",
              "      <th></th>\n",
              "      <th>Brand</th>\n",
              "      <th>Weight(kg)</th>\n",
              "      <th>Width(cm)</th>\n",
              "      <th>Depth(cm)</th>\n",
              "      <th>Screen Size(inch)</th>\n",
              "      <th>Display</th>\n",
              "      <th>Resolution</th>\n",
              "      <th>OS</th>\n",
              "      <th>CPU</th>\n",
              "      <th>GPU</th>\n",
              "      <th>RAM(GB)</th>\n",
              "      <th>Processor Speed(GHz)</th>\n",
              "      <th>Storage(GB)</th>\n",
              "      <th>StorageType</th>\n",
              "      <th>Price(Baht)</th>\n",
              "    </tr>\n",
              "  </thead>\n",
              "  <tbody>\n",
              "    <tr>\n",
              "      <th>0</th>\n",
              "      <td>Apple</td>\n",
              "      <td>2.2</td>\n",
              "      <td>35.57</td>\n",
              "      <td>24.81</td>\n",
              "      <td>16.2</td>\n",
              "      <td>IPS</td>\n",
              "      <td>3456x2234</td>\n",
              "      <td>macOS</td>\n",
              "      <td>Apple M1 Max</td>\n",
              "      <td>Apple M1 Max 32-Core GPU</td>\n",
              "      <td>32</td>\n",
              "      <td>4.0</td>\n",
              "      <td>2000</td>\n",
              "      <td>SSD</td>\n",
              "      <td>138900</td>\n",
              "    </tr>\n",
              "    <tr>\n",
              "      <th>1</th>\n",
              "      <td>Apple</td>\n",
              "      <td>2.2</td>\n",
              "      <td>35.57</td>\n",
              "      <td>24.81</td>\n",
              "      <td>16.2</td>\n",
              "      <td>IPS</td>\n",
              "      <td>3456x2234</td>\n",
              "      <td>macOS</td>\n",
              "      <td>Apple M1 Max</td>\n",
              "      <td>Apple M1 Max 32-Core GPU</td>\n",
              "      <td>32</td>\n",
              "      <td>4.0</td>\n",
              "      <td>1000</td>\n",
              "      <td>SSD</td>\n",
              "      <td>124900</td>\n",
              "    </tr>\n",
              "    <tr>\n",
              "      <th>2</th>\n",
              "      <td>Apple</td>\n",
              "      <td>2.1</td>\n",
              "      <td>35.57</td>\n",
              "      <td>24.81</td>\n",
              "      <td>16.2</td>\n",
              "      <td>IPS</td>\n",
              "      <td>3456x2234</td>\n",
              "      <td>macOS</td>\n",
              "      <td>Apple M1 Pro 10-Core</td>\n",
              "      <td>Apple M1 Pro 16-Core GPU</td>\n",
              "      <td>16</td>\n",
              "      <td>3.4</td>\n",
              "      <td>1000</td>\n",
              "      <td>SSD</td>\n",
              "      <td>96900</td>\n",
              "    </tr>\n",
              "    <tr>\n",
              "      <th>3</th>\n",
              "      <td>Apple</td>\n",
              "      <td>2.1</td>\n",
              "      <td>35.57</td>\n",
              "      <td>24.81</td>\n",
              "      <td>16.2</td>\n",
              "      <td>IPS</td>\n",
              "      <td>3456x2234</td>\n",
              "      <td>macOS</td>\n",
              "      <td>Apple M1 Pro 10-Core</td>\n",
              "      <td>Apple M1 Pro 16-Core GPU</td>\n",
              "      <td>16</td>\n",
              "      <td>3.4</td>\n",
              "      <td>512</td>\n",
              "      <td>SSD</td>\n",
              "      <td>89900</td>\n",
              "    </tr>\n",
              "    <tr>\n",
              "      <th>4</th>\n",
              "      <td>Apple</td>\n",
              "      <td>1.6</td>\n",
              "      <td>31.26</td>\n",
              "      <td>22.12</td>\n",
              "      <td>14.2</td>\n",
              "      <td>IPS</td>\n",
              "      <td>3024x1964</td>\n",
              "      <td>macOS</td>\n",
              "      <td>Apple M1 Pro 10-Core</td>\n",
              "      <td>Apple M1 Pro 16-Core GPU</td>\n",
              "      <td>16</td>\n",
              "      <td>3.4</td>\n",
              "      <td>2000</td>\n",
              "      <td>SSD</td>\n",
              "      <td>103900</td>\n",
              "    </tr>\n",
              "  </tbody>\n",
              "</table>\n",
              "</div>\n",
              "      <button class=\"colab-df-convert\" onclick=\"convertToInteractive('df-0fb888ca-6382-46ea-853a-e1203a581eea')\"\n",
              "              title=\"Convert this dataframe to an interactive table.\"\n",
              "              style=\"display:none;\">\n",
              "        \n",
              "  <svg xmlns=\"http://www.w3.org/2000/svg\" height=\"24px\"viewBox=\"0 0 24 24\"\n",
              "       width=\"24px\">\n",
              "    <path d=\"M0 0h24v24H0V0z\" fill=\"none\"/>\n",
              "    <path d=\"M18.56 5.44l.94 2.06.94-2.06 2.06-.94-2.06-.94-.94-2.06-.94 2.06-2.06.94zm-11 1L8.5 8.5l.94-2.06 2.06-.94-2.06-.94L8.5 2.5l-.94 2.06-2.06.94zm10 10l.94 2.06.94-2.06 2.06-.94-2.06-.94-.94-2.06-.94 2.06-2.06.94z\"/><path d=\"M17.41 7.96l-1.37-1.37c-.4-.4-.92-.59-1.43-.59-.52 0-1.04.2-1.43.59L10.3 9.45l-7.72 7.72c-.78.78-.78 2.05 0 2.83L4 21.41c.39.39.9.59 1.41.59.51 0 1.02-.2 1.41-.59l7.78-7.78 2.81-2.81c.8-.78.8-2.07 0-2.86zM5.41 20L4 18.59l7.72-7.72 1.47 1.35L5.41 20z\"/>\n",
              "  </svg>\n",
              "      </button>\n",
              "      \n",
              "  <style>\n",
              "    .colab-df-container {\n",
              "      display:flex;\n",
              "      flex-wrap:wrap;\n",
              "      gap: 12px;\n",
              "    }\n",
              "\n",
              "    .colab-df-convert {\n",
              "      background-color: #E8F0FE;\n",
              "      border: none;\n",
              "      border-radius: 50%;\n",
              "      cursor: pointer;\n",
              "      display: none;\n",
              "      fill: #1967D2;\n",
              "      height: 32px;\n",
              "      padding: 0 0 0 0;\n",
              "      width: 32px;\n",
              "    }\n",
              "\n",
              "    .colab-df-convert:hover {\n",
              "      background-color: #E2EBFA;\n",
              "      box-shadow: 0px 1px 2px rgba(60, 64, 67, 0.3), 0px 1px 3px 1px rgba(60, 64, 67, 0.15);\n",
              "      fill: #174EA6;\n",
              "    }\n",
              "\n",
              "    [theme=dark] .colab-df-convert {\n",
              "      background-color: #3B4455;\n",
              "      fill: #D2E3FC;\n",
              "    }\n",
              "\n",
              "    [theme=dark] .colab-df-convert:hover {\n",
              "      background-color: #434B5C;\n",
              "      box-shadow: 0px 1px 3px 1px rgba(0, 0, 0, 0.15);\n",
              "      filter: drop-shadow(0px 1px 2px rgba(0, 0, 0, 0.3));\n",
              "      fill: #FFFFFF;\n",
              "    }\n",
              "  </style>\n",
              "\n",
              "      <script>\n",
              "        const buttonEl =\n",
              "          document.querySelector('#df-0fb888ca-6382-46ea-853a-e1203a581eea button.colab-df-convert');\n",
              "        buttonEl.style.display =\n",
              "          google.colab.kernel.accessAllowed ? 'block' : 'none';\n",
              "\n",
              "        async function convertToInteractive(key) {\n",
              "          const element = document.querySelector('#df-0fb888ca-6382-46ea-853a-e1203a581eea');\n",
              "          const dataTable =\n",
              "            await google.colab.kernel.invokeFunction('convertToInteractive',\n",
              "                                                     [key], {});\n",
              "          if (!dataTable) return;\n",
              "\n",
              "          const docLinkHtml = 'Like what you see? Visit the ' +\n",
              "            '<a target=\"_blank\" href=https://colab.research.google.com/notebooks/data_table.ipynb>data table notebook</a>'\n",
              "            + ' to learn more about interactive tables.';\n",
              "          element.innerHTML = '';\n",
              "          dataTable['output_type'] = 'display_data';\n",
              "          await google.colab.output.renderOutput(dataTable, element);\n",
              "          const docLink = document.createElement('div');\n",
              "          docLink.innerHTML = docLinkHtml;\n",
              "          element.appendChild(docLink);\n",
              "        }\n",
              "      </script>\n",
              "    </div>\n",
              "  </div>\n",
              "  "
            ]
          },
          "metadata": {},
          "execution_count": 56
        }
      ]
    },
    {
      "cell_type": "code",
      "source": [
        "laptop2.info()"
      ],
      "metadata": {
        "colab": {
          "base_uri": "https://localhost:8080/"
        },
        "id": "csJ2JHb-Fwo4",
        "outputId": "7ceb0746-8e6f-4ef2-e8ec-a42583fd89a9"
      },
      "execution_count": 57,
      "outputs": [
        {
          "output_type": "stream",
          "name": "stdout",
          "text": [
            "<class 'pandas.core.frame.DataFrame'>\n",
            "Int64Index: 345 entries, 0 to 344\n",
            "Data columns (total 15 columns):\n",
            " #   Column                Non-Null Count  Dtype  \n",
            "---  ------                --------------  -----  \n",
            " 0   Brand                 345 non-null    object \n",
            " 1   Weight(kg)            345 non-null    float64\n",
            " 2   Width(cm)             345 non-null    float64\n",
            " 3   Depth(cm)             345 non-null    float64\n",
            " 4   Screen Size(inch)     345 non-null    float64\n",
            " 5   Display               345 non-null    object \n",
            " 6   Resolution            345 non-null    object \n",
            " 7   OS                    345 non-null    object \n",
            " 8   CPU                   345 non-null    object \n",
            " 9   GPU                   345 non-null    object \n",
            " 10  RAM(GB)               345 non-null    int64  \n",
            " 11  Processor Speed(GHz)  345 non-null    float64\n",
            " 12  Storage(GB)           345 non-null    int64  \n",
            " 13  StorageType           345 non-null    object \n",
            " 14  Price(Baht)           345 non-null    int64  \n",
            "dtypes: float64(5), int64(3), object(7)\n",
            "memory usage: 43.1+ KB\n"
          ]
        }
      ]
    },
    {
      "cell_type": "markdown",
      "source": [
        "`.map` is map object result after apply the function; In this case we create a dict to change substitute the resolution into a number\n",
        "\n",
        "`.apply` is to apply the funtion into the dataframe"
      ],
      "metadata": {
        "id": "vpN5Pp52ZUYH"
      }
    },
    {
      "cell_type": "code",
      "source": [
        "def resmap(x):\n",
        "    return x.map({'1366x768': 0, '1920x1080': 1, '1920x1200': 2, '2160x1440': 3, '2520x1680': 4,\n",
        "                  '2560x1440': 5, '2560x1600': 6, '2880x1800': 7, '3000x2000': 8, '3024x1964': 9,\n",
        "                  '3072x1920': 10, '3456x2160': 11, '3456x2234': 12, '3840x2160': 13, '3840x2400': 14,\n",
        "                  '4096x2160': 15})\n",
        "\n",
        "laptop2[['Resolution']] = laptop2[['Resolution']].apply(resmap)\n",
        "laptop2.head()"
      ],
      "metadata": {
        "colab": {
          "base_uri": "https://localhost:8080/",
          "height": 354
        },
        "id": "xM22Xdv_7dxc",
        "outputId": "5f405bc6-b70f-461d-e250-a230102647e4"
      },
      "execution_count": 58,
      "outputs": [
        {
          "output_type": "execute_result",
          "data": {
            "text/plain": [
              "   Brand  Weight(kg)  Width(cm)  Depth(cm)  Screen Size(inch) Display  \\\n",
              "0  Apple         2.2      35.57      24.81               16.2     IPS   \n",
              "1  Apple         2.2      35.57      24.81               16.2     IPS   \n",
              "2  Apple         2.1      35.57      24.81               16.2     IPS   \n",
              "3  Apple         2.1      35.57      24.81               16.2     IPS   \n",
              "4  Apple         1.6      31.26      22.12               14.2     IPS   \n",
              "\n",
              "   Resolution     OS                   CPU                       GPU  RAM(GB)  \\\n",
              "0          12  macOS          Apple M1 Max  Apple M1 Max 32-Core GPU       32   \n",
              "1          12  macOS          Apple M1 Max  Apple M1 Max 32-Core GPU       32   \n",
              "2          12  macOS  Apple M1 Pro 10-Core  Apple M1 Pro 16-Core GPU       16   \n",
              "3          12  macOS  Apple M1 Pro 10-Core  Apple M1 Pro 16-Core GPU       16   \n",
              "4           9  macOS  Apple M1 Pro 10-Core  Apple M1 Pro 16-Core GPU       16   \n",
              "\n",
              "   Processor Speed(GHz)  Storage(GB) StorageType  Price(Baht)  \n",
              "0                   4.0         2000         SSD       138900  \n",
              "1                   4.0         1000         SSD       124900  \n",
              "2                   3.4         1000         SSD        96900  \n",
              "3                   3.4          512         SSD        89900  \n",
              "4                   3.4         2000         SSD       103900  "
            ],
            "text/html": [
              "\n",
              "  <div id=\"df-e988e31c-a5b6-4ea4-a5f2-65ec540c03fb\">\n",
              "    <div class=\"colab-df-container\">\n",
              "      <div>\n",
              "<style scoped>\n",
              "    .dataframe tbody tr th:only-of-type {\n",
              "        vertical-align: middle;\n",
              "    }\n",
              "\n",
              "    .dataframe tbody tr th {\n",
              "        vertical-align: top;\n",
              "    }\n",
              "\n",
              "    .dataframe thead th {\n",
              "        text-align: right;\n",
              "    }\n",
              "</style>\n",
              "<table border=\"1\" class=\"dataframe\">\n",
              "  <thead>\n",
              "    <tr style=\"text-align: right;\">\n",
              "      <th></th>\n",
              "      <th>Brand</th>\n",
              "      <th>Weight(kg)</th>\n",
              "      <th>Width(cm)</th>\n",
              "      <th>Depth(cm)</th>\n",
              "      <th>Screen Size(inch)</th>\n",
              "      <th>Display</th>\n",
              "      <th>Resolution</th>\n",
              "      <th>OS</th>\n",
              "      <th>CPU</th>\n",
              "      <th>GPU</th>\n",
              "      <th>RAM(GB)</th>\n",
              "      <th>Processor Speed(GHz)</th>\n",
              "      <th>Storage(GB)</th>\n",
              "      <th>StorageType</th>\n",
              "      <th>Price(Baht)</th>\n",
              "    </tr>\n",
              "  </thead>\n",
              "  <tbody>\n",
              "    <tr>\n",
              "      <th>0</th>\n",
              "      <td>Apple</td>\n",
              "      <td>2.2</td>\n",
              "      <td>35.57</td>\n",
              "      <td>24.81</td>\n",
              "      <td>16.2</td>\n",
              "      <td>IPS</td>\n",
              "      <td>12</td>\n",
              "      <td>macOS</td>\n",
              "      <td>Apple M1 Max</td>\n",
              "      <td>Apple M1 Max 32-Core GPU</td>\n",
              "      <td>32</td>\n",
              "      <td>4.0</td>\n",
              "      <td>2000</td>\n",
              "      <td>SSD</td>\n",
              "      <td>138900</td>\n",
              "    </tr>\n",
              "    <tr>\n",
              "      <th>1</th>\n",
              "      <td>Apple</td>\n",
              "      <td>2.2</td>\n",
              "      <td>35.57</td>\n",
              "      <td>24.81</td>\n",
              "      <td>16.2</td>\n",
              "      <td>IPS</td>\n",
              "      <td>12</td>\n",
              "      <td>macOS</td>\n",
              "      <td>Apple M1 Max</td>\n",
              "      <td>Apple M1 Max 32-Core GPU</td>\n",
              "      <td>32</td>\n",
              "      <td>4.0</td>\n",
              "      <td>1000</td>\n",
              "      <td>SSD</td>\n",
              "      <td>124900</td>\n",
              "    </tr>\n",
              "    <tr>\n",
              "      <th>2</th>\n",
              "      <td>Apple</td>\n",
              "      <td>2.1</td>\n",
              "      <td>35.57</td>\n",
              "      <td>24.81</td>\n",
              "      <td>16.2</td>\n",
              "      <td>IPS</td>\n",
              "      <td>12</td>\n",
              "      <td>macOS</td>\n",
              "      <td>Apple M1 Pro 10-Core</td>\n",
              "      <td>Apple M1 Pro 16-Core GPU</td>\n",
              "      <td>16</td>\n",
              "      <td>3.4</td>\n",
              "      <td>1000</td>\n",
              "      <td>SSD</td>\n",
              "      <td>96900</td>\n",
              "    </tr>\n",
              "    <tr>\n",
              "      <th>3</th>\n",
              "      <td>Apple</td>\n",
              "      <td>2.1</td>\n",
              "      <td>35.57</td>\n",
              "      <td>24.81</td>\n",
              "      <td>16.2</td>\n",
              "      <td>IPS</td>\n",
              "      <td>12</td>\n",
              "      <td>macOS</td>\n",
              "      <td>Apple M1 Pro 10-Core</td>\n",
              "      <td>Apple M1 Pro 16-Core GPU</td>\n",
              "      <td>16</td>\n",
              "      <td>3.4</td>\n",
              "      <td>512</td>\n",
              "      <td>SSD</td>\n",
              "      <td>89900</td>\n",
              "    </tr>\n",
              "    <tr>\n",
              "      <th>4</th>\n",
              "      <td>Apple</td>\n",
              "      <td>1.6</td>\n",
              "      <td>31.26</td>\n",
              "      <td>22.12</td>\n",
              "      <td>14.2</td>\n",
              "      <td>IPS</td>\n",
              "      <td>9</td>\n",
              "      <td>macOS</td>\n",
              "      <td>Apple M1 Pro 10-Core</td>\n",
              "      <td>Apple M1 Pro 16-Core GPU</td>\n",
              "      <td>16</td>\n",
              "      <td>3.4</td>\n",
              "      <td>2000</td>\n",
              "      <td>SSD</td>\n",
              "      <td>103900</td>\n",
              "    </tr>\n",
              "  </tbody>\n",
              "</table>\n",
              "</div>\n",
              "      <button class=\"colab-df-convert\" onclick=\"convertToInteractive('df-e988e31c-a5b6-4ea4-a5f2-65ec540c03fb')\"\n",
              "              title=\"Convert this dataframe to an interactive table.\"\n",
              "              style=\"display:none;\">\n",
              "        \n",
              "  <svg xmlns=\"http://www.w3.org/2000/svg\" height=\"24px\"viewBox=\"0 0 24 24\"\n",
              "       width=\"24px\">\n",
              "    <path d=\"M0 0h24v24H0V0z\" fill=\"none\"/>\n",
              "    <path d=\"M18.56 5.44l.94 2.06.94-2.06 2.06-.94-2.06-.94-.94-2.06-.94 2.06-2.06.94zm-11 1L8.5 8.5l.94-2.06 2.06-.94-2.06-.94L8.5 2.5l-.94 2.06-2.06.94zm10 10l.94 2.06.94-2.06 2.06-.94-2.06-.94-.94-2.06-.94 2.06-2.06.94z\"/><path d=\"M17.41 7.96l-1.37-1.37c-.4-.4-.92-.59-1.43-.59-.52 0-1.04.2-1.43.59L10.3 9.45l-7.72 7.72c-.78.78-.78 2.05 0 2.83L4 21.41c.39.39.9.59 1.41.59.51 0 1.02-.2 1.41-.59l7.78-7.78 2.81-2.81c.8-.78.8-2.07 0-2.86zM5.41 20L4 18.59l7.72-7.72 1.47 1.35L5.41 20z\"/>\n",
              "  </svg>\n",
              "      </button>\n",
              "      \n",
              "  <style>\n",
              "    .colab-df-container {\n",
              "      display:flex;\n",
              "      flex-wrap:wrap;\n",
              "      gap: 12px;\n",
              "    }\n",
              "\n",
              "    .colab-df-convert {\n",
              "      background-color: #E8F0FE;\n",
              "      border: none;\n",
              "      border-radius: 50%;\n",
              "      cursor: pointer;\n",
              "      display: none;\n",
              "      fill: #1967D2;\n",
              "      height: 32px;\n",
              "      padding: 0 0 0 0;\n",
              "      width: 32px;\n",
              "    }\n",
              "\n",
              "    .colab-df-convert:hover {\n",
              "      background-color: #E2EBFA;\n",
              "      box-shadow: 0px 1px 2px rgba(60, 64, 67, 0.3), 0px 1px 3px 1px rgba(60, 64, 67, 0.15);\n",
              "      fill: #174EA6;\n",
              "    }\n",
              "\n",
              "    [theme=dark] .colab-df-convert {\n",
              "      background-color: #3B4455;\n",
              "      fill: #D2E3FC;\n",
              "    }\n",
              "\n",
              "    [theme=dark] .colab-df-convert:hover {\n",
              "      background-color: #434B5C;\n",
              "      box-shadow: 0px 1px 3px 1px rgba(0, 0, 0, 0.15);\n",
              "      filter: drop-shadow(0px 1px 2px rgba(0, 0, 0, 0.3));\n",
              "      fill: #FFFFFF;\n",
              "    }\n",
              "  </style>\n",
              "\n",
              "      <script>\n",
              "        const buttonEl =\n",
              "          document.querySelector('#df-e988e31c-a5b6-4ea4-a5f2-65ec540c03fb button.colab-df-convert');\n",
              "        buttonEl.style.display =\n",
              "          google.colab.kernel.accessAllowed ? 'block' : 'none';\n",
              "\n",
              "        async function convertToInteractive(key) {\n",
              "          const element = document.querySelector('#df-e988e31c-a5b6-4ea4-a5f2-65ec540c03fb');\n",
              "          const dataTable =\n",
              "            await google.colab.kernel.invokeFunction('convertToInteractive',\n",
              "                                                     [key], {});\n",
              "          if (!dataTable) return;\n",
              "\n",
              "          const docLinkHtml = 'Like what you see? Visit the ' +\n",
              "            '<a target=\"_blank\" href=https://colab.research.google.com/notebooks/data_table.ipynb>data table notebook</a>'\n",
              "            + ' to learn more about interactive tables.';\n",
              "          element.innerHTML = '';\n",
              "          dataTable['output_type'] = 'display_data';\n",
              "          await google.colab.output.renderOutput(dataTable, element);\n",
              "          const docLink = document.createElement('div');\n",
              "          docLink.innerHTML = docLinkHtml;\n",
              "          element.appendChild(docLink);\n",
              "        }\n",
              "      </script>\n",
              "    </div>\n",
              "  </div>\n",
              "  "
            ]
          },
          "metadata": {},
          "execution_count": 58
        }
      ]
    },
    {
      "cell_type": "code",
      "source": [
        "def sttmap(x):\n",
        "    return x.map({'HDD': 0, 'eMMC': 1, 'SSD': 2})\n",
        "\n",
        "laptop2[['StorageType']] = laptop2[['StorageType']].apply(sttmap)\n",
        "laptop2.head()"
      ],
      "metadata": {
        "colab": {
          "base_uri": "https://localhost:8080/",
          "height": 354
        },
        "id": "hP4ddviM7lbP",
        "outputId": "8eedfde7-a177-4eaf-e2f4-790a86f97218"
      },
      "execution_count": 59,
      "outputs": [
        {
          "output_type": "execute_result",
          "data": {
            "text/plain": [
              "   Brand  Weight(kg)  Width(cm)  Depth(cm)  Screen Size(inch) Display  \\\n",
              "0  Apple         2.2      35.57      24.81               16.2     IPS   \n",
              "1  Apple         2.2      35.57      24.81               16.2     IPS   \n",
              "2  Apple         2.1      35.57      24.81               16.2     IPS   \n",
              "3  Apple         2.1      35.57      24.81               16.2     IPS   \n",
              "4  Apple         1.6      31.26      22.12               14.2     IPS   \n",
              "\n",
              "   Resolution     OS                   CPU                       GPU  RAM(GB)  \\\n",
              "0          12  macOS          Apple M1 Max  Apple M1 Max 32-Core GPU       32   \n",
              "1          12  macOS          Apple M1 Max  Apple M1 Max 32-Core GPU       32   \n",
              "2          12  macOS  Apple M1 Pro 10-Core  Apple M1 Pro 16-Core GPU       16   \n",
              "3          12  macOS  Apple M1 Pro 10-Core  Apple M1 Pro 16-Core GPU       16   \n",
              "4           9  macOS  Apple M1 Pro 10-Core  Apple M1 Pro 16-Core GPU       16   \n",
              "\n",
              "   Processor Speed(GHz)  Storage(GB)  StorageType  Price(Baht)  \n",
              "0                   4.0         2000            2       138900  \n",
              "1                   4.0         1000            2       124900  \n",
              "2                   3.4         1000            2        96900  \n",
              "3                   3.4          512            2        89900  \n",
              "4                   3.4         2000            2       103900  "
            ],
            "text/html": [
              "\n",
              "  <div id=\"df-2dd11253-5b42-4eea-80f2-939b6b42f9dd\">\n",
              "    <div class=\"colab-df-container\">\n",
              "      <div>\n",
              "<style scoped>\n",
              "    .dataframe tbody tr th:only-of-type {\n",
              "        vertical-align: middle;\n",
              "    }\n",
              "\n",
              "    .dataframe tbody tr th {\n",
              "        vertical-align: top;\n",
              "    }\n",
              "\n",
              "    .dataframe thead th {\n",
              "        text-align: right;\n",
              "    }\n",
              "</style>\n",
              "<table border=\"1\" class=\"dataframe\">\n",
              "  <thead>\n",
              "    <tr style=\"text-align: right;\">\n",
              "      <th></th>\n",
              "      <th>Brand</th>\n",
              "      <th>Weight(kg)</th>\n",
              "      <th>Width(cm)</th>\n",
              "      <th>Depth(cm)</th>\n",
              "      <th>Screen Size(inch)</th>\n",
              "      <th>Display</th>\n",
              "      <th>Resolution</th>\n",
              "      <th>OS</th>\n",
              "      <th>CPU</th>\n",
              "      <th>GPU</th>\n",
              "      <th>RAM(GB)</th>\n",
              "      <th>Processor Speed(GHz)</th>\n",
              "      <th>Storage(GB)</th>\n",
              "      <th>StorageType</th>\n",
              "      <th>Price(Baht)</th>\n",
              "    </tr>\n",
              "  </thead>\n",
              "  <tbody>\n",
              "    <tr>\n",
              "      <th>0</th>\n",
              "      <td>Apple</td>\n",
              "      <td>2.2</td>\n",
              "      <td>35.57</td>\n",
              "      <td>24.81</td>\n",
              "      <td>16.2</td>\n",
              "      <td>IPS</td>\n",
              "      <td>12</td>\n",
              "      <td>macOS</td>\n",
              "      <td>Apple M1 Max</td>\n",
              "      <td>Apple M1 Max 32-Core GPU</td>\n",
              "      <td>32</td>\n",
              "      <td>4.0</td>\n",
              "      <td>2000</td>\n",
              "      <td>2</td>\n",
              "      <td>138900</td>\n",
              "    </tr>\n",
              "    <tr>\n",
              "      <th>1</th>\n",
              "      <td>Apple</td>\n",
              "      <td>2.2</td>\n",
              "      <td>35.57</td>\n",
              "      <td>24.81</td>\n",
              "      <td>16.2</td>\n",
              "      <td>IPS</td>\n",
              "      <td>12</td>\n",
              "      <td>macOS</td>\n",
              "      <td>Apple M1 Max</td>\n",
              "      <td>Apple M1 Max 32-Core GPU</td>\n",
              "      <td>32</td>\n",
              "      <td>4.0</td>\n",
              "      <td>1000</td>\n",
              "      <td>2</td>\n",
              "      <td>124900</td>\n",
              "    </tr>\n",
              "    <tr>\n",
              "      <th>2</th>\n",
              "      <td>Apple</td>\n",
              "      <td>2.1</td>\n",
              "      <td>35.57</td>\n",
              "      <td>24.81</td>\n",
              "      <td>16.2</td>\n",
              "      <td>IPS</td>\n",
              "      <td>12</td>\n",
              "      <td>macOS</td>\n",
              "      <td>Apple M1 Pro 10-Core</td>\n",
              "      <td>Apple M1 Pro 16-Core GPU</td>\n",
              "      <td>16</td>\n",
              "      <td>3.4</td>\n",
              "      <td>1000</td>\n",
              "      <td>2</td>\n",
              "      <td>96900</td>\n",
              "    </tr>\n",
              "    <tr>\n",
              "      <th>3</th>\n",
              "      <td>Apple</td>\n",
              "      <td>2.1</td>\n",
              "      <td>35.57</td>\n",
              "      <td>24.81</td>\n",
              "      <td>16.2</td>\n",
              "      <td>IPS</td>\n",
              "      <td>12</td>\n",
              "      <td>macOS</td>\n",
              "      <td>Apple M1 Pro 10-Core</td>\n",
              "      <td>Apple M1 Pro 16-Core GPU</td>\n",
              "      <td>16</td>\n",
              "      <td>3.4</td>\n",
              "      <td>512</td>\n",
              "      <td>2</td>\n",
              "      <td>89900</td>\n",
              "    </tr>\n",
              "    <tr>\n",
              "      <th>4</th>\n",
              "      <td>Apple</td>\n",
              "      <td>1.6</td>\n",
              "      <td>31.26</td>\n",
              "      <td>22.12</td>\n",
              "      <td>14.2</td>\n",
              "      <td>IPS</td>\n",
              "      <td>9</td>\n",
              "      <td>macOS</td>\n",
              "      <td>Apple M1 Pro 10-Core</td>\n",
              "      <td>Apple M1 Pro 16-Core GPU</td>\n",
              "      <td>16</td>\n",
              "      <td>3.4</td>\n",
              "      <td>2000</td>\n",
              "      <td>2</td>\n",
              "      <td>103900</td>\n",
              "    </tr>\n",
              "  </tbody>\n",
              "</table>\n",
              "</div>\n",
              "      <button class=\"colab-df-convert\" onclick=\"convertToInteractive('df-2dd11253-5b42-4eea-80f2-939b6b42f9dd')\"\n",
              "              title=\"Convert this dataframe to an interactive table.\"\n",
              "              style=\"display:none;\">\n",
              "        \n",
              "  <svg xmlns=\"http://www.w3.org/2000/svg\" height=\"24px\"viewBox=\"0 0 24 24\"\n",
              "       width=\"24px\">\n",
              "    <path d=\"M0 0h24v24H0V0z\" fill=\"none\"/>\n",
              "    <path d=\"M18.56 5.44l.94 2.06.94-2.06 2.06-.94-2.06-.94-.94-2.06-.94 2.06-2.06.94zm-11 1L8.5 8.5l.94-2.06 2.06-.94-2.06-.94L8.5 2.5l-.94 2.06-2.06.94zm10 10l.94 2.06.94-2.06 2.06-.94-2.06-.94-.94-2.06-.94 2.06-2.06.94z\"/><path d=\"M17.41 7.96l-1.37-1.37c-.4-.4-.92-.59-1.43-.59-.52 0-1.04.2-1.43.59L10.3 9.45l-7.72 7.72c-.78.78-.78 2.05 0 2.83L4 21.41c.39.39.9.59 1.41.59.51 0 1.02-.2 1.41-.59l7.78-7.78 2.81-2.81c.8-.78.8-2.07 0-2.86zM5.41 20L4 18.59l7.72-7.72 1.47 1.35L5.41 20z\"/>\n",
              "  </svg>\n",
              "      </button>\n",
              "      \n",
              "  <style>\n",
              "    .colab-df-container {\n",
              "      display:flex;\n",
              "      flex-wrap:wrap;\n",
              "      gap: 12px;\n",
              "    }\n",
              "\n",
              "    .colab-df-convert {\n",
              "      background-color: #E8F0FE;\n",
              "      border: none;\n",
              "      border-radius: 50%;\n",
              "      cursor: pointer;\n",
              "      display: none;\n",
              "      fill: #1967D2;\n",
              "      height: 32px;\n",
              "      padding: 0 0 0 0;\n",
              "      width: 32px;\n",
              "    }\n",
              "\n",
              "    .colab-df-convert:hover {\n",
              "      background-color: #E2EBFA;\n",
              "      box-shadow: 0px 1px 2px rgba(60, 64, 67, 0.3), 0px 1px 3px 1px rgba(60, 64, 67, 0.15);\n",
              "      fill: #174EA6;\n",
              "    }\n",
              "\n",
              "    [theme=dark] .colab-df-convert {\n",
              "      background-color: #3B4455;\n",
              "      fill: #D2E3FC;\n",
              "    }\n",
              "\n",
              "    [theme=dark] .colab-df-convert:hover {\n",
              "      background-color: #434B5C;\n",
              "      box-shadow: 0px 1px 3px 1px rgba(0, 0, 0, 0.15);\n",
              "      filter: drop-shadow(0px 1px 2px rgba(0, 0, 0, 0.3));\n",
              "      fill: #FFFFFF;\n",
              "    }\n",
              "  </style>\n",
              "\n",
              "      <script>\n",
              "        const buttonEl =\n",
              "          document.querySelector('#df-2dd11253-5b42-4eea-80f2-939b6b42f9dd button.colab-df-convert');\n",
              "        buttonEl.style.display =\n",
              "          google.colab.kernel.accessAllowed ? 'block' : 'none';\n",
              "\n",
              "        async function convertToInteractive(key) {\n",
              "          const element = document.querySelector('#df-2dd11253-5b42-4eea-80f2-939b6b42f9dd');\n",
              "          const dataTable =\n",
              "            await google.colab.kernel.invokeFunction('convertToInteractive',\n",
              "                                                     [key], {});\n",
              "          if (!dataTable) return;\n",
              "\n",
              "          const docLinkHtml = 'Like what you see? Visit the ' +\n",
              "            '<a target=\"_blank\" href=https://colab.research.google.com/notebooks/data_table.ipynb>data table notebook</a>'\n",
              "            + ' to learn more about interactive tables.';\n",
              "          element.innerHTML = '';\n",
              "          dataTable['output_type'] = 'display_data';\n",
              "          await google.colab.output.renderOutput(dataTable, element);\n",
              "          const docLink = document.createElement('div');\n",
              "          docLink.innerHTML = docLinkHtml;\n",
              "          element.appendChild(docLink);\n",
              "        }\n",
              "      </script>\n",
              "    </div>\n",
              "  </div>\n",
              "  "
            ]
          },
          "metadata": {},
          "execution_count": 59
        }
      ]
    },
    {
      "cell_type": "markdown",
      "source": [
        "`!pip` for install the python package; in this case is **category_encoders**"
      ],
      "metadata": {
        "id": "VgvXAR7Z6jCi"
      }
    },
    {
      "cell_type": "code",
      "source": [
        "!pip install category_encoders"
      ],
      "metadata": {
        "colab": {
          "base_uri": "https://localhost:8080/"
        },
        "id": "Rxyeief46Kp0",
        "outputId": "ff3c00b2-56d8-4d54-ba11-17877eb70726"
      },
      "execution_count": 60,
      "outputs": [
        {
          "output_type": "stream",
          "name": "stdout",
          "text": [
            "Requirement already satisfied: category_encoders in /usr/local/lib/python3.7/dist-packages (2.4.0)\n",
            "Requirement already satisfied: scipy>=1.0.0 in /usr/local/lib/python3.7/dist-packages (from category_encoders) (1.4.1)\n",
            "Requirement already satisfied: numpy>=1.14.0 in /usr/local/lib/python3.7/dist-packages (from category_encoders) (1.21.6)\n",
            "Requirement already satisfied: patsy>=0.5.1 in /usr/local/lib/python3.7/dist-packages (from category_encoders) (0.5.2)\n",
            "Requirement already satisfied: pandas>=0.21.1 in /usr/local/lib/python3.7/dist-packages (from category_encoders) (1.3.5)\n",
            "Requirement already satisfied: statsmodels>=0.9.0 in /usr/local/lib/python3.7/dist-packages (from category_encoders) (0.10.2)\n",
            "Requirement already satisfied: scikit-learn>=0.20.0 in /usr/local/lib/python3.7/dist-packages (from category_encoders) (1.0.2)\n",
            "Requirement already satisfied: pytz>=2017.3 in /usr/local/lib/python3.7/dist-packages (from pandas>=0.21.1->category_encoders) (2022.1)\n",
            "Requirement already satisfied: python-dateutil>=2.7.3 in /usr/local/lib/python3.7/dist-packages (from pandas>=0.21.1->category_encoders) (2.8.2)\n",
            "Requirement already satisfied: six in /usr/local/lib/python3.7/dist-packages (from patsy>=0.5.1->category_encoders) (1.15.0)\n",
            "Requirement already satisfied: threadpoolctl>=2.0.0 in /usr/local/lib/python3.7/dist-packages (from scikit-learn>=0.20.0->category_encoders) (3.1.0)\n",
            "Requirement already satisfied: joblib>=0.11 in /usr/local/lib/python3.7/dist-packages (from scikit-learn>=0.20.0->category_encoders) (1.1.0)\n"
          ]
        }
      ]
    },
    {
      "cell_type": "code",
      "source": [
        "import category_encoders as ce"
      ],
      "metadata": {
        "id": "g0DPpNZo5-3i"
      },
      "execution_count": 61,
      "outputs": []
    },
    {
      "cell_type": "code",
      "source": [
        "laptop3 = laptop2.copy()\n",
        "laptop3.drop(['Width(cm)', 'Depth(cm)', 'CPU', 'Display', 'Brand'], axis = 1, inplace = True)\n",
        "laptop3.head()"
      ],
      "metadata": {
        "colab": {
          "base_uri": "https://localhost:8080/",
          "height": 206
        },
        "id": "jLwDryUGBqn2",
        "outputId": "c072d202-31a7-4976-82f9-7a0ea1c375ca"
      },
      "execution_count": 62,
      "outputs": [
        {
          "output_type": "execute_result",
          "data": {
            "text/plain": [
              "   Weight(kg)  Screen Size(inch)  Resolution     OS                       GPU  \\\n",
              "0         2.2               16.2          12  macOS  Apple M1 Max 32-Core GPU   \n",
              "1         2.2               16.2          12  macOS  Apple M1 Max 32-Core GPU   \n",
              "2         2.1               16.2          12  macOS  Apple M1 Pro 16-Core GPU   \n",
              "3         2.1               16.2          12  macOS  Apple M1 Pro 16-Core GPU   \n",
              "4         1.6               14.2           9  macOS  Apple M1 Pro 16-Core GPU   \n",
              "\n",
              "   RAM(GB)  Processor Speed(GHz)  Storage(GB)  StorageType  Price(Baht)  \n",
              "0       32                   4.0         2000            2       138900  \n",
              "1       32                   4.0         1000            2       124900  \n",
              "2       16                   3.4         1000            2        96900  \n",
              "3       16                   3.4          512            2        89900  \n",
              "4       16                   3.4         2000            2       103900  "
            ],
            "text/html": [
              "\n",
              "  <div id=\"df-4a6a3e32-4b91-4c24-89e9-7e436db649a3\">\n",
              "    <div class=\"colab-df-container\">\n",
              "      <div>\n",
              "<style scoped>\n",
              "    .dataframe tbody tr th:only-of-type {\n",
              "        vertical-align: middle;\n",
              "    }\n",
              "\n",
              "    .dataframe tbody tr th {\n",
              "        vertical-align: top;\n",
              "    }\n",
              "\n",
              "    .dataframe thead th {\n",
              "        text-align: right;\n",
              "    }\n",
              "</style>\n",
              "<table border=\"1\" class=\"dataframe\">\n",
              "  <thead>\n",
              "    <tr style=\"text-align: right;\">\n",
              "      <th></th>\n",
              "      <th>Weight(kg)</th>\n",
              "      <th>Screen Size(inch)</th>\n",
              "      <th>Resolution</th>\n",
              "      <th>OS</th>\n",
              "      <th>GPU</th>\n",
              "      <th>RAM(GB)</th>\n",
              "      <th>Processor Speed(GHz)</th>\n",
              "      <th>Storage(GB)</th>\n",
              "      <th>StorageType</th>\n",
              "      <th>Price(Baht)</th>\n",
              "    </tr>\n",
              "  </thead>\n",
              "  <tbody>\n",
              "    <tr>\n",
              "      <th>0</th>\n",
              "      <td>2.2</td>\n",
              "      <td>16.2</td>\n",
              "      <td>12</td>\n",
              "      <td>macOS</td>\n",
              "      <td>Apple M1 Max 32-Core GPU</td>\n",
              "      <td>32</td>\n",
              "      <td>4.0</td>\n",
              "      <td>2000</td>\n",
              "      <td>2</td>\n",
              "      <td>138900</td>\n",
              "    </tr>\n",
              "    <tr>\n",
              "      <th>1</th>\n",
              "      <td>2.2</td>\n",
              "      <td>16.2</td>\n",
              "      <td>12</td>\n",
              "      <td>macOS</td>\n",
              "      <td>Apple M1 Max 32-Core GPU</td>\n",
              "      <td>32</td>\n",
              "      <td>4.0</td>\n",
              "      <td>1000</td>\n",
              "      <td>2</td>\n",
              "      <td>124900</td>\n",
              "    </tr>\n",
              "    <tr>\n",
              "      <th>2</th>\n",
              "      <td>2.1</td>\n",
              "      <td>16.2</td>\n",
              "      <td>12</td>\n",
              "      <td>macOS</td>\n",
              "      <td>Apple M1 Pro 16-Core GPU</td>\n",
              "      <td>16</td>\n",
              "      <td>3.4</td>\n",
              "      <td>1000</td>\n",
              "      <td>2</td>\n",
              "      <td>96900</td>\n",
              "    </tr>\n",
              "    <tr>\n",
              "      <th>3</th>\n",
              "      <td>2.1</td>\n",
              "      <td>16.2</td>\n",
              "      <td>12</td>\n",
              "      <td>macOS</td>\n",
              "      <td>Apple M1 Pro 16-Core GPU</td>\n",
              "      <td>16</td>\n",
              "      <td>3.4</td>\n",
              "      <td>512</td>\n",
              "      <td>2</td>\n",
              "      <td>89900</td>\n",
              "    </tr>\n",
              "    <tr>\n",
              "      <th>4</th>\n",
              "      <td>1.6</td>\n",
              "      <td>14.2</td>\n",
              "      <td>9</td>\n",
              "      <td>macOS</td>\n",
              "      <td>Apple M1 Pro 16-Core GPU</td>\n",
              "      <td>16</td>\n",
              "      <td>3.4</td>\n",
              "      <td>2000</td>\n",
              "      <td>2</td>\n",
              "      <td>103900</td>\n",
              "    </tr>\n",
              "  </tbody>\n",
              "</table>\n",
              "</div>\n",
              "      <button class=\"colab-df-convert\" onclick=\"convertToInteractive('df-4a6a3e32-4b91-4c24-89e9-7e436db649a3')\"\n",
              "              title=\"Convert this dataframe to an interactive table.\"\n",
              "              style=\"display:none;\">\n",
              "        \n",
              "  <svg xmlns=\"http://www.w3.org/2000/svg\" height=\"24px\"viewBox=\"0 0 24 24\"\n",
              "       width=\"24px\">\n",
              "    <path d=\"M0 0h24v24H0V0z\" fill=\"none\"/>\n",
              "    <path d=\"M18.56 5.44l.94 2.06.94-2.06 2.06-.94-2.06-.94-.94-2.06-.94 2.06-2.06.94zm-11 1L8.5 8.5l.94-2.06 2.06-.94-2.06-.94L8.5 2.5l-.94 2.06-2.06.94zm10 10l.94 2.06.94-2.06 2.06-.94-2.06-.94-.94-2.06-.94 2.06-2.06.94z\"/><path d=\"M17.41 7.96l-1.37-1.37c-.4-.4-.92-.59-1.43-.59-.52 0-1.04.2-1.43.59L10.3 9.45l-7.72 7.72c-.78.78-.78 2.05 0 2.83L4 21.41c.39.39.9.59 1.41.59.51 0 1.02-.2 1.41-.59l7.78-7.78 2.81-2.81c.8-.78.8-2.07 0-2.86zM5.41 20L4 18.59l7.72-7.72 1.47 1.35L5.41 20z\"/>\n",
              "  </svg>\n",
              "      </button>\n",
              "      \n",
              "  <style>\n",
              "    .colab-df-container {\n",
              "      display:flex;\n",
              "      flex-wrap:wrap;\n",
              "      gap: 12px;\n",
              "    }\n",
              "\n",
              "    .colab-df-convert {\n",
              "      background-color: #E8F0FE;\n",
              "      border: none;\n",
              "      border-radius: 50%;\n",
              "      cursor: pointer;\n",
              "      display: none;\n",
              "      fill: #1967D2;\n",
              "      height: 32px;\n",
              "      padding: 0 0 0 0;\n",
              "      width: 32px;\n",
              "    }\n",
              "\n",
              "    .colab-df-convert:hover {\n",
              "      background-color: #E2EBFA;\n",
              "      box-shadow: 0px 1px 2px rgba(60, 64, 67, 0.3), 0px 1px 3px 1px rgba(60, 64, 67, 0.15);\n",
              "      fill: #174EA6;\n",
              "    }\n",
              "\n",
              "    [theme=dark] .colab-df-convert {\n",
              "      background-color: #3B4455;\n",
              "      fill: #D2E3FC;\n",
              "    }\n",
              "\n",
              "    [theme=dark] .colab-df-convert:hover {\n",
              "      background-color: #434B5C;\n",
              "      box-shadow: 0px 1px 3px 1px rgba(0, 0, 0, 0.15);\n",
              "      filter: drop-shadow(0px 1px 2px rgba(0, 0, 0, 0.3));\n",
              "      fill: #FFFFFF;\n",
              "    }\n",
              "  </style>\n",
              "\n",
              "      <script>\n",
              "        const buttonEl =\n",
              "          document.querySelector('#df-4a6a3e32-4b91-4c24-89e9-7e436db649a3 button.colab-df-convert');\n",
              "        buttonEl.style.display =\n",
              "          google.colab.kernel.accessAllowed ? 'block' : 'none';\n",
              "\n",
              "        async function convertToInteractive(key) {\n",
              "          const element = document.querySelector('#df-4a6a3e32-4b91-4c24-89e9-7e436db649a3');\n",
              "          const dataTable =\n",
              "            await google.colab.kernel.invokeFunction('convertToInteractive',\n",
              "                                                     [key], {});\n",
              "          if (!dataTable) return;\n",
              "\n",
              "          const docLinkHtml = 'Like what you see? Visit the ' +\n",
              "            '<a target=\"_blank\" href=https://colab.research.google.com/notebooks/data_table.ipynb>data table notebook</a>'\n",
              "            + ' to learn more about interactive tables.';\n",
              "          element.innerHTML = '';\n",
              "          dataTable['output_type'] = 'display_data';\n",
              "          await google.colab.output.renderOutput(dataTable, element);\n",
              "          const docLink = document.createElement('div');\n",
              "          docLink.innerHTML = docLinkHtml;\n",
              "          element.appendChild(docLink);\n",
              "        }\n",
              "      </script>\n",
              "    </div>\n",
              "  </div>\n",
              "  "
            ]
          },
          "metadata": {},
          "execution_count": 62
        }
      ]
    },
    {
      "cell_type": "markdown",
      "source": [
        "`ce.OneHotEncoder` is function similar with function `pd.get_dummies` in pandas.\n",
        "\n",
        "It use for categorical features but we don't have to use `.concat` and `.drop` to merge new data into dataset like `.get_dummies`. It will automatically delete old columns and add new columns into dataset with 0 and 1.\n",
        "\n",
        "`use_cat_names=True` is for encoded the features columns name with in the new generated columns"
      ],
      "metadata": {
        "id": "kV50_ov06p7G"
      }
    },
    {
      "cell_type": "code",
      "source": [
        "encoder = ce.OneHotEncoder(use_cat_names=True)"
      ],
      "metadata": {
        "id": "OjdS91Rt6e1y"
      },
      "execution_count": 63,
      "outputs": []
    },
    {
      "cell_type": "markdown",
      "source": [
        "Split the test and train dataset\n",
        "\n",
        "* X is included all features **except Price(baht)**\n",
        "* y is have only one columns which is **Price(baht)**\n",
        "\n",
        "`train_test_split` is function in sklearn use for seperate the dataset into test and train data\n",
        "\n",
        "`test_size` is the proportion of the dataset we seperate for test the model\n",
        "\n",
        "`random_state` is for have the same result of split the test and train data everytime we run the program"
      ],
      "metadata": {
        "id": "DO4Tfj1K6xWT"
      }
    },
    {
      "cell_type": "code",
      "source": [
        "X = laptop3.drop('Price(Baht)', axis=1)\n",
        "y = laptop3['Price(Baht)']\n",
        "X_train, X_test, y_train, y_test = train_test_split(X, y, test_size=0.3, random_state=90)"
      ],
      "metadata": {
        "id": "FxbeRrDa79AV"
      },
      "execution_count": 64,
      "outputs": []
    },
    {
      "cell_type": "markdown",
      "source": [
        "`.fit_transform` for train data\n",
        "\n",
        "`.transform` for test data\n",
        "\n",
        "this because we don't want information from the test data to bias the model."
      ],
      "metadata": {
        "id": "5NUYxllM61lG"
      }
    },
    {
      "cell_type": "code",
      "source": [
        "X_train2 = encoder.fit_transform(X_train)\n",
        "X_test2 = encoder.transform(X_test)"
      ],
      "metadata": {
        "id": "EagPnOab8Kjx"
      },
      "execution_count": 65,
      "outputs": []
    },
    {
      "cell_type": "code",
      "source": [
        "X_test2"
      ],
      "metadata": {
        "colab": {
          "base_uri": "https://localhost:8080/",
          "height": 522
        },
        "id": "Z8JkZbNKm_2O",
        "outputId": "76e41cfc-c7ec-48c1-af6a-7bb042dafc62"
      },
      "execution_count": 66,
      "outputs": [
        {
          "output_type": "execute_result",
          "data": {
            "text/plain": [
              "     Weight(kg)  Screen Size(inch)  Resolution  OS_Windows 10 Home  \\\n",
              "258        1.60               14.2           9                   0   \n",
              "319        1.32               14.0           1                   0   \n",
              "335        1.36               14.0           1                   0   \n",
              "337        1.20               13.3           1                   0   \n",
              "301        1.38               14.0           1                   0   \n",
              "..          ...                ...         ...                 ...   \n",
              "291        1.50               14.0           1                   1   \n",
              "333        2.20               17.3           1                   1   \n",
              "63         1.30               13.3           1                   1   \n",
              "50         2.00               15.6           1                   1   \n",
              "155        2.60               17.3          13                   0   \n",
              "\n",
              "     OS_Windows 10 Pro  OS_Windows 11 Home  OS_macOS  OS_Chrome OS  OS_DOS  \\\n",
              "258                  0                   0         1             0       0   \n",
              "319                  1                   0         0             0       0   \n",
              "335                  1                   0         0             0       0   \n",
              "337                  1                   0         0             0       0   \n",
              "301                  1                   0         0             0       0   \n",
              "..                 ...                 ...       ...           ...     ...   \n",
              "291                  0                   0         0             0       0   \n",
              "333                  0                   0         0             0       0   \n",
              "63                   0                   0         0             0       0   \n",
              "50                   0                   0         0             0       0   \n",
              "155                  0                   1         0             0       0   \n",
              "\n",
              "     OS_ESHELL  ...  GPU_NVIDIA GeForce RTX SUPER  GPU_NVIDIA Quadro RTX 3000  \\\n",
              "258          0  ...                             0                           0   \n",
              "319          0  ...                             0                           0   \n",
              "335          0  ...                             0                           0   \n",
              "337          0  ...                             0                           0   \n",
              "301          0  ...                             0                           0   \n",
              "..         ...  ...                           ...                         ...   \n",
              "291          0  ...                             0                           0   \n",
              "333          0  ...                             0                           0   \n",
              "63           0  ...                             0                           0   \n",
              "50           0  ...                             0                           0   \n",
              "155          0  ...                             0                           0   \n",
              "\n",
              "     GPU_NVIDIA GeForce GTX 1660  GPU_NVIDIA GeForce RTX2070  \\\n",
              "258                            0                           0   \n",
              "319                            0                           0   \n",
              "335                            0                           0   \n",
              "337                            0                           0   \n",
              "301                            0                           0   \n",
              "..                           ...                         ...   \n",
              "291                            0                           0   \n",
              "333                            0                           0   \n",
              "63                             0                           0   \n",
              "50                             0                           0   \n",
              "155                            0                           0   \n",
              "\n",
              "     GPU_NVIDIA GeForce GTX 3060  GPU_NVIDIA RTX A3000  RAM(GB)  \\\n",
              "258                            0                     0       32   \n",
              "319                            0                     0        8   \n",
              "335                            0                     0       16   \n",
              "337                            0                     0       16   \n",
              "301                            0                     0       16   \n",
              "..                           ...                   ...      ...   \n",
              "291                            0                     0       16   \n",
              "333                            0                     0       16   \n",
              "63                             0                     0        8   \n",
              "50                             0                     0        8   \n",
              "155                            0                     0        8   \n",
              "\n",
              "     Processor Speed(GHz)  Storage(GB)  StorageType  \n",
              "258                   3.4         2000            2  \n",
              "319                   4.7          512            2  \n",
              "335                   4.9          512            2  \n",
              "337                   4.2          512            2  \n",
              "301                   4.7          512            2  \n",
              "..                    ...          ...          ...  \n",
              "291                   5.0          512            2  \n",
              "333                   4.5          512            2  \n",
              "63                    4.2          512            2  \n",
              "50                    4.4          512            2  \n",
              "155                   4.7          512            2  \n",
              "\n",
              "[104 rows x 42 columns]"
            ],
            "text/html": [
              "\n",
              "  <div id=\"df-3c7958c3-bef3-49dd-8298-ce9b49426691\">\n",
              "    <div class=\"colab-df-container\">\n",
              "      <div>\n",
              "<style scoped>\n",
              "    .dataframe tbody tr th:only-of-type {\n",
              "        vertical-align: middle;\n",
              "    }\n",
              "\n",
              "    .dataframe tbody tr th {\n",
              "        vertical-align: top;\n",
              "    }\n",
              "\n",
              "    .dataframe thead th {\n",
              "        text-align: right;\n",
              "    }\n",
              "</style>\n",
              "<table border=\"1\" class=\"dataframe\">\n",
              "  <thead>\n",
              "    <tr style=\"text-align: right;\">\n",
              "      <th></th>\n",
              "      <th>Weight(kg)</th>\n",
              "      <th>Screen Size(inch)</th>\n",
              "      <th>Resolution</th>\n",
              "      <th>OS_Windows 10 Home</th>\n",
              "      <th>OS_Windows 10 Pro</th>\n",
              "      <th>OS_Windows 11 Home</th>\n",
              "      <th>OS_macOS</th>\n",
              "      <th>OS_Chrome OS</th>\n",
              "      <th>OS_DOS</th>\n",
              "      <th>OS_ESHELL</th>\n",
              "      <th>...</th>\n",
              "      <th>GPU_NVIDIA GeForce RTX SUPER</th>\n",
              "      <th>GPU_NVIDIA Quadro RTX 3000</th>\n",
              "      <th>GPU_NVIDIA GeForce GTX 1660</th>\n",
              "      <th>GPU_NVIDIA GeForce RTX2070</th>\n",
              "      <th>GPU_NVIDIA GeForce GTX 3060</th>\n",
              "      <th>GPU_NVIDIA RTX A3000</th>\n",
              "      <th>RAM(GB)</th>\n",
              "      <th>Processor Speed(GHz)</th>\n",
              "      <th>Storage(GB)</th>\n",
              "      <th>StorageType</th>\n",
              "    </tr>\n",
              "  </thead>\n",
              "  <tbody>\n",
              "    <tr>\n",
              "      <th>258</th>\n",
              "      <td>1.60</td>\n",
              "      <td>14.2</td>\n",
              "      <td>9</td>\n",
              "      <td>0</td>\n",
              "      <td>0</td>\n",
              "      <td>0</td>\n",
              "      <td>1</td>\n",
              "      <td>0</td>\n",
              "      <td>0</td>\n",
              "      <td>0</td>\n",
              "      <td>...</td>\n",
              "      <td>0</td>\n",
              "      <td>0</td>\n",
              "      <td>0</td>\n",
              "      <td>0</td>\n",
              "      <td>0</td>\n",
              "      <td>0</td>\n",
              "      <td>32</td>\n",
              "      <td>3.4</td>\n",
              "      <td>2000</td>\n",
              "      <td>2</td>\n",
              "    </tr>\n",
              "    <tr>\n",
              "      <th>319</th>\n",
              "      <td>1.32</td>\n",
              "      <td>14.0</td>\n",
              "      <td>1</td>\n",
              "      <td>0</td>\n",
              "      <td>1</td>\n",
              "      <td>0</td>\n",
              "      <td>0</td>\n",
              "      <td>0</td>\n",
              "      <td>0</td>\n",
              "      <td>0</td>\n",
              "      <td>...</td>\n",
              "      <td>0</td>\n",
              "      <td>0</td>\n",
              "      <td>0</td>\n",
              "      <td>0</td>\n",
              "      <td>0</td>\n",
              "      <td>0</td>\n",
              "      <td>8</td>\n",
              "      <td>4.7</td>\n",
              "      <td>512</td>\n",
              "      <td>2</td>\n",
              "    </tr>\n",
              "    <tr>\n",
              "      <th>335</th>\n",
              "      <td>1.36</td>\n",
              "      <td>14.0</td>\n",
              "      <td>1</td>\n",
              "      <td>0</td>\n",
              "      <td>1</td>\n",
              "      <td>0</td>\n",
              "      <td>0</td>\n",
              "      <td>0</td>\n",
              "      <td>0</td>\n",
              "      <td>0</td>\n",
              "      <td>...</td>\n",
              "      <td>0</td>\n",
              "      <td>0</td>\n",
              "      <td>0</td>\n",
              "      <td>0</td>\n",
              "      <td>0</td>\n",
              "      <td>0</td>\n",
              "      <td>16</td>\n",
              "      <td>4.9</td>\n",
              "      <td>512</td>\n",
              "      <td>2</td>\n",
              "    </tr>\n",
              "    <tr>\n",
              "      <th>337</th>\n",
              "      <td>1.20</td>\n",
              "      <td>13.3</td>\n",
              "      <td>1</td>\n",
              "      <td>0</td>\n",
              "      <td>1</td>\n",
              "      <td>0</td>\n",
              "      <td>0</td>\n",
              "      <td>0</td>\n",
              "      <td>0</td>\n",
              "      <td>0</td>\n",
              "      <td>...</td>\n",
              "      <td>0</td>\n",
              "      <td>0</td>\n",
              "      <td>0</td>\n",
              "      <td>0</td>\n",
              "      <td>0</td>\n",
              "      <td>0</td>\n",
              "      <td>16</td>\n",
              "      <td>4.2</td>\n",
              "      <td>512</td>\n",
              "      <td>2</td>\n",
              "    </tr>\n",
              "    <tr>\n",
              "      <th>301</th>\n",
              "      <td>1.38</td>\n",
              "      <td>14.0</td>\n",
              "      <td>1</td>\n",
              "      <td>0</td>\n",
              "      <td>1</td>\n",
              "      <td>0</td>\n",
              "      <td>0</td>\n",
              "      <td>0</td>\n",
              "      <td>0</td>\n",
              "      <td>0</td>\n",
              "      <td>...</td>\n",
              "      <td>0</td>\n",
              "      <td>0</td>\n",
              "      <td>0</td>\n",
              "      <td>0</td>\n",
              "      <td>0</td>\n",
              "      <td>0</td>\n",
              "      <td>16</td>\n",
              "      <td>4.7</td>\n",
              "      <td>512</td>\n",
              "      <td>2</td>\n",
              "    </tr>\n",
              "    <tr>\n",
              "      <th>...</th>\n",
              "      <td>...</td>\n",
              "      <td>...</td>\n",
              "      <td>...</td>\n",
              "      <td>...</td>\n",
              "      <td>...</td>\n",
              "      <td>...</td>\n",
              "      <td>...</td>\n",
              "      <td>...</td>\n",
              "      <td>...</td>\n",
              "      <td>...</td>\n",
              "      <td>...</td>\n",
              "      <td>...</td>\n",
              "      <td>...</td>\n",
              "      <td>...</td>\n",
              "      <td>...</td>\n",
              "      <td>...</td>\n",
              "      <td>...</td>\n",
              "      <td>...</td>\n",
              "      <td>...</td>\n",
              "      <td>...</td>\n",
              "      <td>...</td>\n",
              "    </tr>\n",
              "    <tr>\n",
              "      <th>291</th>\n",
              "      <td>1.50</td>\n",
              "      <td>14.0</td>\n",
              "      <td>1</td>\n",
              "      <td>1</td>\n",
              "      <td>0</td>\n",
              "      <td>0</td>\n",
              "      <td>0</td>\n",
              "      <td>0</td>\n",
              "      <td>0</td>\n",
              "      <td>0</td>\n",
              "      <td>...</td>\n",
              "      <td>0</td>\n",
              "      <td>0</td>\n",
              "      <td>0</td>\n",
              "      <td>0</td>\n",
              "      <td>0</td>\n",
              "      <td>0</td>\n",
              "      <td>16</td>\n",
              "      <td>5.0</td>\n",
              "      <td>512</td>\n",
              "      <td>2</td>\n",
              "    </tr>\n",
              "    <tr>\n",
              "      <th>333</th>\n",
              "      <td>2.20</td>\n",
              "      <td>17.3</td>\n",
              "      <td>1</td>\n",
              "      <td>1</td>\n",
              "      <td>0</td>\n",
              "      <td>0</td>\n",
              "      <td>0</td>\n",
              "      <td>0</td>\n",
              "      <td>0</td>\n",
              "      <td>0</td>\n",
              "      <td>...</td>\n",
              "      <td>0</td>\n",
              "      <td>0</td>\n",
              "      <td>0</td>\n",
              "      <td>0</td>\n",
              "      <td>0</td>\n",
              "      <td>0</td>\n",
              "      <td>16</td>\n",
              "      <td>4.5</td>\n",
              "      <td>512</td>\n",
              "      <td>2</td>\n",
              "    </tr>\n",
              "    <tr>\n",
              "      <th>63</th>\n",
              "      <td>1.30</td>\n",
              "      <td>13.3</td>\n",
              "      <td>1</td>\n",
              "      <td>1</td>\n",
              "      <td>0</td>\n",
              "      <td>0</td>\n",
              "      <td>0</td>\n",
              "      <td>0</td>\n",
              "      <td>0</td>\n",
              "      <td>0</td>\n",
              "      <td>...</td>\n",
              "      <td>0</td>\n",
              "      <td>0</td>\n",
              "      <td>0</td>\n",
              "      <td>0</td>\n",
              "      <td>0</td>\n",
              "      <td>0</td>\n",
              "      <td>8</td>\n",
              "      <td>4.2</td>\n",
              "      <td>512</td>\n",
              "      <td>2</td>\n",
              "    </tr>\n",
              "    <tr>\n",
              "      <th>50</th>\n",
              "      <td>2.00</td>\n",
              "      <td>15.6</td>\n",
              "      <td>1</td>\n",
              "      <td>1</td>\n",
              "      <td>0</td>\n",
              "      <td>0</td>\n",
              "      <td>0</td>\n",
              "      <td>0</td>\n",
              "      <td>0</td>\n",
              "      <td>0</td>\n",
              "      <td>...</td>\n",
              "      <td>0</td>\n",
              "      <td>0</td>\n",
              "      <td>0</td>\n",
              "      <td>0</td>\n",
              "      <td>0</td>\n",
              "      <td>0</td>\n",
              "      <td>8</td>\n",
              "      <td>4.4</td>\n",
              "      <td>512</td>\n",
              "      <td>2</td>\n",
              "    </tr>\n",
              "    <tr>\n",
              "      <th>155</th>\n",
              "      <td>2.60</td>\n",
              "      <td>17.3</td>\n",
              "      <td>13</td>\n",
              "      <td>0</td>\n",
              "      <td>0</td>\n",
              "      <td>1</td>\n",
              "      <td>0</td>\n",
              "      <td>0</td>\n",
              "      <td>0</td>\n",
              "      <td>0</td>\n",
              "      <td>...</td>\n",
              "      <td>0</td>\n",
              "      <td>0</td>\n",
              "      <td>0</td>\n",
              "      <td>0</td>\n",
              "      <td>0</td>\n",
              "      <td>0</td>\n",
              "      <td>8</td>\n",
              "      <td>4.7</td>\n",
              "      <td>512</td>\n",
              "      <td>2</td>\n",
              "    </tr>\n",
              "  </tbody>\n",
              "</table>\n",
              "<p>104 rows × 42 columns</p>\n",
              "</div>\n",
              "      <button class=\"colab-df-convert\" onclick=\"convertToInteractive('df-3c7958c3-bef3-49dd-8298-ce9b49426691')\"\n",
              "              title=\"Convert this dataframe to an interactive table.\"\n",
              "              style=\"display:none;\">\n",
              "        \n",
              "  <svg xmlns=\"http://www.w3.org/2000/svg\" height=\"24px\"viewBox=\"0 0 24 24\"\n",
              "       width=\"24px\">\n",
              "    <path d=\"M0 0h24v24H0V0z\" fill=\"none\"/>\n",
              "    <path d=\"M18.56 5.44l.94 2.06.94-2.06 2.06-.94-2.06-.94-.94-2.06-.94 2.06-2.06.94zm-11 1L8.5 8.5l.94-2.06 2.06-.94-2.06-.94L8.5 2.5l-.94 2.06-2.06.94zm10 10l.94 2.06.94-2.06 2.06-.94-2.06-.94-.94-2.06-.94 2.06-2.06.94z\"/><path d=\"M17.41 7.96l-1.37-1.37c-.4-.4-.92-.59-1.43-.59-.52 0-1.04.2-1.43.59L10.3 9.45l-7.72 7.72c-.78.78-.78 2.05 0 2.83L4 21.41c.39.39.9.59 1.41.59.51 0 1.02-.2 1.41-.59l7.78-7.78 2.81-2.81c.8-.78.8-2.07 0-2.86zM5.41 20L4 18.59l7.72-7.72 1.47 1.35L5.41 20z\"/>\n",
              "  </svg>\n",
              "      </button>\n",
              "      \n",
              "  <style>\n",
              "    .colab-df-container {\n",
              "      display:flex;\n",
              "      flex-wrap:wrap;\n",
              "      gap: 12px;\n",
              "    }\n",
              "\n",
              "    .colab-df-convert {\n",
              "      background-color: #E8F0FE;\n",
              "      border: none;\n",
              "      border-radius: 50%;\n",
              "      cursor: pointer;\n",
              "      display: none;\n",
              "      fill: #1967D2;\n",
              "      height: 32px;\n",
              "      padding: 0 0 0 0;\n",
              "      width: 32px;\n",
              "    }\n",
              "\n",
              "    .colab-df-convert:hover {\n",
              "      background-color: #E2EBFA;\n",
              "      box-shadow: 0px 1px 2px rgba(60, 64, 67, 0.3), 0px 1px 3px 1px rgba(60, 64, 67, 0.15);\n",
              "      fill: #174EA6;\n",
              "    }\n",
              "\n",
              "    [theme=dark] .colab-df-convert {\n",
              "      background-color: #3B4455;\n",
              "      fill: #D2E3FC;\n",
              "    }\n",
              "\n",
              "    [theme=dark] .colab-df-convert:hover {\n",
              "      background-color: #434B5C;\n",
              "      box-shadow: 0px 1px 3px 1px rgba(0, 0, 0, 0.15);\n",
              "      filter: drop-shadow(0px 1px 2px rgba(0, 0, 0, 0.3));\n",
              "      fill: #FFFFFF;\n",
              "    }\n",
              "  </style>\n",
              "\n",
              "      <script>\n",
              "        const buttonEl =\n",
              "          document.querySelector('#df-3c7958c3-bef3-49dd-8298-ce9b49426691 button.colab-df-convert');\n",
              "        buttonEl.style.display =\n",
              "          google.colab.kernel.accessAllowed ? 'block' : 'none';\n",
              "\n",
              "        async function convertToInteractive(key) {\n",
              "          const element = document.querySelector('#df-3c7958c3-bef3-49dd-8298-ce9b49426691');\n",
              "          const dataTable =\n",
              "            await google.colab.kernel.invokeFunction('convertToInteractive',\n",
              "                                                     [key], {});\n",
              "          if (!dataTable) return;\n",
              "\n",
              "          const docLinkHtml = 'Like what you see? Visit the ' +\n",
              "            '<a target=\"_blank\" href=https://colab.research.google.com/notebooks/data_table.ipynb>data table notebook</a>'\n",
              "            + ' to learn more about interactive tables.';\n",
              "          element.innerHTML = '';\n",
              "          dataTable['output_type'] = 'display_data';\n",
              "          await google.colab.output.renderOutput(dataTable, element);\n",
              "          const docLink = document.createElement('div');\n",
              "          docLink.innerHTML = docLinkHtml;\n",
              "          element.appendChild(docLink);\n",
              "        }\n",
              "      </script>\n",
              "    </div>\n",
              "  </div>\n",
              "  "
            ]
          },
          "metadata": {},
          "execution_count": 66
        }
      ]
    },
    {
      "cell_type": "markdown",
      "source": [
        "`max_depth` is maximum depth of tree\n",
        "\n",
        "`min_impurity_decrease` is minimum number to indicate the growing of tree. If split can not decrease impurify more than the set data this will cause the tree to stops growing, because this means nodes will not be purer.\n",
        "\n",
        "`min_samples_leaf` is the minimum number of samples required to be a leaf node.; in this case is 5. This mean after split the node if all branches contain less than 5 samples it will not split the node. This parameter can help smoothing the model."
      ],
      "metadata": {
        "id": "EdngFNUHvpjC"
      }
    },
    {
      "cell_type": "code",
      "source": [
        "dt = DecisionTreeRegressor(max_depth=17, min_samples_leaf=4, min_impurity_decrease=0.0005, random_state=44)\n",
        "dt.fit(X_train2, y_train)"
      ],
      "metadata": {
        "colab": {
          "base_uri": "https://localhost:8080/"
        },
        "id": "MhozQbyu88Kn",
        "outputId": "8b7d4e0f-4bc3-45c9-b8e4-bbd064ccaf60"
      },
      "execution_count": 67,
      "outputs": [
        {
          "output_type": "execute_result",
          "data": {
            "text/plain": [
              "DecisionTreeRegressor(max_depth=17, min_impurity_decrease=0.0005,\n",
              "                      min_samples_leaf=4, random_state=44)"
            ]
          },
          "metadata": {},
          "execution_count": 67
        }
      ]
    },
    {
      "cell_type": "markdown",
      "source": [
        "# Score testing\n",
        "\n",
        "*   MAE (mean absolute error)\n",
        "*   RMSE (Root mean squared error)\n",
        "*   R2 ( R-Square)"
      ],
      "metadata": {
        "id": "-K_8xxSB63hZ"
      }
    },
    {
      "cell_type": "code",
      "source": [
        "y_pred = dt.predict(X_test2)"
      ],
      "metadata": {
        "id": "PVk5aBk39YF_"
      },
      "execution_count": 68,
      "outputs": []
    },
    {
      "cell_type": "code",
      "source": [
        "mae = mean_absolute_error(y_test, y_pred)\n",
        "mae"
      ],
      "metadata": {
        "colab": {
          "base_uri": "https://localhost:8080/"
        },
        "id": "_gJzMhtN-rJ1",
        "outputId": "077a49b8-ffc3-406c-a6be-8408d3a76510"
      },
      "execution_count": 69,
      "outputs": [
        {
          "output_type": "execute_result",
          "data": {
            "text/plain": [
              "8325.933241758241"
            ]
          },
          "metadata": {},
          "execution_count": 69
        }
      ]
    },
    {
      "cell_type": "code",
      "source": [
        "rmse = mean_squared_error(y_test, y_pred, squared=False)\n",
        "rmse"
      ],
      "metadata": {
        "colab": {
          "base_uri": "https://localhost:8080/"
        },
        "id": "WdR8D8SIK22h",
        "outputId": "811ab65d-64a4-4866-f6e7-91bb115c5e54"
      },
      "execution_count": 70,
      "outputs": [
        {
          "output_type": "execute_result",
          "data": {
            "text/plain": [
              "13136.039171530165"
            ]
          },
          "metadata": {},
          "execution_count": 70
        }
      ]
    },
    {
      "cell_type": "code",
      "source": [
        "r2 = cross_val_score(dt, X_test2, y_test, scoring='r2', cv=5)\n",
        "r2 = r2.mean()"
      ],
      "metadata": {
        "id": "TS4pil8V_Ffp"
      },
      "execution_count": 71,
      "outputs": []
    },
    {
      "cell_type": "markdown",
      "source": [
        "Check R-square score for train dataset.\n",
        "\n",
        "this is to compare the score for train and test dataset to check if the model is overfitting or underfitting."
      ],
      "metadata": {
        "id": "UTH2-1Z-7Gw9"
      }
    },
    {
      "cell_type": "code",
      "source": [
        "y_predtr = dt.predict(X_train2)"
      ],
      "metadata": {
        "id": "0ZfLqIr37Hbd"
      },
      "execution_count": 72,
      "outputs": []
    },
    {
      "cell_type": "code",
      "source": [
        "r2tr = cross_val_score(dt, X_train2, y_train, scoring='r2', cv=5)\n",
        "r2tr = r2tr.mean()"
      ],
      "metadata": {
        "id": "GfsmB0na7LL5"
      },
      "execution_count": 73,
      "outputs": []
    },
    {
      "cell_type": "code",
      "source": [
        "print('Performance score of test set: ' + str(r2))\n",
        "print('Performance score of train set: ' + str(r2tr))\n",
        "print('Overfitting?: ' + str(r2tr-r2))"
      ],
      "metadata": {
        "colab": {
          "base_uri": "https://localhost:8080/"
        },
        "id": "hoqEiwLe7ORr",
        "outputId": "1e000d2a-c24c-4386-f689-7b64113ad6d8"
      },
      "execution_count": 74,
      "outputs": [
        {
          "output_type": "stream",
          "name": "stdout",
          "text": [
            "Performance score of test set: 0.5504839556819061\n",
            "Performance score of train set: 0.7423409464835375\n",
            "Overfitting?: 0.19185699080163143\n"
          ]
        }
      ]
    },
    {
      "cell_type": "code",
      "source": [
        "# for i in range (1,21):\n",
        "#   dt = DecisionTreeRegressor(max_depth=i, random_state=44)\n",
        "#   dt.fit(X_train2, y_train)\n",
        "#   y_pred = dt.predict(X_test2)\n",
        "#   rmse = mean_squared_error(y_test, y_pred, squared=False)\n",
        "#   r2 = r2_score(y_test, y_pred)\n",
        "#   y_predtr = dt.predict(X_train2)\n",
        "#   r2tr = r2_score(y_train, y_predtr)\n",
        "#   Dif = r2-r2tr\n",
        "#   print('TEST SCORE(depth=%d)\\n' %i + 'R2: %f\\n' %r2 + 'R2tr: %f\\n' %r2tr + 'R2-R2tr: %f\\n' %Dif + 'RMSE: %f\\n\\n' %rmse + '---------------\\n')"
      ],
      "metadata": {
        "id": "X0eclegFVfNv"
      },
      "execution_count": 75,
      "outputs": []
    },
    {
      "cell_type": "code",
      "source": [
        "# hacc = 0\n",
        "# best = 0\n",
        "# for i in range (5,75,5):\n",
        "#   dt = DecisionTreeRegressor(min_samples_split=i, random_state=44)\n",
        "#   dt.fit(X_train2, y_train)\n",
        "#   y_pred = dt.predict(X_test2)\n",
        "#   rmse = mean_squared_error(y_test, y_pred, squared=False)\n",
        "#   r2 = r2_score(y_test, y_pred)\n",
        "#   y_predtr = dt.predict(X_train2)\n",
        "#   r2tr = r2_score(y_train, y_predtr)\n",
        "#   Dif = r2-r2tr\n",
        "#   print('TEST SCORE(min_samples_split=%d)\\n' %i + 'R2: %f\\n' %r2 + 'R2tr: %f\\n' %r2tr + 'R2-R2tr: %f\\n' %Dif + 'RMSE: %f\\n\\n' %rmse + '---------------\\n')\n",
        "#   if r2 > hacc:\n",
        "#     hacc = r2\n",
        "#     best = i\n",
        "# print('best: %d\\n' %best + 'hacc: %f' %hacc)"
      ],
      "metadata": {
        "id": "WaK4ThX0dGZo"
      },
      "execution_count": 76,
      "outputs": []
    },
    {
      "cell_type": "code",
      "source": [
        "# hacc = 0\n",
        "# best = 0\n",
        "# for i in range (5,120,5):\n",
        "#   dt = DecisionTreeRegressor(min_samples_leaf=i, random_state=44)\n",
        "#   dt.fit(X_train2, y_train)\n",
        "#   y_pred = dt.predict(X_test2)\n",
        "#   rmse = mean_squared_error(y_test, y_pred, squared=False)\n",
        "#   r2 = r2_score(y_test, y_pred)\n",
        "#   y_predtr = dt.predict(X_train2)\n",
        "#   r2tr = r2_score(y_train, y_predtr)\n",
        "#   Dif = r2-r2tr\n",
        "#   print('TEST SCORE(min_samples_leaf=%d)\\n' %i + 'R2: %f\\n' %r2 + 'R2tr: %f\\n' %r2tr + 'R2-R2tr: %f\\n' %Dif + 'RMSE: %f\\n\\n' %rmse + '---------------\\n')\n",
        "#   if r2 > hacc:\n",
        "#     hacc = r2\n",
        "#     best = i\n",
        "# print('best: %d\\n' %best + 'hacc: %f' %hacc)"
      ],
      "metadata": {
        "id": "4upN93Ubfyl1"
      },
      "execution_count": 77,
      "outputs": []
    },
    {
      "cell_type": "code",
      "source": [
        "# hacc = 0\n",
        "# best = 0\n",
        "# for i in range (2,21):\n",
        "#   dt = DecisionTreeRegressor(max_leaf_nodes=i, random_state=44)\n",
        "#   dt.fit(X_train2, y_train)\n",
        "#   y_pred = dt.predict(X_test2)\n",
        "#   rmse = mean_squared_error(y_test, y_pred, squared=False)\n",
        "#   r2 = r2_score(y_test, y_pred)\n",
        "#   y_predtr = dt.predict(X_train2)\n",
        "#   r2tr = r2_score(y_train, y_predtr)\n",
        "#   Dif = r2-r2tr\n",
        "#   print('TEST SCORE(max_leaf_nodes=%d)\\n' %i + 'R2: %f\\n' %r2 + 'R2tr: %f\\n' %r2tr + 'R2-R2tr: %f\\n' %Dif + 'RMSE: %f\\n\\n' %rmse + '---------------\\n')\n",
        "#   if r2 > hacc:\n",
        "#     hacc = r2\n",
        "#     best = i\n",
        "# print('best: %d\\n' %best + 'hacc: %f' %hacc)"
      ],
      "metadata": {
        "id": "rXAdbb39gzU4"
      },
      "execution_count": 78,
      "outputs": []
    },
    {
      "cell_type": "markdown",
      "source": [
        "# K-folds"
      ],
      "metadata": {
        "id": "xScH2savvDm8"
      }
    },
    {
      "cell_type": "code",
      "source": [
        "len(X_train2.columns)"
      ],
      "metadata": {
        "colab": {
          "base_uri": "https://localhost:8080/"
        },
        "id": "qoKSsPKNvDBz",
        "outputId": "2647a131-dca5-4623-bc82-32232be8827a"
      },
      "execution_count": 79,
      "outputs": [
        {
          "output_type": "execute_result",
          "data": {
            "text/plain": [
              "42"
            ]
          },
          "metadata": {},
          "execution_count": 79
        }
      ]
    },
    {
      "cell_type": "markdown",
      "source": [
        "`KFold` is fuction in sklearn to split data into train and test.\n",
        "*   each fold is used as a test data while the remaining folds used as a train data.\n",
        "\n",
        "> `n_splits` is the number of folds; in this case is 5\n",
        "\n",
        "\n",
        "---\n",
        "\n",
        "\n",
        "`RFE` (Recursive Feature Elimination) is wrapper method. It a type of backward selection method but it assign weights to features as well.\n",
        "\n",
        "---\n",
        "\n",
        "\n",
        "`GridSearchCV` is use to get the mean of train and test score for different train and test data.\n",
        "\n",
        "> `estimator` we use rfe to select the best set of feature for each different number of features to select.\n",
        "\n",
        "> `param_grid` listd of parameter settings; in this case we change only number of features to select in model.\n",
        "\n",
        "> `scoring` use r2 method to calculate the score.\n",
        "\n",
        "> `cv` determines the splitting strategy.\n",
        "\n",
        "> `verbose` use to control how much the message result will appear.\n",
        "\n",
        "> `return_train_score` to indicate that should it return the training score or not."
      ],
      "metadata": {
        "id": "2V6lidmYeFZv"
      }
    },
    {
      "cell_type": "code",
      "source": [
        "# #folds = KFold(n_splits = 5)\n",
        "\n",
        "# hyper_params = [{'n_features_to_select': list(range(1, 42))}]\n",
        "# rfe = RFE(dt)             \n",
        "\n",
        "# model_cv = GridSearchCV(estimator = rfe, \n",
        "#                         param_grid = hyper_params, \n",
        "#                         scoring= 'r2', \n",
        "#                         #cv = folds, \n",
        "#                         verbose = 1,\n",
        "#                         return_train_score=True)      \n",
        "\n",
        "# model_cv.fit(X_train2, y_train)"
      ],
      "metadata": {
        "id": "pAatz7y-vHns"
      },
      "execution_count": 80,
      "outputs": []
    },
    {
      "cell_type": "code",
      "source": [
        "# cv_results = pd.DataFrame(model_cv.cv_results_)"
      ],
      "metadata": {
        "id": "DUu-Ioqiv5Ov"
      },
      "execution_count": 81,
      "outputs": []
    },
    {
      "cell_type": "markdown",
      "source": [
        "<h3> Plotting the cv results\n",
        "\n",
        "`plt.figure` to create a new figure (figsize=(W,H))\n",
        "\n",
        "`plt.plot` to plot(x,y)\n",
        "\n",
        "`plt.xlabel` to set x-axis label\n",
        "\n",
        "`plt.ylabel` to set y-axis label\n",
        "\n",
        "`plt.title` to set the title of the graph\n",
        "\n",
        "`plt.legend` generate graph legend of each line on graph with `loc` to specify the location to place."
      ],
      "metadata": {
        "id": "mTzN3NrRgnHK"
      }
    },
    {
      "cell_type": "code",
      "source": [
        "# plt.figure(figsize=(16,6))\n",
        "\n",
        "# plt.plot(cv_results[\"param_n_features_to_select\"], cv_results[\"mean_test_score\"])\n",
        "# plt.plot(cv_results[\"param_n_features_to_select\"], cv_results[\"mean_train_score\"])\n",
        "# plt.xlabel('number of features')\n",
        "# plt.ylabel('r-squared score')\n",
        "# plt.title(\"Optimal Number of Features\")\n",
        "# plt.legend(['test score', 'train score'], loc='upper left')"
      ],
      "metadata": {
        "id": "zZn69gP9wDLp"
      },
      "execution_count": 82,
      "outputs": []
    },
    {
      "cell_type": "markdown",
      "source": [
        "# Test"
      ],
      "metadata": {
        "id": "ApZb1M6cDRky"
      }
    },
    {
      "cell_type": "code",
      "source": [
        "laptop2['GPU'].unique()"
      ],
      "metadata": {
        "colab": {
          "base_uri": "https://localhost:8080/"
        },
        "id": "QCeduaqAR7ss",
        "outputId": "cb22517f-6447-4e6c-9892-bf8edeb603a9"
      },
      "execution_count": 83,
      "outputs": [
        {
          "output_type": "execute_result",
          "data": {
            "text/plain": [
              "array(['Apple M1 Max 32-Core GPU', 'Apple M1 Pro 16-Core GPU',\n",
              "       'Apple M1 Pro 14-Core GPU', 'Apple M1 8-Core GPU',\n",
              "       'Apple M1 7-Core GPU', 'Intel Iris Xe Graphics',\n",
              "       'NVIDIA GeForce GTX 1650', 'AMD Radeon Graphics',\n",
              "       'NVIDIA GeForce MX330', 'NVIDIA GeForce RTX 3050',\n",
              "       'Intel UHD Graphics', 'NVIDIA GeForce RTX 3070',\n",
              "       'NVIDIA GeForce RTX 3080', 'NVIDIA RTX A3000',\n",
              "       'NVIDIA GeForce MX350', 'NVIDIA Quadro RTX 3000',\n",
              "       'NVIDIA GeForce RTX Super', 'NVIDIA GeForce RTX 3060',\n",
              "       'NVIDIA GeForce MX150', 'NVIDIA GeForce RTX 2070',\n",
              "       'NVIDIA GeForce GTX 1660', 'NVIDIA GeForce MX250',\n",
              "       'NVIDIA GeForce MX230', 'NVIDIA GeForce RTX 2060',\n",
              "       'NVIDIA GeForce RTX2070', 'NVIDIA GeForce RTX SUPER',\n",
              "       'NVIDIA GeForce GTX 3060', 'NVIDIA T600', 'NVIDIA GeForce MX450'],\n",
              "      dtype=object)"
            ]
          },
          "metadata": {},
          "execution_count": 83
        }
      ]
    },
    {
      "cell_type": "markdown",
      "source": [
        "![101.PNG](data:image/png;base64,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)"
      ],
      "metadata": {
        "id": "g_A-ZSkBDT5d"
      }
    },
    {
      "cell_type": "code",
      "source": [
        "LT = pd.DataFrame([{\n",
        "                    'Weight(kg)': 1.31,\n",
        "                    'Screen Size(inch)': 13.3,\n",
        "                    'Resolution': 1,\n",
        "                    'OS': 'Windows 11 Home',\n",
        "                    'GPU': 'Intel Iris Xe Graphics',\n",
        "                    'RAM(GB)': 16,\n",
        "                    'Processor Speed(GHz)': 4.2,\n",
        "                    'Storage(GB)': 512,\n",
        "                    'StorageType': 2\n",
        "                   }\n",
        "])\n",
        "\n",
        "X_custom = LT[['Weight(kg)',\n",
        "               'Screen Size(inch)',\n",
        "               'Resolution',\n",
        "               'OS',\n",
        "               'GPU',\n",
        "               'RAM(GB)',\n",
        "               'Processor Speed(GHz)',\n",
        "               'Storage(GB)',\n",
        "               'StorageType']]\n",
        "X_custom = encoder.transform(X_custom)\n",
        "\n",
        "y_predd = dt.predict(X_custom)\n",
        "print('Price: 33990 baht\\n' + 'Predicted Price: %d baht\\n' %y_predd + 'Different: %d baht' %abs(33990-y_predd))"
      ],
      "metadata": {
        "colab": {
          "base_uri": "https://localhost:8080/"
        },
        "id": "uN9LxZKz6O02",
        "outputId": "bacf0cf2-6ab1-47d6-914e-c71e0d788061"
      },
      "execution_count": 84,
      "outputs": [
        {
          "output_type": "stream",
          "name": "stdout",
          "text": [
            "Price: 33990 baht\n",
            "Predicted Price: 41515 baht\n",
            "Different: 7525 baht\n"
          ]
        }
      ]
    },
    {
      "cell_type": "markdown",
      "source": [
        "![158.PNG](data:image/png;base64,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)"
      ],
      "metadata": {
        "id": "3eFSaz12DWX-"
      }
    },
    {
      "cell_type": "code",
      "source": [
        "LT = pd.DataFrame([{\n",
        "                    'Weight(kg)': 2.1,\n",
        "                    'Screen Size(inch)': 15.6,\n",
        "                    'Resolution': 13,\n",
        "                    'OS': 'Windows 11 Home',\n",
        "                    'GPU': 'NVIDIA GeForce RTX 3080',\n",
        "                    'RAM(GB)': 64,\n",
        "                    'Processor Speed(GHz)': 5,\n",
        "                    'Storage(GB)': 2000,\n",
        "                    'StorageType': 2\n",
        "                   }\n",
        "])\n",
        "\n",
        "X_custom = LT[['Weight(kg)',\n",
        "               'Screen Size(inch)',\n",
        "               'Resolution',\n",
        "               'OS',\n",
        "               'GPU',\n",
        "               'RAM(GB)',\n",
        "               'Processor Speed(GHz)',\n",
        "               'Storage(GB)',\n",
        "               'StorageType']]\n",
        "X_custom = encoder.transform(X_custom)\n",
        "\n",
        "y_predd = dt.predict(X_custom)\n",
        "print('Price: 164990 baht\\n' + 'Predicted Price: %d baht\\n' %y_predd + 'Different: %d baht' %abs(164990-y_predd))"
      ],
      "metadata": {
        "colab": {
          "base_uri": "https://localhost:8080/"
        },
        "id": "YncteWsPDYp3",
        "outputId": "d6a2b272-eae7-4647-dd74-2a45cba85187"
      },
      "execution_count": 85,
      "outputs": [
        {
          "output_type": "stream",
          "name": "stdout",
          "text": [
            "Price: 164990 baht\n",
            "Predicted Price: 155945 baht\n",
            "Different: 9045 baht\n"
          ]
        }
      ]
    },
    {
      "cell_type": "markdown",
      "source": [
        "![172.PNG](data:image/png;base64,iVBORw0KGgoAAAANSUhEUgAABu4AAAAzCAYAAAB4+/6QAAAAAXNSR0IArs4c6QAAAARnQU1BAACxjwv8YQUAAAAJcEhZcwAAEnQAABJ0Ad5mH3gAAEP8SURBVHhe7X1NaF3XlqYGGWiQgQYZaOBBBBk8QwY2ZGBBJhFkEEEGEWRgQeg2ag+MCE0QgTYiNTDq0ARhmiDS4BLuwpRM4UKuaj/kR6dK7lS5+jppv3f1Hk5JCQ6ywYFr8OAOPNAgg93r2z/n7L3P3ufn6txzz5XXB8fWPff8futba6+19z7nTvzTP/2TeFXw448/6r8YeWCeGIxisJ8UgzmqDuasGMxRFszJeIDtVA3M13iC7dZusH0YAOuAcRLAOi4P5ooBsA6qgzmrDuasPoBLHrhjZMA8MRjFYD8pBnNUHcxZMZijLJiT8QDbqRqYr/EE263dYPswANYB4ySAdVwezBUDYB1UB3NWHcxZfQCXPHDHyIB5YjCKwX5SDOaoOpizYjBHWTAn4wG2UzUwX+MJtlu7wfZhAKwDxkkA67g8mCsGwDqoDuasOpiz+gAueeCOkQHzxGAUg/2kGMxRdTBnxWCOsmBOxgNsp2pgvsYTbLd2g+3DAFgHjJMA1nF5MFcMgHVQHcxZdTBn9QFc8sAdIwPmicEoBvtJMZij6mDOisEcZcGcjAfYTtXAfI0n2G7tBtuHAbAOGCcBrOPyYK4YAOugOpiz6mDO6gO45IE7RgbME4NRDPaTYjBH1cGcFYM5yoI5GQ+wnaqB+RpPsN3aDbYPA2AdME4CWMflwVwxANZBdTBn1cGc1QdwyQN3jAyYJwajGOwnxWCOqoM5KwZzlAVzMh5gO1UD8zWeYLu1G2wfBsA6YJwEsI7Lg7liAKyD6mDOqoM5qw/gkgfuGBkwTwxGMdhPisEcVQdzVgzmKAvmZDzAdqoG5ms8wXZrN9g+DIB1wDgJYB2XB3PFAFgH1cGcVQdzVh/AJQ/cjSmO+ofi8ElPHOnPdYKdjMEoRqv85KgvDg8ORe+l/lwCR493xfbdruj9JkT/2aHYf9LX3xThSPQe7IidB8XxZyQc/UbX95i4iNwOYuf+Y7p2uu8g+vti5/aO2C9LRw6OnnQSjstirHT1W090726L3cc1tES/9Usfa1QcFWong/K+UogCfrjdDqFG/nN8oYqfj5WdBmhX6saJ1LVso/bF4Ysa4mZLwfGo3WD7MADWAeMkYCx0XFdtScfZvb078HHY5xtGpk+ixrokhhL19MnQQX1clqnj2Heqo/2cHV9DlfqGjhG/weXxB+5e7ovtL5fFylfb6UX81hO736yKtVv7wwtKA2BY4jl6siPWP10SSxdoubQq1m8O3qCWw5Hofj0vJt9ZFbsv9KoawYFpSHhBvnJ1RSxfJJ18tia2BggSR4+2xPJHS2Lz4VAFxiiBXD/pd8XWFyti/e5hauNnu2L98xWxcb+nVxBedMTG5dUcex6Jw9urYuGTdbFr7ebjaG9dzL0+K9bul9TF0aHYvnRazFzYEocve/T3jJj+hP4uJcgjsX9tQUy/syJ2nulVEZSLJXSPd9fFyhdboptcPp3j5qpYuULtStJpDC7WqK3ZEYe/Em8XF8TKzUAb82xHLL89JRauW9wnoGNcXxBTby9Hrp3Oe31RTJ+JfV8N/Qdkl+m58nYhlOEs0+Zc3xadx/XHhCJd4f7mpyvoLg/Q5MUZMXOxWIdhjsi2d0hHX26TpvUq2PMWaeYqaSbvmMhZvlwUC1/kbVeknQB6u2L13JSY/7pLex8TBfwU64au//6mWINuLi6L1W/qGZyuDcH2ET5fHP+isPkvZeM48nyhip+Xi4nl0bu3IVbAGcWC5c/XxeYtyj+TvPB4/FVuV4aAuvkqgs/n1t190T+283p4Qbp8Z3KguNC7ty4Wz6+K7TomSwwRTdutTvQf7YjNK8tJ+7pxqyN6Ft2Y9LRxWX2/fGWznokrDWOc7VMGfbLR1pcrykaXN8T2Q3Sq9EX3+qqyK7WBK19tip09HRiPqH34ekWsOjkl4qfOOcfPxKVw0nUwVPyGnGqL6jodKyhv2UR7gc67PK1R3beJuu+B1a5Cf5T/rIVqGkYhBtKxbSNaVr4kGyFO6K8VyMZUVyx/uia2D6xvsO+NVbl+K1C/9x5sidVPl61+0EBtmacf9K2aNkjm61TjPdHnp7x25dy0WPhmsLoiylWeZk8EwPcIaiC/TyJUF5L/d29viNVLSovLX2xI7vH90aNtsXaZcvhnqbX7D0lf1K51YuYpUU8X+cxY5DkBLo96XbFzbU3VkrDz1dR38vrry9RxeZy1my8dx3RtYy/LlzdFdwhjCQaVY3OlOET3dZw+AsDpJyjTJviga6jSN3SM+A0ujz1wd/R4SyxNT4iJiQmxeE03UNTgbHw0IWYubVd60mDYqCyekujdXRGn6f5Pf7goFj+eE1P097TsENcb1A4euBs76EZ0YuKsmP+EdPL+jJj+cF10K2qkv7cplt5fFBs8cDdy5PpJvyvWP6A4cHE7SZp6d5bFDOLEpztJXFTr5sS6XcA5wADWipj/eG3wgbt+R6y9R42Eic+Eo4MtsfjmabF8+5AayaoDd7Q/4v5bM2L5VmhwLEXZWHJ42+PhJfH3IdqVebGxp8+g10lOf+2I9fNzYvlGoMi1k2S6t53PTlPyauxQ0MCS3TY+nBKzX+yq4um4kG3htDh7ebd0W1iGM7vNWTo/L/+emCB7hviogKNHG2L+VGqHXF1RgrN7ZVZMfUBxLCbfisB9nT21IDYf5d9FmKO+6Hw5JybsdhHXePmsmHi/4BqpaNr5Yl7MXx584M7nDoB/n35zUWzaBf8xkMdPkW5kUYLc5L0FsfjJgpidJr3caUlRHm0fy8W/GBz+S9k4jlxfqODnZWNiOWjNT0yLufPE20ekdcQCumeVIxyPv1dv4M7lc4HaTfA592WnnvbAoPTAHcWcm4ti5p2VxH69b9fEwkcrPHA3JIBfxMkJiuWLVLgvfnhaauDsp3pCCOUXK+/Q92/NUxxdFPNnaswXGsS42qcM5ISi18hGU7NigWy0AHtNLYqtv+zJvgmzfu4U/T1B8e0eOVeo36Js/jDGOMk6GCow0PblvIwNk+9SToVYQXnLxATVRcirtJ5CWpP106lJd3Ihasb3Kc5QDjFusaQNGEjHno3m34KNzoqVu1aypO2S5AF6dbIv2oqPNty+HFlHqu8mTV3t15YF+lEaoWO8o/N1nOeMmSyr8pSpAeNSlKsczZ4EjKwG8gbuMnUhJnCfV7nm2Y+opr9AWnwbdqA2i/I8Ve9TbWn6QgiHt5bEzBv5tXJRPZ3rM7E8B3WU06cyWvhc9h+R3/wOuj0t5s8viSXjO+inIB+1+04y/fVS//l1XJSzaF6YzeFHAzWJeRlxRt/3xNt0rfR56fMN0WnTwF2lOHS8GhdwNOS3CfBD8r21e3mBtmrf0ODxG1zWOnA38bZuVPSN2wnw0Yt9sXtrS2zd2BLb3+oZJQ2jsnhKwg2qR6J7lRrjN5fENkb49aPxnYe7YpvufWePrNQ/FJ07iostzI7WhlOvruuI/T217RYe2bUCY/9xR62/tSO2vvA6KGvEsHh6pYGGmxqTua9M4nck+i9Sjz3qpf5hZtkkr6F70BE79J30G/Ij6CmZHUGNaPeu2s/xKyo49+9tK415OmLUg1w/QcH/xSzFRB3IzWfESUq+ZQNj1p3TfhyxpYwLd8yMb0ri9sj/YVe9bN87FH3ZwUoFx81dqRUZV3BMaOjmquzEmDm/JjZvYoYZEoklMX1KJYX+wN3RM4ozFGOkxqCjb7WO9LLziHRLMX7z/JSM8XnJW9lYgnZkkdoR05EpP0+pdsUMOMp1p6bE4nX6jPu6Q75xYIKnxd2dTbH0FpLkA3Fwf1OsvEvHeWdJrF/DayP6qoH93ZLYvLuTibNHe9TATrnJPF6fsHMTxzZPtenH6u/vJz4mfTa5BmxnSOlTe0CxGjYumVSU4SyTyL/ois1PKPE/taRsCuTpie45aWegLSSt1FZtf7UopiemxPzlDVrfFU//GNEVQMXG2nsTbqelrRfNq9+uyWs5Ig0Sh5I7+8njJ9sUJ7WN9aoQwhyVG7gLxlpp023pS/JzUPfP49oJcNcj/lHgTNgTNIbIT75u1GSfJC8BXvbTJ4li10Xa6N6n9TdJ05jtiSKEeJLb3e6Iw7QJA7EBvVm+guPI+wkM9ue0j2n8o3ObNk0u6WtgYu2ny79t46Lrou9NnJWapz1iMVaivJ+XjYnlkNU8CtflMxTzdGdSyh99CTv7eYF+bUf3oKvui9qIrvyC9nUG7oiTR0qjki85C9Hi1MQAikU7pv2oAfXyVQSPz6NDsfXJlJh4b010tNb7B5oD4imZAU9w9aJXSn/R6+3tnYE7pesk9pjP5Pd4amjjIgaO5sTK1U2xqbnfukW+p2NKrLby40pi74bQrN1qAjppPyDfoZiRdGSQz3S/XiAbKD/o318TsxNnxeq32tHJxv3aH8kcPsbSPmVgOs3JZ5NYjLh3n3zhV69vQrc78jPFQb/fAvvxwB0jBNkpPjEpFq66kzr6B5QzIVfy+8EsrT39aYsH7mrGQDqO2Oj05+nk2mSwB53HplYHTAcvanrUYtaEvf69VTVYQIsZuPNryyL9qIG7VCM45lmr3ZGfp+i8A0zijnKVo9me7nty+jIJSb+kXGfVKvSXn0NLxGqIUG5KqJRXhfrMEm5zaqCcHFgiUksD4XqSYO+T9EkgT/bqErpvmXNicOCutT/u8WFX5nmZep/gDNwh55Z9FHpB/YlrLKin83wmnOf05ROLbp+KOnJuHurUkf1AHaEBDYT6mwjBvNvnEvr9GNe24j4d+5Js8UBdU25/fYk6LsZZLC/E/ds5PPJ6eebSfNExnmldmm3NreXwFdUloP3a1B/RGq6n/enRvh6zoL9NnxsQ82UPlWNzXhySfuX6+POfFGeJy2KM5ba+d9T1+r5Kayhw7qRvIjh+QzxU6Rui4w4av8FlPQN31KCd/WRJzL1GQkAj5CXAeLpDjYDPiNlzelbBZ82P1lcWT0k4gYCMvnWJRIDCn/xXdnzoBlze9+db4q//wxT9PS3mPpojY06IqfObYv+lMrzZzizoFJVG3ttMOrKT5YyVRNSIYfH0SkMn5RPk2Bt2gCQk/vHWnFiQM64oubtN26BzBx1wxt4frIvv/9XqSEOBeh5aOivmSUuYQTEn9WI6GmZIY/Pi7BtWY8KoDUV+kiTamKkB+6Mz4RTiH8UKJPl63enPqEighjJsS90gyAFA+vs2Yg3t8z7ZVesCs4UOfnDjjFzQEP3SEWtIspL182Ljj0/FzucUo0xnBDVcZuBu/2BHrL5H2727KnZ+eSp2ryChpFj14ayaoUOLfLwbyeaVWdWhmRODSscSipub5yfFpI6FcgYMNXQz1KaYpxbluin9BJ7d8YkBkst6UNRaFjZ/EP/wKRIms25SLN44EAc5cVYOaE6lM9Rk3JWzfeha3qD/keARL9uXVDuWLtPirJyZo5dkZiSum2z2hvXkYAHKcBZK5FWBOSWWblLsiMYG6GkxvU69zFyChqiwtNe/uya++z8RXZFujh5tioWpabF061BdAOxgBqffRBxDsvOd+HOA75l3bLtYs5leotNtUvmEFSN9hDnSBdBblDzd74p9SjbRab15ga5Faz0aay0fwKtjw7r/Pqqdp3/McteB75EvJR0xQ+YnXzdk91vLMt+Y/2I7U5QWX9e0WP77vyQzhGc/nBezeKLhI93BHdMbHTvrK5pzdXYFxMJg+2jFv18OpY3sYy18Q0VMzKbySWOLf8/G8etSXMmnWF+j7fH/x5ti7//GfQEo6+elY2IpZAfuwBleZayeVtYTFWT7Ec4L/BxVLlS4In7ZA3eqMKXv3pkX85hZirbt9z+rduB3ZqYhnZviy9R0fU+Z1stXETw+X3T0QA4GQUkXZGO0u5ixLWdinqL7pLaif089pXX6gwUx97spVeSR3oy/TJyZ1XpaUG2/035hcHA6feJdf5659Hfih/+5KCaxX2ZRbVS8tlJ+4+9n2rkm0Kzd6oHsXH1tivIENz7JSUPU/s9f7Yo+2j3kJR+vix27E2PMMI72KQNlQ8r1Qp2VfqeMbiPkZx64Y5SF6eyzB3J85GiNB+7qx0A69myEmgZxfvaKHkyD/+OtIu+vie2baPutvhS978S7i2KB2uBkAiPy6c/Oislzi2KR8qQp3a47tWUJ/TgDd+jTuYbO37SjV01kpfoL9Z5cUx5RrvI0i0mcVi5x9vIfxJ//QeVDE9OzYvZNrKfrkXE3nEPv99OcyK0hwrnpQHmV12eWxm11TaEaKC8HjtY20Eus9oAGQn0SsKVfl2AC7Lt0j58S5xFDqnr/rFi51VF17aOu2LlKeb3WU/+hd/2/WxE7kGlBPZ3nM7K+9/Mc6DbTp3KY1mCFeei0+E//9b9k6wg84Qq7xuruSN5t9Gm4TPK3nIm/ef318vuCOi7GWZAvaO6Gm8PjjVtPfyzP1/Jf/60cOJJPgH2guJ+HH5DGYv1z0ZpYX5UzcGf68kI1XOcPVKeYazGL7r+0/DDTH+ChcmzOiUM9vNbS8fH/Jn6/YWpc2hY1m37aeVo/Qb367dNo7eZryDk3fd27j7c3IA6TplCbXUAsKD9+E+wbIo4Gjd/gsqaBO7qpb3bFNhLcN5fE1sOOdeNkXKw/s6JHtI9kAzRlNUBNobJ4SkIFAsswtMxepkBJt2sahLOfm4FKzELp6pFp7SDgTD8JglmdKybwf068UePR6enigYQpOZSPVZN4nM6a+jAsnl519B9siEUZSCh4fLgqtjFjCcEPtsXsUNgSgeHijJj6aEPsP0XnDm1PSaNpVNKOtOcyCZlBA2NeiXWNghe09ONB0hEkfx/MfrKCURsK/cTM1LjaIZ+nRv0UJV7XNmSDig6gHjWu8nWVd6hRidnSPCEmO66tjmeyp4w707oDT8eZ+S/RWU6NCIoE85pJZ3Y/gRomPC1nCgpoUHaIv0OFxnuT1LBQ0odZVPZ+aNy/nBOTyZMHiF0LYvIta/ZaAOVjiZ759BbFuMeHMvYhAdpEYoK495j85AtKTsysGOva+gfELTrV8DcGpm6vyMTQzG6zOcN5onEWxQNmW5kEhvaV38nf8qOdiYP9e5j1pzv9f0f2AfdPtqkNJD+la+tQ0Fcd3KfFip5ZqZJqq+ArQBnOQgN3qi2GtijRLdBTcv/EF76bfE1pxe6ol8fM0ZUamLa2ReL6OnIB6IU+P+mI3YdP9WAXne8OnQ/aw4w4JE10bUfkIyuURKWFMnF7cVpMosiDnSMIc6Q73el6Mws63shu0VhLBWWik19jus/TjubK4k7OdqR4b/xu2PwU6ublIeVohp+zYunrXekT+dc1I5b061fldtOUaOrPcqD4ddL53Zz49ZMe5Ja+QveDIvV9yg2t1wUbBNtHOlYS/2RRQSAOzNPMGESP2vTfXf5NnJM2NgN3oevC3ygS8NsQ4Bgz7O51xXPdcRGMsdispJ+Xj4ll4A00aZhCf/WefkpUth9qQMjPC1wf13alwgQFhXqSW2v6xb7oPtIzNxF/z1Hb9mVHPJXb69cmk37lOS6YeHt81MtXEQIxhNrYdfwurelYRScI7g2+SfnZ3JffiX/BTG5wjLaQYmqf+JX+8gb5lWyX1PbgDHWRE2P0QF3SRunPqmjN6v/QzLT+s9Z+sLZSdo/FqibQrN3qgf9UQwL8JgXFYVncH1EecGNZdVjSMvfZpmz3xw3jaJ8ycCbM+dCdMhPvLov1a5ti/TP4ehq7nM4igNp/6WM8cMewITvE00GZ/t5W8ttUSxdX1G+W52itbw/K6EPywN3xMJCOjY3s9v6DVdWOAzLPmVQDRs9UzpMMguh9py9sqjdgyTZaTaZBh+zi19uyA1lpxKstS+hH1nPmbWbJtVkd47i2M9T+mCdBKiDKVZ5mdZ6Y9GVqvSLXk/kk5S2qH4Fy0Z8jOfSfIzXEP/4QyE31E3KV8yq6fqvPzEGsBormwAfxWppqm1jtsfcnXKOqPTJ9En5dKDvw9WfU4/p1hlILn23I+wj1MatFDwRrgBt5LPMUZ0E9nesz6O8I5Tl2HYVTox4rzEPTOjJWR/StPh2n7n4ay7tpH49LOehm+iTIHjtf6d+IpGVZ/05tXn89UFTHRTmL8UVX5uTwVfmi3H3/oX4iT3M/mfQPB/jK6+cwGiAOk4E7+qj0HqjhtD9Nndev0tTcIwY+jfmy/ZphjcqxOScOyQdaHB+3+TV1ufmdwiPRe7grOn/5vrSGgm3C1KLY1P0RlcdviLdM3xAwYPwGl/UN3F3XM5/fJHIurYkVIkkmwJitQA2UnQzLwDtFRrgddoxhobJ4SsJ0kqzc7IjOt1tiQ4oMHfJ6NrNnMDwKa374fOHdKTlbZPORPTNabqUaLTT0P6Ezb1I+eaI4VN/xb9yNISiB2b22Iubx9CTZdvvf91RHrR0ksMDhf7YCs9491dNT0fnKJCD2Micwy37/BoIXjrMk1m6lrx1g1IdCP0EiS0nT1MfrYvubRTENex9QoyjXbYgdauRPv4XXVT7PtWUSF57oxuDdFbF1vyO2r1AMkI1GdsBFDR7pz3ZChC91w5TEZJkMqFk/aHiSDg89E+X0pU2x+2BHrJ+nBDBp/FVjOYEZXzlPVlSJJbLhf43i6A0qYiguYsDz8L5ed2tHrH0wlQ5gWPf09Ft01FgTQZCUWL9x5ySZ+rqDcfaZ1wmuiyunIwfwjykLGLpe/fsHqrCgxIuSDEAVBeXbuzKcBQfuMIBJcWXhmx/Ed2X0pDuCVaKqEi5fR3m68q9BJs2vwQ62HvykVXWEJUmk31lhtFjwu3lhjrT9Yk/c/aoHxXxeEGt7lk2fx3Sfp50sV2luRDqkz8Pmp5yvIZHdFusXKI7QvaPA+7nMdRF65Geh4nHxxp/jevsjBu4sX0ERYQ9S+PDbxycBvcpZuORfmKlGsSxm0+/+n9c5ZvutHLgLX9fBjyiks7M2c2MsoayfV4mJxfBilkZP/mYoXdsDa+COippQXuDfV1JQUDx7bn9HxUj31rpYQQfTJ+p3NaUu8bQ4xUkUet2HKOZ0gaWOdmzUy1cRNJ+vzYuVq+timXxP6hBtrJmgYeuMFgz2/vzHDbHwOn1+fU4sX8XrqAP+TvqTT7rDd3+x2mTfJ/Rn1e5k/fDQDNz98H1ObfXU28+NVU2gWbvVAzXok066SaA7OuwiGxMctr5YkL9bPPVJ/kSTNmIc7VMGiQ0DHUiZTplp8vPrOqf082JAt8c8cMdwYPIO3SEuf17gxqbYvLJI7eK0yv1ztObnhhJ+rseohIF0bGyEDuKrq2KB2nf1BIX6WtU4p8XyjY7omlrCtKFWvNiXT2WgE7srOlepLke7+4jyIvreDNy5tWWxfpRGqM25siM693fE1ldqUGD2itaH7sAeRC9RrvI0G6hv/DxZdppPL4j/8b//JphDx2uIA7EXyE37e8fIq9S3AWRrICfPBZIc+Fvxbay2+b/xvrvf/328T8IftJd55Zs6tyCe5atBr2+K9UuzdN9qYC7pY75FOrSeuJu03g4E223JWlc90SNRUE+X8ZlMnmNPcsWpA/0k8TwUX8bqiHDdvffv8bzbf3IZ+komXmEg7e6W2Ly+IccjTBue118vL6+gjiviLJsXejl8Vb6g1wdbYu0zDEDq33vDvTyN9FM8z+nnMLrQ+WziJ3qcJlPD+X2H0NNF0hOd51//V8yXrTZNo3JszolDmf5M+jfh7AnFWTw96NXDebVb5ul3fe7Jjzfk6zi3r6+JReJKvnWF9FN5/IY+Z2psYMD4DS5rHLijm9ajvoaUaQhTv34iHXTCTWyIeYzM+sXRkFFZPCWR6UTVTgGDyFnaToNAziaDiB5JToJziYE7jIDLU6jveOBufKFmhpAPbP+rCrLnlB42qcHG75jI9z5nApQdAMzAnf7tE+x3He/VNe8/RnKyIzY+xTaR18YwjoViP9EzMigJmKV4YB6pxoytiddmxfy5Sb2O4mbUlnajpGfSJA3PWbF8Xc068xuGooG74BN3p+bELDVuaLBkktfXrwkz53tzUWzgyQMJ3Bvdxyn9O3kRVIoluM5zdP4zZymBVzOmjzDTnRLomffnKBGyZlFb96QG7uhezW8MHGPgLjQr0m67JPxjFgzcJQNjJdu7Mpxl2hzcF2YGEg+r9/Jig3//dH0PoBXNt6ejPF35T9ypmGYVKxLe+coMTCExlK+mw/5hhDnyimPA7ngzA3ehWGvb9HlM93nayXLlP3E3bH4q+Rq0jcQYCfitEtdFUEUR+dXlDa2pTf2O95z4lTNApvwxjKR9xNN89nVQ/gTbzFxQHR4ylsVs6s+ks21cOHCH2bHVBu7K+nklOxUipHndTkhdZjXr5wXOU3VATz3lOXe1a3VoPNczGU+LxStk/69VJ5fSpWrTJqfmxPLFOTFJ5817Crsq6uWrCC6fmAyB315Fp8pz3cFy+pO1RP+b+D1Tfa+yYP9qiXwEBeG2+Ms/en5FdsFrhibhu/Zs2YEH7vZyaiseuBsEcvLL68redjREWzdrOuRtoOZFR4H927JjgnG0TxnIDuU3yIbIx+y8DdCdMs7gnIFsS+w6m6B9Nvn9kxOIk6qDoQJ5Gp76tzvOCU7un6M101mPV30ne1Nug/oneeUioxIG0rFtI9RGcsKT6fjXvm/qgGSZTp5MSfbtq5p64sy8mCO7YnDN9H0Gn7groZ/M4K7MC+gcZhAGNTDVxslk1gqIcpWnWS9PNAOLaZ5M/N1YFFOnFsXf/DMG7rI5dLyGwLfhPquB8yr1bRxWDSRfgx/Mgf9FD9wFapsX8dojt0/Cr0voOmS9SXY1v6MMJHleMnBH92xN1LW/l9zfXJYDmmv3rPqDuMmrp0v7jJ3nyLeoWLWT1kzZPDRaR+jaLvEzXXebWBnMuz0uZds/pY6X6FfX1O7AncWl1V8PPyqq40px5uSFXt9+Jb7oOzmoR35+ke7/mjUI+TTST0HHj9bE6pDZgTv6N1jD+X2HiEEXpmW/JQbu4r7sonJszolDmWuifxPOzMCd9zNiVTSUPbeunRCrO99VH7+hz5m+IWDA+A0u6x24wwoSBAIehCQH7qjBkg3UNImKAu1R/1Ds4FFlXejgEfG1y+tit8ZCP4bK4imJZARfvn+4K3avq5kx8inESGMnfyvhJXEBbopGbEmMkkO8PmuvL3rE2QoleP6ocl0YFk+vMo4eb4v1rzbF7qMeNVBkd/lu4Hmx/v1TFWjwlIh8FJcajiekocKBO9KB7NyE7ijBIcfHj5127pOuMKNFvtKP9sL7gN8dLLlj5KOMn8gGWTespkiz1xnbRm1pd9z9RAkeBpI+XBGrl1fF2jdojCnuYnsvzrgDd6ogPPv5jjjskf5e6hlqOpGRyZ1MxDZF5+66vLa5L9R7uJF8z11apfOtiQ00dJSESJjEpCAGVYolSMDx3n9w87b+jTi7eLI7HS3fwAw22VFD13xIvrV7lfii7c3A3c6nM3Sva9RI96iYsvgMNLAyqTRPEdK+MuFD2/WAeHvWFVtfb1Bb5SWuBQN30raZJ5riKMNZps25uSYTYDPoWqQn/GbfwtVdyZd8F79uj5U2p8XSzX3R6/VF35t4YutKJZRpZ6b8/DrFmstkh35f7H9Lic3N7+VvpSV86yQ6OjAVmI0WQpgj0mTewN0LrdlQrE18IB24yeo+Xzs+d/L1i++l9zZsfnJ1A3+9RveCH5AmHnoPKQ+hPA2/q/D0jyWuiyCLIvByhbaTgawn9u+T/vL0RtvEBsiSzlFCtH3Urw6R14GkHK/TxXkwA/rRPt3L87hN/XfXWzbOG7g7fK44n/hgTezih9T3dsTG1zviwCvu/YG7sn5eKSYWQmvePGW61xHbV5fIFmQn2XFtFzXhvMC8AvT0RYr/dL/76ACYoCLSeQKX8hScR2odebt6JU+ibbweimIw4nTR71NWRb18FcGLIdAv2o93VsTuL8r38AR9BzU9cdsjvhEbeg92VYwgHW2jE4n89/s/6d/LgV+9pG3xKlgqHqVd7NwObRTaY/yg/mPyqTvqd11k/QT7oTOM2qQN0jTiStJh8+fnObVVfiHZBJq1W03QHRMTxO/a7a44fHZIMY7qLcQD/bu1vW83xNq1HdElX+k/wc8W0PbnhlOLDRNjaZ8ygA3RWTkxJ1Zvqnaie29LrF1cFlt/UoPd4fyCfF930q7iiY8++SLlw+g0q/o6o3HCidXBkIE2ENqYeG9FbN2jtveAdHbbGuDP63yUnauTFPNJkw8OZc6z+/ViOmjEqIyBdOzbCO0y1cozF7fFwU/bqnMbfXVqazK6yimnMLhPOW6yr351uvqdKeSttIc+tpkg69SWOFSBfkxfIfJtGcOo3UH+gPPheCofz/89rxiiXOVoNtP5jNpEDjghT8YbCXbF+oekadQuv0Zy6L9EaogXodz0O/Hzvx0jr1JXmSKvBvohngPHaxs6XqT2yO2T8OsS1JV0PjyhdfbShth5qJ+o+4ryNeeJu/jAnRwMxORw/L4a9qc8EtdaVE/n+Uw0z+l5fSrEZfk8VOfXgTri+U9aG37dre8hm3cTFz6XpCf124IzYvHqjujot+5sUG3nDtxZfSdWfz3YLarjYpzF80Ivh39WJW9Pr1dNZO+o32+je/n+TxG+oPNYTSw/ETIDd0RdqIaT/kTrzlGMotq891DZC772PKc/wEfl2JzXdmZ83KpxMVH1Fn7HEk9J74s+cdu5sS427/1LeQ2ZuI0n7vZIPw92xNpHaKtXxR86A4zf0OdM3xCdZ9D4DS7rH7ijf9VTJkS6/h2Toyc7MhDLzle5nBXLdAMUbqSg8Tl5kmKIqCyekgg9/j376ZYUcKaxQ1FxiYKevX0Zw5NTLesBUbmgweeBu7EBOiYd+02Qz+j3UEv/oMCRfqeDCBKYnIE7BJitT886+8nZWJQ0IfAk66hx3zAzfxi1oZSfmNlUSLqMDdChL+OhtS5mS3ugybwqk+IlfiRZvlaCFrzr3X/Vg9OpjI5BDF7I7WfpnM/l03L48Vk5S9zp0O7r921Tw/e3v5cNmvyBW/2juLjmNcRqul7MMMSsIdloR1A1lvTuqAQ2PS7dvy6InHN5HZ+7SHLl9WGZkv8vyjZJ7Y9jYt3CtT35212xOCtnW702k7424YD89ow5Li3vUswlOzid/v7AHWbtT5uBOz3T8sxK+J37AZThLNjmUNKPAkqiQE/OekooFq9hUI/2gzZRcGH92yviD/+coysZn+i8ZoYwEkbPDos+36GBKfKPJGmSs58oNl7LT2bCHOmiIDZwR5ccjbX2ANOvKpHL6t5+7SAO7nWGe9ztPtW/+WBm6w+Zn1zdZM5NixwooKOUuS59jO611JfkgtwFHRExvcnfg4wMkFk3EG8frfiHiQv2DENa5Lv2f4nYFL9n4fBvx7m860KhjA4U6zxU3B+guI/5QgU/rxoT8wHb0Xmta8VrXxbxew64Z8Q/i79QXiBzCmd/ut9L4Ij2ttqVPl5b7G2X6BIdK7KzXHV21Il6+SpCNoaoWeK6E+ee6shPOZgWy3//syqUk3UU+/G7D/AXvCI7Wa8KRxmjveITr4m2f8Bc1k+6aD1CBx9eF4X1F7bE7g1qI5MOm5zaKi9WNYBm7VYfjh4Tp16cmXh7SWzqXM2PDbJtwCC3/HZ8MK72KYOjZ7ti/SOVB5pFdtr8ktMhBKBjDB1u1n7T53VnzwnFSdbBcEF5ArUH8jVall7wm6jy97AoJ8rTGjqt8Xvn9r7zV9LfWmJUw0A6zthI51OnFsV///o/iunX9CBcAv09aue/uJMAzJNUk/ItOrSpPrZ5gtevLYv0I58SOeV99/6qytkJ8o0nGGAYoG8nylWOZjN9mQRcv523yMECyVc4h1b9C4Ea4k/fy/Mm65Cb/pue1J5sWz2vcpBTA+XlwNHahm4zr56M9kkgV7brEgDXdi39fbRkwcAnyaVo4M70m6T7zosNPIlXUE/n+Uw8z/H7VPZFv3QeSrqN1RHU9sb6m4J5N15lGeKyT/b63K+JJsQsJq4TCXn99fDvojouxlleXujk8HJSQHm+MMiGyQTptrSgP+OXOF9RXRqfDgzcBWs4M3BnHQd9YOo3JyO+HPjpnMqxOa/tzB24o4/9rtjEQG1yXRTDKUaW1hCdWz6xmGxHC37n/FuyJW07yPhNpm+ITjto/AaXxx64kyOXj/dFzz431h1gNrRlwCO6sUdd0X1I6+3M5GVPHB4cUqDTn4eIyuIpC9wb3a/8TR3MAjedpwC+e+zdHwlecrFHvL2g+8f3EGcff5M4tFCPXhymMyeAPn3e69I6ckxv2zoxNJ5edWgf6DwkGz7znNV89wD2NXZVvpXxI0dPapsu7dd9ZK0nv8Ls+w78zd6fURvK+skRZm0jxlm+2n9GseLA99+ILbWv9/Eu5jetGRpoYDB4hsKg7+lCxiT/c3pO+fSP9VtEuMZDo0nEJ9r2h7/7z+L061bhogsTPDkoZ5S9iRkkZsJGGJVjib5Op40w6xwd+76huUNMpZvuP6H78b7bJ057aJjz4qwchFNJTpIwSF/S8Vonhw5fdPz+E+taJH/6XJgt9tGU+lFcx9ZxlOLM2FO3OU77myCkpzTJ2ab7wXeyPZHba2CmOY77hA6K88R0hQFTa1BMgbjAORHjsD/g890jvs13hjttbznbDUWbVaCEEOMosaX+DJjzJetwD5lYS6u1TWWRFNG93+5m22iLOzqjfH0pJX3qdSbA8PgpoxvEne5DPIVg2VSi+LoMjswxSD8hn/Tjl+sruAb3cwJjF799tK5Dxk2teSxJnAjaNMu/fS1F1wU7gI+uidN5vlDBzyvHxCIYzWGxY76BbcdAXmA6ZFbv0v5GG+YevHs2nOw/ofYIMdbwb2LBEJ48qp2vAmRiiG4PkxgLvjWHiU5lzaP1Z2uXoHwOOrJ41b5i+4/0K+T3tL/Sov0dXRP0ju1NzWTbiLSfqa08/83EqiGjabvVCl3DSrtlYqXmEhrIxMDxwVjbpwx034SMi5Y/y/bUrtF9aF+Wca5BfxkVTrwOhg2ZB2idee1vodYQy2XszrYbjGoYVMcZG+n29fmvkfbStL+0i7uvm6sDzveh2hKI6seKX14MQ06CQa3J96zfM6uAPK6imvVyQQPVFpKGrfrYIJNDawRriEBuWkde5SNUA+XmwBLquJm+GUDnX349mewDXmiHtE8iVBdq2Lm8bW9LcwnMOpxPXoPeD4teX1RPF/lMPM8x2tT9HHKV4qEoDwVCdURu3Y3Pobw7h0uTM2Nx9Gz7m/9diTouj7O8vNDJ4eWK8nwp39DaI+4OqUZ/WsRXVJcEnRs51xiq4cwg2dVdunY6VsjHQ77sYZDYHI1DWnvOuXzOzBiLHUuAkhqytZOpqc2xwUWl8Rvt2+hfOUb8BpfHH7gbIwwinlcRzBODUYzG/US/em9iak4sXFgSix9ils3pZPCtEjBz5MKM+3seHvB49wJmiJxbEIsXFsUCZv3I1/Xiib1FMa1fHZWH8YslR6L7zYKYOmPNeDoG5JMUp9QsqLIYLmeUpPgzuo4BPHU094Y7C3NgyJlPp8VMjiYNhslRXPcD3CNeHf7OVHgGaFUU8DN+vtYA6uQ/B1X8vG12Cs2krgoz23wYr+RmXY8n2G7tBtuHAbAOGCcB7ddxjbUl3nZyblq+bWeQvJZ93kUdOXAlNFGXlKin26SDgevuGrksU8e1hbNa+ykIwRou7wnWCmh9vGmonyDBMeI3uOSBO0YGzBODUYxR+MlRryt2bm6Kza/Xxcb1LbGz1xu4oTl6vCu273RyX83SP6BtbmyKjasbYvPGjvoxVzpj78GO2H5QfO6xjCX9fbFza0d0a3hyBO/9377bLf20HTBszvqPduSPCKtX6R0Tv/VE98622D2ooeD5rS+6d+lY+lUweRg6R0HdDwL4yrbYvj/A4LqPAn643Q6hRv5zUMXPW2enF2hTtkUnOLuxHI6edcQ2HWN3CL9VzboeT7Dd2g22DwNgHTBOAsZCx3XVlnSc3ds7+vV+1cE+76GGHLgaGqhLStTTbdPBYHV3fVyWqePaxFl9/RSRGu6oJzq30c94vP6d9sebZvoJEhwjfoNLHrhjZMA8MRjFYD8pBnNUHcxZMZijLJiT8QDbqRqYr/EE263dYPswANYB4ySAdVwezBUDYB1UB3NWHcxZfQCXPHDHyIB5YjCKwX5SDOaoOpizYjBHWTAn4wG2UzUwX+MJtlu7wfZhAKwDxkkA67g8mCsGwDqoDuasOpiz+gAueeCOkQHzxGAUg/2kGMxRdTBnxWCOsmBOxgNsp2pgvsYTbLd2g+3DAFgHjJMA1nF5MFcMgHVQHcxZdTBn9QFc8sAdIwPmicEoBvtJMZij6mDOisEcZcGcjAfYTtXAfI0n2G7tBtuHAbAOGCcBrOPyYK4YAOugOpiz6mDO6gO45IE7RgbME4NRDPaTYjBH1cGcFYM5yoI5GQ+wnaqB+RpPsN3aDbYPA2AdME4CWMflwVwxANZBdTBn1cGc1Qdw+UoN3DEYDAaDwWAwGAwGg8FgMBgMBoPBYDAYbYUcuPurv/orXnjhhRdeeOGFF1544YUXXnjhhRdeeOGFF1544YUXXnjhZYQLvyqTkQHzxGAUg/2kGMxRdTBnxWCOsmBOxgNsp2pgvsYTbLd2g+3DAFgHY4xnW2Lh4y3R0x9fZbCOy4O5YgCsg+pgzqqDOasP4JIH7hgZME8MRjHYT4rBHFUHc1YM5igL5mQ8wHaqBuZrPMF2azfYPgyAdTDG4IG7BKzj8mCuGADroDqYs+pgzuoDuOSBO0YGzBODUQz2k2IwR9XBnBWDOcqCORkPsJ2qgfkaT7Dd2g22DwNgHTBOAljH5cFcMQDWQXUwZ9XBnNUHcCkH7vAHL7zwwgsvvPDCCy+88MILL7zwwgsvvPDCCy+88MILL7zwMrqFn7hjZMA8MRjFYD8pBnNUHcxZMZijLJiT8QDbqRqYr/EE263dYPswANYB4ySAdVwezBUDYB1UB3NWHcxZfQCXPHDHyIB5YjCKwX5SDOaoOpizYjBHWTAn4wG2UzUwX+MJtlu7wfZhAKwDxkkA67g8mCsGwDqoDuasOpiz+gAueeCOkQHzxGAUg/2kGMxRdTBnxWCOsmBOxgNsp2pgvsYTbLd2g+3DAFgHjJMA1nF5MFcMgHVQHcxZdTBn9QFc8sAdIwPmicEoBvtJMZij6mDOisEcZcGcjAfYTtXAfI0n2G7tBtuHAbAOGCcBrOPyYK4YAOugOpiz6mDO6gO45IE7RgbME4NRDPaTYjBH1cGcFYM5yoI5GQ+wnaqB+RpPsN3aDbYPA2AdME4CWMflwVwxANZBdTBn1cGc1QdwWd/A3YM1MTGxILae6c+iI9YmJmidvazRWqAntj5O1689kCuHjvrFg3s093RywE5Glr0S0eWzLbHw8RYpuDp6NxcsX6iq+5jWbF+y/Uv7ovTLY2gU95tcs+u/CzcHYeHkoHE/0bbI1U3QXl4sHlC/g6AxjqTOs/dX1ufg76Ft7PVN6X34nMXb37L3G9ruePGtGprzPc3VlXgEte/b4cz2xQZ8bvza7RC35WPVKHyzDozWTq7vJwtsoPXqcIm4mqP9JjA6vsK+H/X3SBsUbpPzUHxe5zv7vNEazF7fDGJ2g9/abYO8L8fPcd3qerPfFcM//vAQbxtkbIpedzaXx302HcPa1l7UygF8Lsa/4y/HqI2iULpI7iUWF1qC0epAxyjbhxLbgcds3Er827axE2OxuHbNxoS47zpwtFImz/Dyl6HoKwR93oC+TLuh7j+NrQoBjjWX6b1692Sfw+G9qXsNo23xzEC2BSPmxkdbuRoeAnHGh9ZyM7lDOzASHciY6sd1O8bY38XWG79SS5O50yg4y7RfdtvncJTlycT/ZClq84aA5jnLtu8ZHmgpzNHs9s1pW+O6HDbAZS0Dd9KBrmwFk6wEIMaQSH87hAWSjWGgfvHAeO1qkOvASIJ5y5BN9DWcgFkNTmEqA0IV7YS1JoOR8Ss65po8frjgGQSdK+k5netnNOon0s6ku62YLiWgkZDdRxenmuGI9E7tj1Gm7btlNOv7UOKX+Du0fsgYOmex9jeJH0BcMw5fFpqMD43oStqc/Ommlbv4cPIX2/9cX4Qmh83NWLXbUW7LxaqYBscBbbFTxl9hE8obnDgHfY+Y55HwFdNn1N+RcxneVNGo2iD77xK6jZ1Xro8dP40ztr2cmONcdzOI2c3nQNaPtuakDge/1mjuXididpKaoPPfzLuHbIxrsu00aFt7UY4DT+8xxDQEP/C0luY8wwBdbyQ3bQtGqwMVQ9HuJDa1bJfVhOU7to19e3t2zvAut18Ta3la8rUCWyYxPoasbzeDAI8S6nrW7Pu32ohse6T8a+2KzXvsnrBtetzssZpF2+KZhOSa+B+JJuJoJVdDhPR/skNMn1K7FD/y+1dOHprWgcz1AmMFWB/KVWPrnb917CvMCWrCKHwn3H7Z92/FF3xn8eG3ocoGzUajRjkz95/XbyPbLsNRLEdzdWVrMarLBgAua3xVpk1EFhnhGUiSm2nU6hdPOKGRjYAZjTXCSRJFvd4xtEqAzD6GJ5czm1+c12wf53xQjCIwtQ0O91Kjiu8FavzdgBmwAxw5sN4NoKk9ca5ke0cX1vEjyV84Wba0InWnj4nrkscxx+xYWi32QZuTqD+/QmhFA25D2jdkxXCcagLNc+S2Q37SEoLLqYrFWY7BoeXjQ0SjnMXaXztuOHD5tVGG67rQKEdRv8reM7QkP/v8NZDcjWW7neG2TKyKa3Ac0BY7ZfxVa7aDnMDYJEf7TWGkfHn3H/V3D9E4kHy225OAngvOm3729qX91Hrfj5rPAaJ2czih66K/7Q4z514tHmQ7jc43nb/abTS+M3ms00kt79t8F+Yb50u5TnmS6wPnchDzD9/uDrK2cO2L6zPXbJ1bHtOrIXF+uZ2rn5SPsD6BtrUXWbu7tYrPi+HdtlNiiwj/UkN5tjTHsfa1dZf6lt4ukhOGzxPw8xZgtDrQvgDuDee27Xw72v6Wtx0BNjB68u1htOb6nY1iWwV1F/BthTI+nY07zr2adcHjWzwm10LQn937V9ey9iAeh1xeIvfkcx6wQZNoWzxLeYtpYnRoH1dDhPEJ3zcCCMftk4vR6MCPrb5/xPwm/ezbqUm7jYKzzP05sTYbX2QborXuxnIA2zebh4xEZ3n+Hm2rLG362+B48nNcl00AXDYzcJfXoJcIpnWhfvEEDIZ7te4ncTisTxI2kzjhb7VN4lhyO31Mm5uEQ3ffVEz1YTTBvF1IA2XWVobvzhVL7zGNWzZ0AqhtZwt2gLZ1IQNxMDhAg0jmbd+LBB9cS7Kd3k9fm6NBG/I6dcEQ0vUrjFY04BaURrStsCR6NBpRS9DOQ0JjHEltZ+/P5STcuMptirQd8+8hoFFd2W0MAfeuuIq05Z6WsBiuynBdF0bJkQN8Z+kCHCj9gacS7UONGMt2O8NtmVgV1+A4oC12SrWqkWjU0m6e9hvCSPny7z/q7zYi+Rcg8yk3v/fbHwnvvP55nH3kMbUvJPvAhnYM9uJRA4jbzeNHc2Duz2l/LR5k22S4tO1g/625UPvHayX3fPS3eZJGX4/ky7ZbDJ6dEuA40f2z8QuLff+JreX9WNdG29n3Zt9Pch10TalWLK49tK29cDQOXp1axfzt3U9iL4VEO0H+41w4PBNsGzi6k5+98wfsnFwHIO/FtXGbMFodmDhl+arDqWszh1d7u5AdLN909rOPGbFfel0RYL+Q7uR+qU8b3eD7Yp82n/3z4nqtdcGYY67XvW6jVff+CVqTrh5pX329ji/KY6b35NyHzV3w2ptDG+NZqonR8RJC27gaHizfCfqNi4yfnHCMRgduTM/6Bz7j+9j6rJ2c+DpkjIIz3F/Sppglib2B+GLFZjeWKzSt85HoLMffM/ev20Msbrtn6TThNK7LJgAuGxm4CwlHISC4IaJ+8QSu3xKAIwQvyUk58ZIyQiqq9Pjp9rTOTpZyeB8Uownm7YJjA5vvxI7g3bVz2lntfaeDB2yYbusFhGS9Oa+viwJf0cdINaWPb+vOCWSubuI+mkJev96/6cDfRoyqAY/x7tpQaTC7LXTUnO1GxVFIy1K/Tuw0UJykvunz4/rKsNEcZ3kxBd+F7tnbBzElwGmc63rQqK5yEkDjZ7Z2jPYkB9b6YfIBjGW7ncttLFaV02Bb0RY7ue0FwcoVpHZhl1z7NIOR8pW5/7i/Gzi82vmXhK1dc6xADPbOm7GV/T3+xjHk/8ZfPB+R52quDQPy7GbymOS+Ep4Cvq3v08190u1wDDtGpNvRNg73Fgf2+ej/zs01uT7lWdvG2T8Az04JMna34dvGP6/7XXI/3jEdPqzrwLFsfaaacNG29iLlgODxmt6rp2OteXtx9WQDvEd8gI6TnBuw9nd1p3XhnNO1F+DukwLrnfO0AKPVgeULsCU492yX6sLzG3u7kL0tDTn2cLb19GSAbZJz4bzG1nrbmO78a5Qo79MZHUrY59eLf6/WeUPHzujRXH/Qx2zOfahrCV67dQ2jQKvimcPNaHkJoW2xf1jIa1NCyPjJCcdodODHXN8/zPex9Vk7xeNV/RgFZxldFsUX6/sQN03rfCQ6i/p7fjwGN4YvcJdtd+O6bALgsoGBuxhJ2H7cxZO9t2gA8ZKcdLvsMWynUn9b3GaSpfpFM5pg3i4kNvD5Tj7Hnd/RgBU8wtpw7Zfa3j9+/HwJcG1ym4henEDmnjeqWxvWsWyNvqpoRQNuwbdhzKZN2q5VDbbvy0Fk4yn4KvSNGtEMZ7jPfB2EdVIyLpXienA0qqsSBZ9B1LcqHGNQjGW7XcDLsTTYUrTFTpn2wfFZcEpxMPd3AprBSPmqqk9sb8c9Pw46n1UMDj7d7J032rbjeLb2k+OP3kdy7abvL316Sbe7D+j6bb4tHlyu0/vxbZB89rk355Dn0/vTNvI3zug8Czc7mbZf8RuKQRqenRJkzm0ja4vUvtnvYvfj3HeUpzja1l44Gvd4Te/Jzc8yMcwgyH8858kcx9rf5bOcH0VtENPLCDFaHdh8avv4vw9pbOFzZ9s4YG/YwNjUtgds7XTG0ZLVkKszhXRdVHdBfZT36eBxA/eWhXUOzZN9rKyGcR/mf6xT3BfzEr/2ctc5PLQqnsEGHpfDfgtJFbQt9g8L0GrGDjnx1/WTk4/R6MCPrX58NJ9j67N2atJuo+Asc39OrPV5Uu2I0Xm2TcH2fts2XIxEZ5FcK952a8RytGR9XJdNAFwOfeDOFlAK3GjzAbJ+8QQMBocKGdFLavykKhGSvz/EQrym+6oEK+FOfl9vsjSaYN4upIHS1TXWG74du1mwbWvrPxww7OO7trWDtTxOQFfOa1sSLVjHtHXnBCT3vqLXZv1op30v9rW9qmhFA27DiQWxxjm2fjhohiO6J6uNyfPLbFvkQm6TcKj8MXSsYWL4nEXaX9JPui6mEzdGxTgtw/Vx0KjvOXEzB9gumMBF+K4ZY9lu53J7PA22FW2xE3hzYlsgRy3q6GgCI+UrT5+ev0u+LP4UXK3abZPhP6hf/7xOXWD5RbBeUNfgn6tpO+baTWqN7t+6dnm9WGdr0uLBzX3Agd7X5kryYbZzube5Acz55PfYD7+plrEfgfZzrsmGfW4b8v4Cx5Kwrl3DaAGw7ebY1zumw4d9Hd59xtC29sLmwOc1vVfY1GoTbH5sxPjHce3tsR3O4x3HtoHDM8GxTwTpPmRr7z6K9m0ao9WB5wvSPmmNraBsvmD7MmDb2Le3Z+fUHp5+gIi/yJjpaMva19NLiqxvA47d7X396w4e14tjQdjnxd8YpEiPk96/vi+tyVi74PiiAxzb8Ode16i13bZ4liKsiVGivVwNEV6bEoLtJ68CRqODbAy2Y4cdk2LrnZgdjcXDwSg4y+jSaTe8+CL5SPn1YzmOVeQHdWMkOgv6u91+GdA6aztbcymwX7iti7WhwwK4rGXgTgpBJgp6SQQVTjjkjdrb09JEsKxfPMqY6X0o53Hvz0r0rATNdSb3OC4X6jtHSNIxvePXiNEE83bBCZSyCNC2cWYDevY3zmvbBwWHXu8HUANbL0lHAmAdZ4HOG0z+glrwCgxzvU4gcxvPMtcWKwReVTTpJ64dUlvI2Os1OmYbp2Gx9m3Sbk1x5LRBMf+04q/yaa1ny7+z21j70xLykboxbM6yWjKacPlK7lXGGKudcWKOiQk5XA8BjejKuU+1SJ5s7QS5AFTu4+w3ZIxVux3hNh6rFJ+uJs12Nu/tR1vsBK6deAZOHb/VPt1gURLCSPiK+X5Ud178w2K4tPdx1pn9rTopdl5sZfmGbTfXZ+x6wL6m5n0k3246PtraknHVvn4C1ult3JwT9+byJ++T+N2yt3P4DBzbyZkrxJeonbI6cHxMwr52BdcX3WM492L5p8OHxRPg5EMR27etvXA4CNyPuddE7/r7oP49rmy426fcOOtjPEt4NrY1rGHv49gick2jxGh14PuC9mWPJ2UbT8e2jTP+6G6b2COoC1yDFxsMZIywjmvtG9Rd5n4Myvk04BzXaMu7v6KYIo8R9J8w366+1f7mHO59etva15XhtVm0LZ6liGlidGgvV0OE06a47b2v8VibedLQtA6cthBLEjPs+GhzH1vvHsuPX8PEKHwnjd8aTrthc4TFbcsy2g7kK8NGo5x5bSWWhDvEgEA75egy+d6qK+xjSMR1OWyAyxqfuGs/XsnGagAwTwxGMdhPisEcVQdzVgzmKAvmZDzAdqoG5ms8wXZrN9g+DIB1wDgJYB2XB3PFAFgH1cGcVQdzVh/AJQ/cMTJgnhiMYrCfFIM5qg7mrBjMURbMyXiA7VQNzNd4gu3WbrB9GADrgHESwDouD+aKAbAOqoM5qw7mrD6ASx64Y2TAPDEYxWA/KQZzVB3MWTGYoyyYk/EA26kamK/xBNut3WD7MADWAeMkgHVcHswVA2AdVAdzVh3MWX0Al3LgDn/wwgsvvPDCCy+88MILL7zwwgsvvPDCCy+88MILL7zwwgsvo1v4iTtGBswTg1EM9pNiMEfVwZwVgznKgjkZD7CdqoH5Gk+w3doNtg8DYB0wTgJYx+XBXDEA1kF1MGfVwZzVB3DJA3eMDJgnBqMY7CfFYI6qgzkrBnOUBXMyHmA7VQPzNZ5gu7UbbB8GwDpgnASwjsuDuWIArIPqYM6qgzmrDz/++KP4/7NR83yUhWj0AAAAAElFTkSuQmCC)"
      ],
      "metadata": {
        "id": "-PkWPQndDZEl"
      }
    },
    {
      "cell_type": "code",
      "source": [
        "LT = pd.DataFrame([{\n",
        "                    'Weight(kg)': 1.65,\n",
        "                    'Screen Size(inch)': 15.6,\n",
        "                    'Resolution': 1,\n",
        "                    'OS': 'Windows 11 Home',\n",
        "                    'GPU': 'NVIDIA GeForce MX450',\n",
        "                    'RAM(GB)': 4,\n",
        "                    'Processor Speed(GHz)': 4.1,\n",
        "                    'Storage(GB)': 1000,\n",
        "                    'StorageType': 0\n",
        "                   }\n",
        "])\n",
        "\n",
        "X_custom = LT[['Weight(kg)',\n",
        "               'Screen Size(inch)',\n",
        "               'Resolution',\n",
        "               'OS',\n",
        "               'GPU',\n",
        "               'RAM(GB)',\n",
        "               'Processor Speed(GHz)',\n",
        "               'Storage(GB)',\n",
        "               'StorageType']]\n",
        "X_custom = encoder.transform(X_custom)\n",
        "\n",
        "y_predd = dt.predict(X_custom)\n",
        "print('Price: 17390 baht\\n' + 'Predicted Price: %d baht\\n' %y_predd + 'Different: %d baht' %abs(17390-y_predd))"
      ],
      "metadata": {
        "colab": {
          "base_uri": "https://localhost:8080/"
        },
        "id": "i6hFhQnQDcbG",
        "outputId": "2b034b94-9878-4d0b-f822-4412370583db"
      },
      "execution_count": 86,
      "outputs": [
        {
          "output_type": "stream",
          "name": "stdout",
          "text": [
            "Price: 17390 baht\n",
            "Predicted Price: 31515 baht\n",
            "Different: 14125 baht\n"
          ]
        }
      ]
    },
    {
      "cell_type": "markdown",
      "source": [
        "![90.PNG](data:image/png;base64,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)"
      ],
      "metadata": {
        "id": "bIVW5AxKgDKD"
      }
    },
    {
      "cell_type": "code",
      "source": [
        "LT = pd.DataFrame([{\n",
        "                    'Weight(kg)': 1.35,\n",
        "                    'Screen Size(inch)': 14.5,\n",
        "                    'Resolution': 6,\n",
        "                    'OS': 'Windows 10 Home',\n",
        "                    'GPU': 'NVIDIA GeForce MX350',\n",
        "                    'RAM(GB)': 16,\n",
        "                    'Processor Speed(GHz)': 4.7,\n",
        "                    'Storage(GB)': 512,\n",
        "                    'StorageType': 2\n",
        "                   }\n",
        "])\n",
        "\n",
        "X_custom = LT[['Weight(kg)',\n",
        "               'Screen Size(inch)',\n",
        "               'Resolution',\n",
        "               'OS',\n",
        "               'GPU',\n",
        "               'RAM(GB)',\n",
        "               'Processor Speed(GHz)',\n",
        "               'Storage(GB)',\n",
        "               'StorageType']]\n",
        "X_custom = encoder.transform(X_custom)\n",
        "\n",
        "y_predd = dt.predict(X_custom)\n",
        "print('Price: 42400 baht\\n' + 'Predicted Price: %d baht\\n' %y_predd + 'Different: %d baht' %abs(42400-y_predd))"
      ],
      "metadata": {
        "colab": {
          "base_uri": "https://localhost:8080/"
        },
        "id": "JX7zjBrpgCI6",
        "outputId": "e89d8c25-812f-43bf-c599-809dd49ac8a5"
      },
      "execution_count": 87,
      "outputs": [
        {
          "output_type": "stream",
          "name": "stdout",
          "text": [
            "Price: 42400 baht\n",
            "Predicted Price: 36972 baht\n",
            "Different: 5428 baht\n"
          ]
        }
      ]
    },
    {
      "cell_type": "markdown",
      "source": [
        "![6.PNG](data:image/png;base64,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)"
      ],
      "metadata": {
        "id": "vESiAqOQhwmC"
      }
    },
    {
      "cell_type": "code",
      "source": [
        "LT = pd.DataFrame([{\n",
        "                    'Weight(kg)': 1.6,\n",
        "                    'Screen Size(inch)': 14.2,\n",
        "                    'Resolution': 9,\n",
        "                    'OS': 'macOS',\n",
        "                    'GPU': 'Apple M1 Pro 16-Core GPU',\n",
        "                    'RAM(GB)': 16,\n",
        "                    'Processor Speed(GHz)': 3.4,\n",
        "                    'Storage(GB)': 1000,\n",
        "                    'StorageType': 2\n",
        "                   }\n",
        "])\n",
        "\n",
        "X_custom = LT[['Weight(kg)',\n",
        "               'Screen Size(inch)',\n",
        "               'Resolution',\n",
        "               'OS',\n",
        "               'GPU',\n",
        "               'RAM(GB)',\n",
        "               'Processor Speed(GHz)',\n",
        "               'Storage(GB)',\n",
        "               'StorageType']]\n",
        "X_custom = encoder.transform(X_custom)\n",
        "\n",
        "y_predd = dt.predict(X_custom)\n",
        "print('Price: 89900 baht\\n' + 'Predicted Price: %d baht\\n' %y_predd + 'Different: %d baht' %abs(89900-y_predd))"
      ],
      "metadata": {
        "colab": {
          "base_uri": "https://localhost:8080/"
        },
        "id": "95ChFAFZhltj",
        "outputId": "ede72484-3c53-42b6-ef0f-29ebe726b589"
      },
      "execution_count": 88,
      "outputs": [
        {
          "output_type": "stream",
          "name": "stdout",
          "text": [
            "Price: 89900 baht\n",
            "Predicted Price: 72445 baht\n",
            "Different: 17455 baht\n"
          ]
        }
      ]
    },
    {
      "cell_type": "markdown",
      "source": [
        "![162.PNG](data:image/png;base64,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)"
      ],
      "metadata": {
        "id": "uOBWkLE1j8F7"
      }
    },
    {
      "cell_type": "code",
      "source": [
        "LT = pd.DataFrame([{\n",
        "                    'Weight(kg)': 1.502,\n",
        "                    'Screen Size(inch)': 14,\n",
        "                    'Resolution': 1,\n",
        "                    'OS': 'Windows 11 Home',\n",
        "                    'GPU': 'Intel Iris Xe Graphics',\n",
        "                    'RAM(GB)': 8,\n",
        "                    'Processor Speed(GHz)': 4,\n",
        "                    'Storage(GB)': 256,\n",
        "                    'StorageType': 2\n",
        "                   }\n",
        "])\n",
        "\n",
        "X_custom = LT[['Weight(kg)',\n",
        "               'Screen Size(inch)',\n",
        "               'Resolution',\n",
        "               'OS',\n",
        "               'GPU',\n",
        "               'RAM(GB)',\n",
        "               'Processor Speed(GHz)',\n",
        "               'Storage(GB)',\n",
        "               'StorageType']]\n",
        "X_custom = encoder.transform(X_custom)\n",
        "\n",
        "y_predd = dt.predict(X_custom)\n",
        "print('Price: 32890 baht\\n' + 'Predicted Price: %d baht\\n' %y_predd + 'Different: %d baht' %abs(32890-y_predd))"
      ],
      "metadata": {
        "colab": {
          "base_uri": "https://localhost:8080/"
        },
        "id": "EzNzH5Zzj9w1",
        "outputId": "f4dadb11-72ca-42d6-9a06-0b812d50c539"
      },
      "execution_count": 89,
      "outputs": [
        {
          "output_type": "stream",
          "name": "stdout",
          "text": [
            "Price: 32890 baht\n",
            "Predicted Price: 19217 baht\n",
            "Different: 13672 baht\n"
          ]
        }
      ]
    },
    {
      "cell_type": "code",
      "source": [
        "LT = pd.DataFrame([{\n",
        "                    'Weight(kg)': 1.39,\n",
        "                    'Screen Size(inch)': 14,\n",
        "                    'Resolution': 1,\n",
        "                    'OS': 'Windows 11 Home',\n",
        "                    'GPU': 'NVIDIA GeForce RTX 3050',\n",
        "                    'RAM(GB)': 16,\n",
        "                    'Processor Speed(GHz)': 4.4,\n",
        "                    'Storage(GB)': 512,\n",
        "                    'StorageType': 2\n",
        "                   }\n",
        "])\n",
        "\n",
        "X_custom = LT[['Weight(kg)',\n",
        "               'Screen Size(inch)',\n",
        "               'Resolution',\n",
        "               'OS',\n",
        "               'GPU',\n",
        "               'RAM(GB)',\n",
        "               'Processor Speed(GHz)',\n",
        "               'Storage(GB)',\n",
        "               'StorageType']]\n",
        "X_custom = encoder.transform(X_custom)\n",
        "\n",
        "y_predd = dt.predict(X_custom)\n",
        "print('Price: 33990 baht\\n' + 'Predicted Price: %d baht\\n' %y_predd + 'Different: %d baht' %abs(33990-y_predd))"
      ],
      "metadata": {
        "colab": {
          "base_uri": "https://localhost:8080/"
        },
        "id": "xFopJmM9lQeH",
        "outputId": "9c8096a0-6e44-45ab-cf83-2da82a4a158d"
      },
      "execution_count": 90,
      "outputs": [
        {
          "output_type": "stream",
          "name": "stdout",
          "text": [
            "Price: 33990 baht\n",
            "Predicted Price: 37660 baht\n",
            "Different: 3670 baht\n"
          ]
        }
      ]
    },
    {
      "cell_type": "markdown",
      "source": [
        "```\n",
        "def resmap(x):\n",
        "    return x.map({'1366x768': 0, '1920x1080': 1, '1920x1200': 2, '2160x1440': 3, '2520x1680': 4,\n",
        "                  '2560x1440': 5, '2560x1600': 6, '2880x1800': 7, '3000x2000': 8, '3024x1964': 9,\n",
        "                  '3072x1920': 10, '3456x2160': 11, '3456x2234': 12, '3840x2160': 13, '3840x2400': 14,\n",
        "                  '4096x2160': 15})\n",
        "\n",
        "def sttmap(x):\n",
        "    return x.map({'HDD': 0, 'eMMC': 1, 'SSD': 2})\n",
        "```"
      ],
      "metadata": {
        "id": "tRAWtpSWBYZr"
      }
    },
    {
      "cell_type": "code",
      "source": [
        "LT = pd.DataFrame([{\n",
        "                    'Weight(kg)': 2.2,\n",
        "                    'Screen Size(inch)': 15.6,\n",
        "                    'Resolution': 5,\n",
        "                    'OS': 'Windows 11 Home',\n",
        "                    'GPU': 'NVIDIA GeForce RTX 3060',\n",
        "                    'RAM(GB)': 16,\n",
        "                    'Processor Speed(GHz)': 4.9,\n",
        "                    'Storage(GB)': 512,\n",
        "                    'StorageType': 2\n",
        "                   }\n",
        "])\n",
        "\n",
        "X_custom = LT[['Weight(kg)',\n",
        "               'Screen Size(inch)',\n",
        "               'Resolution',\n",
        "               'OS',\n",
        "               'GPU',\n",
        "               'RAM(GB)',\n",
        "               'Processor Speed(GHz)',\n",
        "               'Storage(GB)',\n",
        "               'StorageType']]\t\n",
        "X_custom = encoder.transform(X_custom)\n",
        "\n",
        "y_predd = dt.predict(X_custom)\n",
        "print('Price: 45990 baht\\n' + 'Predicted Price: %d baht\\n' %y_predd + 'Different: %d baht' %abs(45990-y_predd))"
      ],
      "metadata": {
        "colab": {
          "base_uri": "https://localhost:8080/"
        },
        "id": "i27Qb211A-QU",
        "outputId": "2698a354-47cd-432c-cc41-6a7d16f59ac2"
      },
      "execution_count": 91,
      "outputs": [
        {
          "output_type": "stream",
          "name": "stdout",
          "text": [
            "Price: 45990 baht\n",
            "Predicted Price: 58945 baht\n",
            "Different: 12955 baht\n"
          ]
        }
      ]
    },
    {
      "cell_type": "markdown",
      "source": [
        "# Graph"
      ],
      "metadata": {
        "id": "iUSGAMVSfpPW"
      }
    },
    {
      "cell_type": "markdown",
      "source": [
        "<h3> Plotting compare between actual vs predicted price\n",
        "\n",
        "*   Create dataframe by concat the train and test data\n",
        "*   Seperate between actual price and predicted price into each column\n"
      ],
      "metadata": {
        "id": "FxyV4zNMMZUy"
      }
    },
    {
      "cell_type": "code",
      "source": [
        "actual = np.concatenate((y_test, y_train), axis=None)\n",
        "predict = np.concatenate((y_pred, y_predtr), axis=None)\n",
        "pricedf = pd.DataFrame(data = ([actual, predict]), index = ['actual', 'predict']).transpose()"
      ],
      "metadata": {
        "id": "pkOVr2mCMY8U"
      },
      "execution_count": 92,
      "outputs": []
    },
    {
      "cell_type": "code",
      "source": [
        "pricedf"
      ],
      "metadata": {
        "colab": {
          "base_uri": "https://localhost:8080/",
          "height": 0
        },
        "id": "seURsLhCMcb6",
        "outputId": "cc593609-a05a-4bce-9295-5ea5b0063261"
      },
      "execution_count": 93,
      "outputs": [
        {
          "output_type": "execute_result",
          "data": {
            "text/plain": [
              "       actual        predict\n",
              "0    117900.0  117100.000000\n",
              "1     42490.0   37790.000000\n",
              "2     64990.0   69796.555556\n",
              "3     56990.0   41515.000000\n",
              "4     38326.0   69796.555556\n",
              "..        ...            ...\n",
              "340  107990.0   69796.555556\n",
              "341  159990.0  155945.000000\n",
              "342   30190.0   31772.000000\n",
              "343   54000.0   69796.555556\n",
              "344  164990.0  155945.000000\n",
              "\n",
              "[345 rows x 2 columns]"
            ],
            "text/html": [
              "\n",
              "  <div id=\"df-40ca1982-f1f5-4cc2-950b-10d18959e9d2\">\n",
              "    <div class=\"colab-df-container\">\n",
              "      <div>\n",
              "<style scoped>\n",
              "    .dataframe tbody tr th:only-of-type {\n",
              "        vertical-align: middle;\n",
              "    }\n",
              "\n",
              "    .dataframe tbody tr th {\n",
              "        vertical-align: top;\n",
              "    }\n",
              "\n",
              "    .dataframe thead th {\n",
              "        text-align: right;\n",
              "    }\n",
              "</style>\n",
              "<table border=\"1\" class=\"dataframe\">\n",
              "  <thead>\n",
              "    <tr style=\"text-align: right;\">\n",
              "      <th></th>\n",
              "      <th>actual</th>\n",
              "      <th>predict</th>\n",
              "    </tr>\n",
              "  </thead>\n",
              "  <tbody>\n",
              "    <tr>\n",
              "      <th>0</th>\n",
              "      <td>117900.0</td>\n",
              "      <td>117100.000000</td>\n",
              "    </tr>\n",
              "    <tr>\n",
              "      <th>1</th>\n",
              "      <td>42490.0</td>\n",
              "      <td>37790.000000</td>\n",
              "    </tr>\n",
              "    <tr>\n",
              "      <th>2</th>\n",
              "      <td>64990.0</td>\n",
              "      <td>69796.555556</td>\n",
              "    </tr>\n",
              "    <tr>\n",
              "      <th>3</th>\n",
              "      <td>56990.0</td>\n",
              "      <td>41515.000000</td>\n",
              "    </tr>\n",
              "    <tr>\n",
              "      <th>4</th>\n",
              "      <td>38326.0</td>\n",
              "      <td>69796.555556</td>\n",
              "    </tr>\n",
              "    <tr>\n",
              "      <th>...</th>\n",
              "      <td>...</td>\n",
              "      <td>...</td>\n",
              "    </tr>\n",
              "    <tr>\n",
              "      <th>340</th>\n",
              "      <td>107990.0</td>\n",
              "      <td>69796.555556</td>\n",
              "    </tr>\n",
              "    <tr>\n",
              "      <th>341</th>\n",
              "      <td>159990.0</td>\n",
              "      <td>155945.000000</td>\n",
              "    </tr>\n",
              "    <tr>\n",
              "      <th>342</th>\n",
              "      <td>30190.0</td>\n",
              "      <td>31772.000000</td>\n",
              "    </tr>\n",
              "    <tr>\n",
              "      <th>343</th>\n",
              "      <td>54000.0</td>\n",
              "      <td>69796.555556</td>\n",
              "    </tr>\n",
              "    <tr>\n",
              "      <th>344</th>\n",
              "      <td>164990.0</td>\n",
              "      <td>155945.000000</td>\n",
              "    </tr>\n",
              "  </tbody>\n",
              "</table>\n",
              "<p>345 rows × 2 columns</p>\n",
              "</div>\n",
              "      <button class=\"colab-df-convert\" onclick=\"convertToInteractive('df-40ca1982-f1f5-4cc2-950b-10d18959e9d2')\"\n",
              "              title=\"Convert this dataframe to an interactive table.\"\n",
              "              style=\"display:none;\">\n",
              "        \n",
              "  <svg xmlns=\"http://www.w3.org/2000/svg\" height=\"24px\"viewBox=\"0 0 24 24\"\n",
              "       width=\"24px\">\n",
              "    <path d=\"M0 0h24v24H0V0z\" fill=\"none\"/>\n",
              "    <path d=\"M18.56 5.44l.94 2.06.94-2.06 2.06-.94-2.06-.94-.94-2.06-.94 2.06-2.06.94zm-11 1L8.5 8.5l.94-2.06 2.06-.94-2.06-.94L8.5 2.5l-.94 2.06-2.06.94zm10 10l.94 2.06.94-2.06 2.06-.94-2.06-.94-.94-2.06-.94 2.06-2.06.94z\"/><path d=\"M17.41 7.96l-1.37-1.37c-.4-.4-.92-.59-1.43-.59-.52 0-1.04.2-1.43.59L10.3 9.45l-7.72 7.72c-.78.78-.78 2.05 0 2.83L4 21.41c.39.39.9.59 1.41.59.51 0 1.02-.2 1.41-.59l7.78-7.78 2.81-2.81c.8-.78.8-2.07 0-2.86zM5.41 20L4 18.59l7.72-7.72 1.47 1.35L5.41 20z\"/>\n",
              "  </svg>\n",
              "      </button>\n",
              "      \n",
              "  <style>\n",
              "    .colab-df-container {\n",
              "      display:flex;\n",
              "      flex-wrap:wrap;\n",
              "      gap: 12px;\n",
              "    }\n",
              "\n",
              "    .colab-df-convert {\n",
              "      background-color: #E8F0FE;\n",
              "      border: none;\n",
              "      border-radius: 50%;\n",
              "      cursor: pointer;\n",
              "      display: none;\n",
              "      fill: #1967D2;\n",
              "      height: 32px;\n",
              "      padding: 0 0 0 0;\n",
              "      width: 32px;\n",
              "    }\n",
              "\n",
              "    .colab-df-convert:hover {\n",
              "      background-color: #E2EBFA;\n",
              "      box-shadow: 0px 1px 2px rgba(60, 64, 67, 0.3), 0px 1px 3px 1px rgba(60, 64, 67, 0.15);\n",
              "      fill: #174EA6;\n",
              "    }\n",
              "\n",
              "    [theme=dark] .colab-df-convert {\n",
              "      background-color: #3B4455;\n",
              "      fill: #D2E3FC;\n",
              "    }\n",
              "\n",
              "    [theme=dark] .colab-df-convert:hover {\n",
              "      background-color: #434B5C;\n",
              "      box-shadow: 0px 1px 3px 1px rgba(0, 0, 0, 0.15);\n",
              "      filter: drop-shadow(0px 1px 2px rgba(0, 0, 0, 0.3));\n",
              "      fill: #FFFFFF;\n",
              "    }\n",
              "  </style>\n",
              "\n",
              "      <script>\n",
              "        const buttonEl =\n",
              "          document.querySelector('#df-40ca1982-f1f5-4cc2-950b-10d18959e9d2 button.colab-df-convert');\n",
              "        buttonEl.style.display =\n",
              "          google.colab.kernel.accessAllowed ? 'block' : 'none';\n",
              "\n",
              "        async function convertToInteractive(key) {\n",
              "          const element = document.querySelector('#df-40ca1982-f1f5-4cc2-950b-10d18959e9d2');\n",
              "          const dataTable =\n",
              "            await google.colab.kernel.invokeFunction('convertToInteractive',\n",
              "                                                     [key], {});\n",
              "          if (!dataTable) return;\n",
              "\n",
              "          const docLinkHtml = 'Like what you see? Visit the ' +\n",
              "            '<a target=\"_blank\" href=https://colab.research.google.com/notebooks/data_table.ipynb>data table notebook</a>'\n",
              "            + ' to learn more about interactive tables.';\n",
              "          element.innerHTML = '';\n",
              "          dataTable['output_type'] = 'display_data';\n",
              "          await google.colab.output.renderOutput(dataTable, element);\n",
              "          const docLink = document.createElement('div');\n",
              "          docLink.innerHTML = docLinkHtml;\n",
              "          element.appendChild(docLink);\n",
              "        }\n",
              "      </script>\n",
              "    </div>\n",
              "  </div>\n",
              "  "
            ]
          },
          "metadata": {},
          "execution_count": 93
        }
      ]
    },
    {
      "cell_type": "code",
      "source": [
        "plt.figure(figsize=(25,6))\n",
        "\n",
        "plt.plot(pricedf['actual'])\n",
        "plt.plot(pricedf['predict']) #, linestyle='dashdot'\n",
        "plt.xlabel('no.')\n",
        "plt.ylabel('price(baht)')\n",
        "plt.title('Actual vs Predicted price')\n",
        "plt.legend(['actual', 'predict'], loc='upper left')"
      ],
      "metadata": {
        "colab": {
          "base_uri": "https://localhost:8080/",
          "height": 0
        },
        "id": "Xb3puMRtMeW8",
        "outputId": "9605dc2a-7b72-4a2f-e4c7-ecd32ee08f41"
      },
      "execution_count": 94,
      "outputs": [
        {
          "output_type": "execute_result",
          "data": {
            "text/plain": [
              "<matplotlib.legend.Legend at 0x7fc171458dd0>"
            ]
          },
          "metadata": {},
          "execution_count": 94
        },
        {
          "output_type": "display_data",
          "data": {
            "text/plain": [
              "<Figure size 1800x432 with 1 Axes>"
            ],
            "image/png": "[encoded data removed]"
          },
          "metadata": {
            "needs_background": "light"
          }
        }
      ]
    },
    {
      "cell_type": "markdown",
      "source": [
        "<h3> Plotting 5 kfold r2-score on different data size"
      ],
      "metadata": {
        "id": "Awq15d73hSQq"
      }
    },
    {
      "cell_type": "code",
      "source": [
        "X_kf = pd.concat([X_train2, X_test2], axis=0)\n",
        "y_kf = pd.concat([y_train, y_test], axis=0)\n",
        "laptop4 = pd.concat([X_kf,y_kf], axis=1)"
      ],
      "metadata": {
        "id": "LJ7FYkH69UDs"
      },
      "execution_count": 95,
      "outputs": []
    },
    {
      "cell_type": "code",
      "source": [
        "score = []\n",
        "for i in range(100,346,5):\n",
        "  df = laptop4.sample(i, random_state=90)\n",
        "  X = df.drop('Price(Baht)', axis=1)\n",
        "  y = df['Price(Baht)']\n",
        "  X_train, X_test, y_train, y_test = train_test_split(X, y, test_size=0.3, random_state=90)\n",
        "  dt.fit(X_train,y_train)\n",
        "  y_pred = dt.predict(X_test)\n",
        "  rscore = cross_val_score(dt, X_train, y_train, scoring='r2', cv=5).mean()\n",
        "  score.append(rscore)"
      ],
      "metadata": {
        "id": "P3EjxDux9LPE"
      },
      "execution_count": 96,
      "outputs": []
    },
    {
      "cell_type": "code",
      "source": [
        "scoredf = pd.DataFrame(data = ([score]), index = ['score'], columns = list(range(100, 346, 5))).transpose()"
      ],
      "metadata": {
        "id": "oZ59VT6x9OcQ"
      },
      "execution_count": 97,
      "outputs": []
    },
    {
      "cell_type": "code",
      "source": [
        "plt.figure(figsize=(25,6))\n",
        "\n",
        "plt.plot(scoredf['score'])\n",
        "plt.xlabel('Data Size')\n",
        "plt.ylabel('r2-score')\n",
        "plt.title('Score vs Data size')"
      ],
      "metadata": {
        "colab": {
          "base_uri": "https://localhost:8080/",
          "height": 0
        },
        "id": "_PnVTl8A9dHV",
        "outputId": "1c9218dc-61dc-4360-855b-f33f509d95a6"
      },
      "execution_count": 98,
      "outputs": [
        {
          "output_type": "execute_result",
          "data": {
            "text/plain": [
              "Text(0.5, 1.0, 'Score vs Data size')"
            ]
          },
          "metadata": {},
          "execution_count": 98
        },
        {
          "output_type": "display_data",
          "data": {
            "text/plain": [
              "<Figure size 1800x432 with 1 Axes>"
            ],
            "image/png": "[encoded data removed]"
          },
          "metadata": {
            "needs_background": "light"
          }
        }
      ]
    }
  ]
}