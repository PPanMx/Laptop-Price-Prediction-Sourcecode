{
  "nbformat": 4,
  "nbformat_minor": 0,
  "metadata": {
    "colab": {
      "name": "Laptop_RandomForest.ipynb",
      "provenance": [],
      "collapsed_sections": []
    },
    "kernelspec": {
      "name": "python3",
      "display_name": "Python 3"
    },
    "language_info": {
      "name": "python"
    }
  },
  "cells": [
    {
      "cell_type": "markdown",
      "source": [
        "# Import libaries"
      ],
      "metadata": {
        "id": "lKUQamuRBI1l"
      }
    },
    {
      "cell_type": "code",
      "execution_count": null,
      "metadata": {
        "id": "BL5yzP07hSVJ"
      },
      "outputs": [],
      "source": [
        "import pandas as pd\n",
        "import numpy as np\n",
        "import matplotlib.pyplot as plt\n",
        "import seaborn as sns\n",
        "\n",
        "import sklearn\n",
        "from sklearn.model_selection import train_test_split, KFold, GridSearchCV, RandomizedSearchCV, cross_val_score\n",
        "\n",
        "from sklearn.metrics import r2_score,mean_absolute_error,mean_squared_error\n",
        "from sklearn.ensemble import RandomForestRegressor\n",
        "from sklearn.feature_selection import RFE\n",
        "\n",
        "import warnings # supress warnings\n",
        "warnings.filterwarnings('ignore')"
      ]
    },
    {
      "cell_type": "markdown",
      "source": [
        "# Import dataset csv file\n",
        "\n",
        "`pd.read_csv()` is use to read csv file and convert into dataframe\n",
        "\n",
        "`.head()` is show the first five row of the dataset (as default)"
      ],
      "metadata": {
        "id": "d1iatHWPBPgA"
      }
    },
    {
      "cell_type": "code",
      "source": [
        "# import labtop dataset\n",
        "laptop = pd.read_csv('/content/drive/MyDrive/Colab Notebooks/AI/Project/Data/test4.csv')\n",
        "laptop.head()"
      ],
      "metadata": {
        "colab": {
          "base_uri": "https://localhost:8080/"
        },
        "id": "oxCKD_VOjp36",
        "outputId": "6b01c54f-6f5c-489b-86de-b7d29fc84d94"
      },
      "execution_count": null,
      "outputs": [
        {
          "output_type": "execute_result",
          "data": {
            "text/plain": [
              "   No.  Brand                                        Series  Weight(kg)  \\\n",
              "0    1  Apple    MacBook Pro 16 Space Grey-32C GPU/32GB/2TB         2.2   \n",
              "1    2  Apple    MacBook Pro 16 Space Grey-32C GPU/32GB/1TB         2.2   \n",
              "2    3  Apple    MacBook Pro 16 Space Grey-16C GPU/16GB/1TB         2.1   \n",
              "3    4  Apple  MacBook Pro 16 Space Grey-16C GPU/16GB/512GB         2.1   \n",
              "4    5  Apple        MacBook Pro 14 Silver-16C GPU/16GB/2TB         1.6   \n",
              "\n",
              "   Width(cm)  Depth(cm)  Height(cm)  Screen Size(inch) Display Resolution  \\\n",
              "0      35.57      24.81        1.68               16.2     IPS  3456x2234   \n",
              "1      35.57      24.81        1.68               16.2     IPS  3456x2234   \n",
              "2      35.57      24.81        1.68               16.2     IPS  3456x2234   \n",
              "3      35.57      24.81        1.68               16.2     IPS  3456x2234   \n",
              "4      31.26      22.12        1.55               14.2     IPS  3024x1964   \n",
              "\n",
              "      OS                   CPU                       GPU  RAM(GB)  \\\n",
              "0  macOS          Apple M1 Max  Apple M1 Max 32-Core GPU       32   \n",
              "1  macOS          Apple M1 Max  Apple M1 Max 32-Core GPU       32   \n",
              "2  macOS  Apple M1 Pro 10-Core  Apple M1 Pro 16-Core GPU       16   \n",
              "3  macOS  Apple M1 Pro 10-Core  Apple M1 Pro 16-Core GPU       16   \n",
              "4  macOS  Apple M1 Pro 10-Core  Apple M1 Pro 16-Core GPU       16   \n",
              "\n",
              "   Processor Speed(GHz)  Storage(GB) StorageType  Price(Baht)  \n",
              "0                   4.0         2000         SSD       138900  \n",
              "1                   4.0         1000         SSD       124900  \n",
              "2                   3.4         1000         SSD        96900  \n",
              "3                   3.4          512         SSD        89900  \n",
              "4                   3.4         2000         SSD       103900  "
            ],
            "text/html": [
              "\n",
              "  <div id=\"df-b1f519f4-1015-4678-aec2-5969bb2b53b4\">\n",
              "    <div class=\"colab-df-container\">\n",
              "      <div>\n",
              "<style scoped>\n",
              "    .dataframe tbody tr th:only-of-type {\n",
              "        vertical-align: middle;\n",
              "    }\n",
              "\n",
              "    .dataframe tbody tr th {\n",
              "        vertical-align: top;\n",
              "    }\n",
              "\n",
              "    .dataframe thead th {\n",
              "        text-align: right;\n",
              "    }\n",
              "</style>\n",
              "<table border=\"1\" class=\"dataframe\">\n",
              "  <thead>\n",
              "    <tr style=\"text-align: right;\">\n",
              "      <th></th>\n",
              "      <th>No.</th>\n",
              "      <th>Brand</th>\n",
              "      <th>Series</th>\n",
              "      <th>Weight(kg)</th>\n",
              "      <th>Width(cm)</th>\n",
              "      <th>Depth(cm)</th>\n",
              "      <th>Height(cm)</th>\n",
              "      <th>Screen Size(inch)</th>\n",
              "      <th>Display</th>\n",
              "      <th>Resolution</th>\n",
              "      <th>OS</th>\n",
              "      <th>CPU</th>\n",
              "      <th>GPU</th>\n",
              "      <th>RAM(GB)</th>\n",
              "      <th>Processor Speed(GHz)</th>\n",
              "      <th>Storage(GB)</th>\n",
              "      <th>StorageType</th>\n",
              "      <th>Price(Baht)</th>\n",
              "    </tr>\n",
              "  </thead>\n",
              "  <tbody>\n",
              "    <tr>\n",
              "      <th>0</th>\n",
              "      <td>1</td>\n",
              "      <td>Apple</td>\n",
              "      <td>MacBook Pro 16 Space Grey-32C GPU/32GB/2TB</td>\n",
              "      <td>2.2</td>\n",
              "      <td>35.57</td>\n",
              "      <td>24.81</td>\n",
              "      <td>1.68</td>\n",
              "      <td>16.2</td>\n",
              "      <td>IPS</td>\n",
              "      <td>3456x2234</td>\n",
              "      <td>macOS</td>\n",
              "      <td>Apple M1 Max</td>\n",
              "      <td>Apple M1 Max 32-Core GPU</td>\n",
              "      <td>32</td>\n",
              "      <td>4.0</td>\n",
              "      <td>2000</td>\n",
              "      <td>SSD</td>\n",
              "      <td>138900</td>\n",
              "    </tr>\n",
              "    <tr>\n",
              "      <th>1</th>\n",
              "      <td>2</td>\n",
              "      <td>Apple</td>\n",
              "      <td>MacBook Pro 16 Space Grey-32C GPU/32GB/1TB</td>\n",
              "      <td>2.2</td>\n",
              "      <td>35.57</td>\n",
              "      <td>24.81</td>\n",
              "      <td>1.68</td>\n",
              "      <td>16.2</td>\n",
              "      <td>IPS</td>\n",
              "      <td>3456x2234</td>\n",
              "      <td>macOS</td>\n",
              "      <td>Apple M1 Max</td>\n",
              "      <td>Apple M1 Max 32-Core GPU</td>\n",
              "      <td>32</td>\n",
              "      <td>4.0</td>\n",
              "      <td>1000</td>\n",
              "      <td>SSD</td>\n",
              "      <td>124900</td>\n",
              "    </tr>\n",
              "    <tr>\n",
              "      <th>2</th>\n",
              "      <td>3</td>\n",
              "      <td>Apple</td>\n",
              "      <td>MacBook Pro 16 Space Grey-16C GPU/16GB/1TB</td>\n",
              "      <td>2.1</td>\n",
              "      <td>35.57</td>\n",
              "      <td>24.81</td>\n",
              "      <td>1.68</td>\n",
              "      <td>16.2</td>\n",
              "      <td>IPS</td>\n",
              "      <td>3456x2234</td>\n",
              "      <td>macOS</td>\n",
              "      <td>Apple M1 Pro 10-Core</td>\n",
              "      <td>Apple M1 Pro 16-Core GPU</td>\n",
              "      <td>16</td>\n",
              "      <td>3.4</td>\n",
              "      <td>1000</td>\n",
              "      <td>SSD</td>\n",
              "      <td>96900</td>\n",
              "    </tr>\n",
              "    <tr>\n",
              "      <th>3</th>\n",
              "      <td>4</td>\n",
              "      <td>Apple</td>\n",
              "      <td>MacBook Pro 16 Space Grey-16C GPU/16GB/512GB</td>\n",
              "      <td>2.1</td>\n",
              "      <td>35.57</td>\n",
              "      <td>24.81</td>\n",
              "      <td>1.68</td>\n",
              "      <td>16.2</td>\n",
              "      <td>IPS</td>\n",
              "      <td>3456x2234</td>\n",
              "      <td>macOS</td>\n",
              "      <td>Apple M1 Pro 10-Core</td>\n",
              "      <td>Apple M1 Pro 16-Core GPU</td>\n",
              "      <td>16</td>\n",
              "      <td>3.4</td>\n",
              "      <td>512</td>\n",
              "      <td>SSD</td>\n",
              "      <td>89900</td>\n",
              "    </tr>\n",
              "    <tr>\n",
              "      <th>4</th>\n",
              "      <td>5</td>\n",
              "      <td>Apple</td>\n",
              "      <td>MacBook Pro 14 Silver-16C GPU/16GB/2TB</td>\n",
              "      <td>1.6</td>\n",
              "      <td>31.26</td>\n",
              "      <td>22.12</td>\n",
              "      <td>1.55</td>\n",
              "      <td>14.2</td>\n",
              "      <td>IPS</td>\n",
              "      <td>3024x1964</td>\n",
              "      <td>macOS</td>\n",
              "      <td>Apple M1 Pro 10-Core</td>\n",
              "      <td>Apple M1 Pro 16-Core GPU</td>\n",
              "      <td>16</td>\n",
              "      <td>3.4</td>\n",
              "      <td>2000</td>\n",
              "      <td>SSD</td>\n",
              "      <td>103900</td>\n",
              "    </tr>\n",
              "  </tbody>\n",
              "</table>\n",
              "</div>\n",
              "      <button class=\"colab-df-convert\" onclick=\"convertToInteractive('df-b1f519f4-1015-4678-aec2-5969bb2b53b4')\"\n",
              "              title=\"Convert this dataframe to an interactive table.\"\n",
              "              style=\"display:none;\">\n",
              "        \n",
              "  <svg xmlns=\"http://www.w3.org/2000/svg\" height=\"24px\"viewBox=\"0 0 24 24\"\n",
              "       width=\"24px\">\n",
              "    <path d=\"M0 0h24v24H0V0z\" fill=\"none\"/>\n",
              "    <path d=\"M18.56 5.44l.94 2.06.94-2.06 2.06-.94-2.06-.94-.94-2.06-.94 2.06-2.06.94zm-11 1L8.5 8.5l.94-2.06 2.06-.94-2.06-.94L8.5 2.5l-.94 2.06-2.06.94zm10 10l.94 2.06.94-2.06 2.06-.94-2.06-.94-.94-2.06-.94 2.06-2.06.94z\"/><path d=\"M17.41 7.96l-1.37-1.37c-.4-.4-.92-.59-1.43-.59-.52 0-1.04.2-1.43.59L10.3 9.45l-7.72 7.72c-.78.78-.78 2.05 0 2.83L4 21.41c.39.39.9.59 1.41.59.51 0 1.02-.2 1.41-.59l7.78-7.78 2.81-2.81c.8-.78.8-2.07 0-2.86zM5.41 20L4 18.59l7.72-7.72 1.47 1.35L5.41 20z\"/>\n",
              "  </svg>\n",
              "      </button>\n",
              "      \n",
              "  <style>\n",
              "    .colab-df-container {\n",
              "      display:flex;\n",
              "      flex-wrap:wrap;\n",
              "      gap: 12px;\n",
              "    }\n",
              "\n",
              "    .colab-df-convert {\n",
              "      background-color: #E8F0FE;\n",
              "      border: none;\n",
              "      border-radius: 50%;\n",
              "      cursor: pointer;\n",
              "      display: none;\n",
              "      fill: #1967D2;\n",
              "      height: 32px;\n",
              "      padding: 0 0 0 0;\n",
              "      width: 32px;\n",
              "    }\n",
              "\n",
              "    .colab-df-convert:hover {\n",
              "      background-color: #E2EBFA;\n",
              "      box-shadow: 0px 1px 2px rgba(60, 64, 67, 0.3), 0px 1px 3px 1px rgba(60, 64, 67, 0.15);\n",
              "      fill: #174EA6;\n",
              "    }\n",
              "\n",
              "    [theme=dark] .colab-df-convert {\n",
              "      background-color: #3B4455;\n",
              "      fill: #D2E3FC;\n",
              "    }\n",
              "\n",
              "    [theme=dark] .colab-df-convert:hover {\n",
              "      background-color: #434B5C;\n",
              "      box-shadow: 0px 1px 3px 1px rgba(0, 0, 0, 0.15);\n",
              "      filter: drop-shadow(0px 1px 2px rgba(0, 0, 0, 0.3));\n",
              "      fill: #FFFFFF;\n",
              "    }\n",
              "  </style>\n",
              "\n",
              "      <script>\n",
              "        const buttonEl =\n",
              "          document.querySelector('#df-b1f519f4-1015-4678-aec2-5969bb2b53b4 button.colab-df-convert');\n",
              "        buttonEl.style.display =\n",
              "          google.colab.kernel.accessAllowed ? 'block' : 'none';\n",
              "\n",
              "        async function convertToInteractive(key) {\n",
              "          const element = document.querySelector('#df-b1f519f4-1015-4678-aec2-5969bb2b53b4');\n",
              "          const dataTable =\n",
              "            await google.colab.kernel.invokeFunction('convertToInteractive',\n",
              "                                                     [key], {});\n",
              "          if (!dataTable) return;\n",
              "\n",
              "          const docLinkHtml = 'Like what you see? Visit the ' +\n",
              "            '<a target=\"_blank\" href=https://colab.research.google.com/notebooks/data_table.ipynb>data table notebook</a>'\n",
              "            + ' to learn more about interactive tables.';\n",
              "          element.innerHTML = '';\n",
              "          dataTable['output_type'] = 'display_data';\n",
              "          await google.colab.output.renderOutput(dataTable, element);\n",
              "          const docLink = document.createElement('div');\n",
              "          docLink.innerHTML = docLinkHtml;\n",
              "          element.appendChild(docLink);\n",
              "        }\n",
              "      </script>\n",
              "    </div>\n",
              "  </div>\n",
              "  "
            ]
          },
          "metadata": {},
          "execution_count": 53
        }
      ]
    },
    {
      "cell_type": "markdown",
      "source": [
        "# Data preprocessing & Create model"
      ],
      "metadata": {
        "id": "zmaPWlCOJrLW"
      }
    },
    {
      "cell_type": "markdown",
      "source": [
        "`.dropna()` is for drop rows with null value"
      ],
      "metadata": {
        "id": "vA4dULAQCKTW"
      }
    },
    {
      "cell_type": "markdown",
      "source": [
        "`.info()` to show the overall information of the dataframe\n",
        "\n",
        "`.unique()` to show the unique values for that column"
      ],
      "metadata": {
        "id": "mmM8iWOFCqWo"
      }
    },
    {
      "cell_type": "code",
      "source": [
        "laptop = laptop.dropna()"
      ],
      "metadata": {
        "id": "ngdi6Fd8GR8e"
      },
      "execution_count": null,
      "outputs": []
    },
    {
      "cell_type": "code",
      "source": [
        "laptop = laptop.dropna()"
      ],
      "metadata": {
        "id": "xN6DJBaNFzzB"
      },
      "execution_count": null,
      "outputs": []
    },
    {
      "cell_type": "code",
      "source": [
        "laptop.info()"
      ],
      "metadata": {
        "colab": {
          "base_uri": "https://localhost:8080/"
        },
        "id": "Z0RhMtNGygB4",
        "outputId": "12593de5-4565-4015-f61d-b46d10beb456"
      },
      "execution_count": null,
      "outputs": [
        {
          "output_type": "stream",
          "name": "stdout",
          "text": [
            "<class 'pandas.core.frame.DataFrame'>\n",
            "Int64Index: 345 entries, 0 to 344\n",
            "Data columns (total 18 columns):\n",
            " #   Column                Non-Null Count  Dtype  \n",
            "---  ------                --------------  -----  \n",
            " 0   No.                   345 non-null    int64  \n",
            " 1   Brand                 345 non-null    object \n",
            " 2   Series                345 non-null    object \n",
            " 3   Weight(kg)            345 non-null    float64\n",
            " 4   Width(cm)             345 non-null    float64\n",
            " 5   Depth(cm)             345 non-null    float64\n",
            " 6   Height(cm)            345 non-null    float64\n",
            " 7   Screen Size(inch)     345 non-null    float64\n",
            " 8   Display               345 non-null    object \n",
            " 9   Resolution            345 non-null    object \n",
            " 10  OS                    345 non-null    object \n",
            " 11  CPU                   345 non-null    object \n",
            " 12  GPU                   345 non-null    object \n",
            " 13  RAM(GB)               345 non-null    int64  \n",
            " 14  Processor Speed(GHz)  345 non-null    float64\n",
            " 15  Storage(GB)           345 non-null    int64  \n",
            " 16  StorageType           345 non-null    object \n",
            " 17  Price(Baht)           345 non-null    int64  \n",
            "dtypes: float64(6), int64(4), object(8)\n",
            "memory usage: 51.2+ KB\n"
          ]
        }
      ]
    },
    {
      "cell_type": "code",
      "source": [
        "laptop['Resolution'].unique()"
      ],
      "metadata": {
        "colab": {
          "base_uri": "https://localhost:8080/"
        },
        "id": "YAbux_daxv3v",
        "outputId": "720862ff-cb03-4e53-db11-589048df487b"
      },
      "execution_count": null,
      "outputs": [
        {
          "output_type": "execute_result",
          "data": {
            "text/plain": [
              "array(['3456x2234', '3024x1964', '2560x1600', '1920x1080', '2560x1440',\n",
              "       '3840x2160', '3072x1920', '1366x768', '3840x2400', '3456x2160',\n",
              "       '4096x2160', '1920x1200', '2880x1800', '3000x2000', '2520x1680',\n",
              "       '2160x1440'], dtype=object)"
            ]
          },
          "metadata": {},
          "execution_count": 57
        }
      ]
    },
    {
      "cell_type": "markdown",
      "source": [
        "* **Heatmap**: to visualize the correlation between dataset\n",
        "\n",
        "`sns.heatmap` is for draw a heatmap\n",
        "* `.corr()` in `pandas` create a pairwise correlation of columns\n",
        "* if `annot=True`, the data value is show on the heatmap; in this case is correlation value\n",
        "\n",
        "When the correlation value is near 0, It's indicate that it have low or no correlation with each other."
      ],
      "metadata": {
        "id": "anDfPz087uSf"
      }
    },
    {
      "cell_type": "code",
      "source": [
        "fig, ax = plt.subplots(figsize=(8,7))\n",
        "sns.heatmap(laptop.corr(), annot=True, ax=ax)"
      ],
      "metadata": {
        "colab": {
          "base_uri": "https://localhost:8080/"
        },
        "id": "Nc0NPPLTuUqI",
        "outputId": "1a8d07cd-c9fa-428e-d8e2-5468c2705f39"
      },
      "execution_count": null,
      "outputs": [
        {
          "output_type": "execute_result",
          "data": {
            "text/plain": [
              "<matplotlib.axes._subplots.AxesSubplot at 0x7f6a574f7a10>"
            ]
          },
          "metadata": {},
          "execution_count": 58
        },
        {
          "output_type": "display_data",
          "data": {
            "text/plain": [
              "<Figure size 576x504 with 2 Axes>"
            ],
            "image/png": "[encoded data removed]"
          },
          "metadata": {
            "needs_background": "light"
          }
        }
      ]
    },
    {
      "cell_type": "markdown",
      "source": [
        "`.copy()` to copy the laptop dataframe\n",
        "\n",
        "`.drop()` to drop unused column"
      ],
      "metadata": {
        "id": "CNkowhoFDZvU"
      }
    },
    {
      "cell_type": "code",
      "source": [
        "laptop2 = laptop.copy()\n",
        "laptop2.drop(['No.','Series','Height(cm)'], axis=1, inplace=True)\n",
        "laptop2.head()"
      ],
      "metadata": {
        "colab": {
          "base_uri": "https://localhost:8080/"
        },
        "id": "Khu9jqrq3wuj",
        "outputId": "3ee489ce-6df1-4f1d-dc54-70bde7348c2c"
      },
      "execution_count": null,
      "outputs": [
        {
          "output_type": "execute_result",
          "data": {
            "text/plain": [
              "   Brand  Weight(kg)  Width(cm)  Depth(cm)  Screen Size(inch) Display  \\\n",
              "0  Apple         2.2      35.57      24.81               16.2     IPS   \n",
              "1  Apple         2.2      35.57      24.81               16.2     IPS   \n",
              "2  Apple         2.1      35.57      24.81               16.2     IPS   \n",
              "3  Apple         2.1      35.57      24.81               16.2     IPS   \n",
              "4  Apple         1.6      31.26      22.12               14.2     IPS   \n",
              "\n",
              "  Resolution     OS                   CPU                       GPU  RAM(GB)  \\\n",
              "0  3456x2234  macOS          Apple M1 Max  Apple M1 Max 32-Core GPU       32   \n",
              "1  3456x2234  macOS          Apple M1 Max  Apple M1 Max 32-Core GPU       32   \n",
              "2  3456x2234  macOS  Apple M1 Pro 10-Core  Apple M1 Pro 16-Core GPU       16   \n",
              "3  3456x2234  macOS  Apple M1 Pro 10-Core  Apple M1 Pro 16-Core GPU       16   \n",
              "4  3024x1964  macOS  Apple M1 Pro 10-Core  Apple M1 Pro 16-Core GPU       16   \n",
              "\n",
              "   Processor Speed(GHz)  Storage(GB) StorageType  Price(Baht)  \n",
              "0                   4.0         2000         SSD       138900  \n",
              "1                   4.0         1000         SSD       124900  \n",
              "2                   3.4         1000         SSD        96900  \n",
              "3                   3.4          512         SSD        89900  \n",
              "4                   3.4         2000         SSD       103900  "
            ],
            "text/html": [
              "\n",
              "  <div id=\"df-09cc20b2-e4d8-41d5-b744-a4c3aabf3832\">\n",
              "    <div class=\"colab-df-container\">\n",
              "      <div>\n",
              "<style scoped>\n",
              "    .dataframe tbody tr th:only-of-type {\n",
              "        vertical-align: middle;\n",
              "    }\n",
              "\n",
              "    .dataframe tbody tr th {\n",
              "        vertical-align: top;\n",
              "    }\n",
              "\n",
              "    .dataframe thead th {\n",
              "        text-align: right;\n",
              "    }\n",
              "</style>\n",
              "<table border=\"1\" class=\"dataframe\">\n",
              "  <thead>\n",
              "    <tr style=\"text-align: right;\">\n",
              "      <th></th>\n",
              "      <th>Brand</th>\n",
              "      <th>Weight(kg)</th>\n",
              "      <th>Width(cm)</th>\n",
              "      <th>Depth(cm)</th>\n",
              "      <th>Screen Size(inch)</th>\n",
              "      <th>Display</th>\n",
              "      <th>Resolution</th>\n",
              "      <th>OS</th>\n",
              "      <th>CPU</th>\n",
              "      <th>GPU</th>\n",
              "      <th>RAM(GB)</th>\n",
              "      <th>Processor Speed(GHz)</th>\n",
              "      <th>Storage(GB)</th>\n",
              "      <th>StorageType</th>\n",
              "      <th>Price(Baht)</th>\n",
              "    </tr>\n",
              "  </thead>\n",
              "  <tbody>\n",
              "    <tr>\n",
              "      <th>0</th>\n",
              "      <td>Apple</td>\n",
              "      <td>2.2</td>\n",
              "      <td>35.57</td>\n",
              "      <td>24.81</td>\n",
              "      <td>16.2</td>\n",
              "      <td>IPS</td>\n",
              "      <td>3456x2234</td>\n",
              "      <td>macOS</td>\n",
              "      <td>Apple M1 Max</td>\n",
              "      <td>Apple M1 Max 32-Core GPU</td>\n",
              "      <td>32</td>\n",
              "      <td>4.0</td>\n",
              "      <td>2000</td>\n",
              "      <td>SSD</td>\n",
              "      <td>138900</td>\n",
              "    </tr>\n",
              "    <tr>\n",
              "      <th>1</th>\n",
              "      <td>Apple</td>\n",
              "      <td>2.2</td>\n",
              "      <td>35.57</td>\n",
              "      <td>24.81</td>\n",
              "      <td>16.2</td>\n",
              "      <td>IPS</td>\n",
              "      <td>3456x2234</td>\n",
              "      <td>macOS</td>\n",
              "      <td>Apple M1 Max</td>\n",
              "      <td>Apple M1 Max 32-Core GPU</td>\n",
              "      <td>32</td>\n",
              "      <td>4.0</td>\n",
              "      <td>1000</td>\n",
              "      <td>SSD</td>\n",
              "      <td>124900</td>\n",
              "    </tr>\n",
              "    <tr>\n",
              "      <th>2</th>\n",
              "      <td>Apple</td>\n",
              "      <td>2.1</td>\n",
              "      <td>35.57</td>\n",
              "      <td>24.81</td>\n",
              "      <td>16.2</td>\n",
              "      <td>IPS</td>\n",
              "      <td>3456x2234</td>\n",
              "      <td>macOS</td>\n",
              "      <td>Apple M1 Pro 10-Core</td>\n",
              "      <td>Apple M1 Pro 16-Core GPU</td>\n",
              "      <td>16</td>\n",
              "      <td>3.4</td>\n",
              "      <td>1000</td>\n",
              "      <td>SSD</td>\n",
              "      <td>96900</td>\n",
              "    </tr>\n",
              "    <tr>\n",
              "      <th>3</th>\n",
              "      <td>Apple</td>\n",
              "      <td>2.1</td>\n",
              "      <td>35.57</td>\n",
              "      <td>24.81</td>\n",
              "      <td>16.2</td>\n",
              "      <td>IPS</td>\n",
              "      <td>3456x2234</td>\n",
              "      <td>macOS</td>\n",
              "      <td>Apple M1 Pro 10-Core</td>\n",
              "      <td>Apple M1 Pro 16-Core GPU</td>\n",
              "      <td>16</td>\n",
              "      <td>3.4</td>\n",
              "      <td>512</td>\n",
              "      <td>SSD</td>\n",
              "      <td>89900</td>\n",
              "    </tr>\n",
              "    <tr>\n",
              "      <th>4</th>\n",
              "      <td>Apple</td>\n",
              "      <td>1.6</td>\n",
              "      <td>31.26</td>\n",
              "      <td>22.12</td>\n",
              "      <td>14.2</td>\n",
              "      <td>IPS</td>\n",
              "      <td>3024x1964</td>\n",
              "      <td>macOS</td>\n",
              "      <td>Apple M1 Pro 10-Core</td>\n",
              "      <td>Apple M1 Pro 16-Core GPU</td>\n",
              "      <td>16</td>\n",
              "      <td>3.4</td>\n",
              "      <td>2000</td>\n",
              "      <td>SSD</td>\n",
              "      <td>103900</td>\n",
              "    </tr>\n",
              "  </tbody>\n",
              "</table>\n",
              "</div>\n",
              "      <button class=\"colab-df-convert\" onclick=\"convertToInteractive('df-09cc20b2-e4d8-41d5-b744-a4c3aabf3832')\"\n",
              "              title=\"Convert this dataframe to an interactive table.\"\n",
              "              style=\"display:none;\">\n",
              "        \n",
              "  <svg xmlns=\"http://www.w3.org/2000/svg\" height=\"24px\"viewBox=\"0 0 24 24\"\n",
              "       width=\"24px\">\n",
              "    <path d=\"M0 0h24v24H0V0z\" fill=\"none\"/>\n",
              "    <path d=\"M18.56 5.44l.94 2.06.94-2.06 2.06-.94-2.06-.94-.94-2.06-.94 2.06-2.06.94zm-11 1L8.5 8.5l.94-2.06 2.06-.94-2.06-.94L8.5 2.5l-.94 2.06-2.06.94zm10 10l.94 2.06.94-2.06 2.06-.94-2.06-.94-.94-2.06-.94 2.06-2.06.94z\"/><path d=\"M17.41 7.96l-1.37-1.37c-.4-.4-.92-.59-1.43-.59-.52 0-1.04.2-1.43.59L10.3 9.45l-7.72 7.72c-.78.78-.78 2.05 0 2.83L4 21.41c.39.39.9.59 1.41.59.51 0 1.02-.2 1.41-.59l7.78-7.78 2.81-2.81c.8-.78.8-2.07 0-2.86zM5.41 20L4 18.59l7.72-7.72 1.47 1.35L5.41 20z\"/>\n",
              "  </svg>\n",
              "      </button>\n",
              "      \n",
              "  <style>\n",
              "    .colab-df-container {\n",
              "      display:flex;\n",
              "      flex-wrap:wrap;\n",
              "      gap: 12px;\n",
              "    }\n",
              "\n",
              "    .colab-df-convert {\n",
              "      background-color: #E8F0FE;\n",
              "      border: none;\n",
              "      border-radius: 50%;\n",
              "      cursor: pointer;\n",
              "      display: none;\n",
              "      fill: #1967D2;\n",
              "      height: 32px;\n",
              "      padding: 0 0 0 0;\n",
              "      width: 32px;\n",
              "    }\n",
              "\n",
              "    .colab-df-convert:hover {\n",
              "      background-color: #E2EBFA;\n",
              "      box-shadow: 0px 1px 2px rgba(60, 64, 67, 0.3), 0px 1px 3px 1px rgba(60, 64, 67, 0.15);\n",
              "      fill: #174EA6;\n",
              "    }\n",
              "\n",
              "    [theme=dark] .colab-df-convert {\n",
              "      background-color: #3B4455;\n",
              "      fill: #D2E3FC;\n",
              "    }\n",
              "\n",
              "    [theme=dark] .colab-df-convert:hover {\n",
              "      background-color: #434B5C;\n",
              "      box-shadow: 0px 1px 3px 1px rgba(0, 0, 0, 0.15);\n",
              "      filter: drop-shadow(0px 1px 2px rgba(0, 0, 0, 0.3));\n",
              "      fill: #FFFFFF;\n",
              "    }\n",
              "  </style>\n",
              "\n",
              "      <script>\n",
              "        const buttonEl =\n",
              "          document.querySelector('#df-09cc20b2-e4d8-41d5-b744-a4c3aabf3832 button.colab-df-convert');\n",
              "        buttonEl.style.display =\n",
              "          google.colab.kernel.accessAllowed ? 'block' : 'none';\n",
              "\n",
              "        async function convertToInteractive(key) {\n",
              "          const element = document.querySelector('#df-09cc20b2-e4d8-41d5-b744-a4c3aabf3832');\n",
              "          const dataTable =\n",
              "            await google.colab.kernel.invokeFunction('convertToInteractive',\n",
              "                                                     [key], {});\n",
              "          if (!dataTable) return;\n",
              "\n",
              "          const docLinkHtml = 'Like what you see? Visit the ' +\n",
              "            '<a target=\"_blank\" href=https://colab.research.google.com/notebooks/data_table.ipynb>data table notebook</a>'\n",
              "            + ' to learn more about interactive tables.';\n",
              "          element.innerHTML = '';\n",
              "          dataTable['output_type'] = 'display_data';\n",
              "          await google.colab.output.renderOutput(dataTable, element);\n",
              "          const docLink = document.createElement('div');\n",
              "          docLink.innerHTML = docLinkHtml;\n",
              "          element.appendChild(docLink);\n",
              "        }\n",
              "      </script>\n",
              "    </div>\n",
              "  </div>\n",
              "  "
            ]
          },
          "metadata": {},
          "execution_count": 59
        }
      ]
    },
    {
      "cell_type": "code",
      "source": [
        "laptop2.info()"
      ],
      "metadata": {
        "colab": {
          "base_uri": "https://localhost:8080/"
        },
        "id": "csJ2JHb-Fwo4",
        "outputId": "adc55908-b989-4efe-d23f-f605da657ece"
      },
      "execution_count": null,
      "outputs": [
        {
          "output_type": "stream",
          "name": "stdout",
          "text": [
            "<class 'pandas.core.frame.DataFrame'>\n",
            "Int64Index: 345 entries, 0 to 344\n",
            "Data columns (total 15 columns):\n",
            " #   Column                Non-Null Count  Dtype  \n",
            "---  ------                --------------  -----  \n",
            " 0   Brand                 345 non-null    object \n",
            " 1   Weight(kg)            345 non-null    float64\n",
            " 2   Width(cm)             345 non-null    float64\n",
            " 3   Depth(cm)             345 non-null    float64\n",
            " 4   Screen Size(inch)     345 non-null    float64\n",
            " 5   Display               345 non-null    object \n",
            " 6   Resolution            345 non-null    object \n",
            " 7   OS                    345 non-null    object \n",
            " 8   CPU                   345 non-null    object \n",
            " 9   GPU                   345 non-null    object \n",
            " 10  RAM(GB)               345 non-null    int64  \n",
            " 11  Processor Speed(GHz)  345 non-null    float64\n",
            " 12  Storage(GB)           345 non-null    int64  \n",
            " 13  StorageType           345 non-null    object \n",
            " 14  Price(Baht)           345 non-null    int64  \n",
            "dtypes: float64(5), int64(3), object(7)\n",
            "memory usage: 43.1+ KB\n"
          ]
        }
      ]
    },
    {
      "cell_type": "markdown",
      "source": [
        "`.map` is map object result after apply the function; In this case we create a dict to change substitute the resolution into a number\n",
        "\n",
        "`.apply` is to apply the funtion into the dataframe"
      ],
      "metadata": {
        "id": "vpN5Pp52ZUYH"
      }
    },
    {
      "cell_type": "code",
      "source": [
        "def resmap(x):\n",
        "    return x.map({'1366x768': 0, '1920x1080': 1, '1920x1200': 2, '2160x1440': 3, '2520x1680': 4,\n",
        "                  '2560x1440': 5, '2560x1600': 6, '2880x1800': 7, '3000x2000': 8, '3024x1964': 9,\n",
        "                  '3072x1920': 10, '3456x2160': 11, '3456x2234': 12, '3840x2160': 13, '3840x2400': 14,\n",
        "                  '4096x2160': 15})\n",
        "\n",
        "laptop2[['Resolution']] = laptop2[['Resolution']].apply(resmap)\n",
        "laptop2.head()"
      ],
      "metadata": {
        "colab": {
          "base_uri": "https://localhost:8080/"
        },
        "id": "xM22Xdv_7dxc",
        "outputId": "65cd053f-55a7-4c4e-e1be-4cf61bfe1973"
      },
      "execution_count": null,
      "outputs": [
        {
          "output_type": "execute_result",
          "data": {
            "text/plain": [
              "   Brand  Weight(kg)  Width(cm)  Depth(cm)  Screen Size(inch) Display  \\\n",
              "0  Apple         2.2      35.57      24.81               16.2     IPS   \n",
              "1  Apple         2.2      35.57      24.81               16.2     IPS   \n",
              "2  Apple         2.1      35.57      24.81               16.2     IPS   \n",
              "3  Apple         2.1      35.57      24.81               16.2     IPS   \n",
              "4  Apple         1.6      31.26      22.12               14.2     IPS   \n",
              "\n",
              "   Resolution     OS                   CPU                       GPU  RAM(GB)  \\\n",
              "0          12  macOS          Apple M1 Max  Apple M1 Max 32-Core GPU       32   \n",
              "1          12  macOS          Apple M1 Max  Apple M1 Max 32-Core GPU       32   \n",
              "2          12  macOS  Apple M1 Pro 10-Core  Apple M1 Pro 16-Core GPU       16   \n",
              "3          12  macOS  Apple M1 Pro 10-Core  Apple M1 Pro 16-Core GPU       16   \n",
              "4           9  macOS  Apple M1 Pro 10-Core  Apple M1 Pro 16-Core GPU       16   \n",
              "\n",
              "   Processor Speed(GHz)  Storage(GB) StorageType  Price(Baht)  \n",
              "0                   4.0         2000         SSD       138900  \n",
              "1                   4.0         1000         SSD       124900  \n",
              "2                   3.4         1000         SSD        96900  \n",
              "3                   3.4          512         SSD        89900  \n",
              "4                   3.4         2000         SSD       103900  "
            ],
            "text/html": [
              "\n",
              "  <div id=\"df-38e32937-0bb1-420f-b5bf-d9fcca2b6fdb\">\n",
              "    <div class=\"colab-df-container\">\n",
              "      <div>\n",
              "<style scoped>\n",
              "    .dataframe tbody tr th:only-of-type {\n",
              "        vertical-align: middle;\n",
              "    }\n",
              "\n",
              "    .dataframe tbody tr th {\n",
              "        vertical-align: top;\n",
              "    }\n",
              "\n",
              "    .dataframe thead th {\n",
              "        text-align: right;\n",
              "    }\n",
              "</style>\n",
              "<table border=\"1\" class=\"dataframe\">\n",
              "  <thead>\n",
              "    <tr style=\"text-align: right;\">\n",
              "      <th></th>\n",
              "      <th>Brand</th>\n",
              "      <th>Weight(kg)</th>\n",
              "      <th>Width(cm)</th>\n",
              "      <th>Depth(cm)</th>\n",
              "      <th>Screen Size(inch)</th>\n",
              "      <th>Display</th>\n",
              "      <th>Resolution</th>\n",
              "      <th>OS</th>\n",
              "      <th>CPU</th>\n",
              "      <th>GPU</th>\n",
              "      <th>RAM(GB)</th>\n",
              "      <th>Processor Speed(GHz)</th>\n",
              "      <th>Storage(GB)</th>\n",
              "      <th>StorageType</th>\n",
              "      <th>Price(Baht)</th>\n",
              "    </tr>\n",
              "  </thead>\n",
              "  <tbody>\n",
              "    <tr>\n",
              "      <th>0</th>\n",
              "      <td>Apple</td>\n",
              "      <td>2.2</td>\n",
              "      <td>35.57</td>\n",
              "      <td>24.81</td>\n",
              "      <td>16.2</td>\n",
              "      <td>IPS</td>\n",
              "      <td>12</td>\n",
              "      <td>macOS</td>\n",
              "      <td>Apple M1 Max</td>\n",
              "      <td>Apple M1 Max 32-Core GPU</td>\n",
              "      <td>32</td>\n",
              "      <td>4.0</td>\n",
              "      <td>2000</td>\n",
              "      <td>SSD</td>\n",
              "      <td>138900</td>\n",
              "    </tr>\n",
              "    <tr>\n",
              "      <th>1</th>\n",
              "      <td>Apple</td>\n",
              "      <td>2.2</td>\n",
              "      <td>35.57</td>\n",
              "      <td>24.81</td>\n",
              "      <td>16.2</td>\n",
              "      <td>IPS</td>\n",
              "      <td>12</td>\n",
              "      <td>macOS</td>\n",
              "      <td>Apple M1 Max</td>\n",
              "      <td>Apple M1 Max 32-Core GPU</td>\n",
              "      <td>32</td>\n",
              "      <td>4.0</td>\n",
              "      <td>1000</td>\n",
              "      <td>SSD</td>\n",
              "      <td>124900</td>\n",
              "    </tr>\n",
              "    <tr>\n",
              "      <th>2</th>\n",
              "      <td>Apple</td>\n",
              "      <td>2.1</td>\n",
              "      <td>35.57</td>\n",
              "      <td>24.81</td>\n",
              "      <td>16.2</td>\n",
              "      <td>IPS</td>\n",
              "      <td>12</td>\n",
              "      <td>macOS</td>\n",
              "      <td>Apple M1 Pro 10-Core</td>\n",
              "      <td>Apple M1 Pro 16-Core GPU</td>\n",
              "      <td>16</td>\n",
              "      <td>3.4</td>\n",
              "      <td>1000</td>\n",
              "      <td>SSD</td>\n",
              "      <td>96900</td>\n",
              "    </tr>\n",
              "    <tr>\n",
              "      <th>3</th>\n",
              "      <td>Apple</td>\n",
              "      <td>2.1</td>\n",
              "      <td>35.57</td>\n",
              "      <td>24.81</td>\n",
              "      <td>16.2</td>\n",
              "      <td>IPS</td>\n",
              "      <td>12</td>\n",
              "      <td>macOS</td>\n",
              "      <td>Apple M1 Pro 10-Core</td>\n",
              "      <td>Apple M1 Pro 16-Core GPU</td>\n",
              "      <td>16</td>\n",
              "      <td>3.4</td>\n",
              "      <td>512</td>\n",
              "      <td>SSD</td>\n",
              "      <td>89900</td>\n",
              "    </tr>\n",
              "    <tr>\n",
              "      <th>4</th>\n",
              "      <td>Apple</td>\n",
              "      <td>1.6</td>\n",
              "      <td>31.26</td>\n",
              "      <td>22.12</td>\n",
              "      <td>14.2</td>\n",
              "      <td>IPS</td>\n",
              "      <td>9</td>\n",
              "      <td>macOS</td>\n",
              "      <td>Apple M1 Pro 10-Core</td>\n",
              "      <td>Apple M1 Pro 16-Core GPU</td>\n",
              "      <td>16</td>\n",
              "      <td>3.4</td>\n",
              "      <td>2000</td>\n",
              "      <td>SSD</td>\n",
              "      <td>103900</td>\n",
              "    </tr>\n",
              "  </tbody>\n",
              "</table>\n",
              "</div>\n",
              "      <button class=\"colab-df-convert\" onclick=\"convertToInteractive('df-38e32937-0bb1-420f-b5bf-d9fcca2b6fdb')\"\n",
              "              title=\"Convert this dataframe to an interactive table.\"\n",
              "              style=\"display:none;\">\n",
              "        \n",
              "  <svg xmlns=\"http://www.w3.org/2000/svg\" height=\"24px\"viewBox=\"0 0 24 24\"\n",
              "       width=\"24px\">\n",
              "    <path d=\"M0 0h24v24H0V0z\" fill=\"none\"/>\n",
              "    <path d=\"M18.56 5.44l.94 2.06.94-2.06 2.06-.94-2.06-.94-.94-2.06-.94 2.06-2.06.94zm-11 1L8.5 8.5l.94-2.06 2.06-.94-2.06-.94L8.5 2.5l-.94 2.06-2.06.94zm10 10l.94 2.06.94-2.06 2.06-.94-2.06-.94-.94-2.06-.94 2.06-2.06.94z\"/><path d=\"M17.41 7.96l-1.37-1.37c-.4-.4-.92-.59-1.43-.59-.52 0-1.04.2-1.43.59L10.3 9.45l-7.72 7.72c-.78.78-.78 2.05 0 2.83L4 21.41c.39.39.9.59 1.41.59.51 0 1.02-.2 1.41-.59l7.78-7.78 2.81-2.81c.8-.78.8-2.07 0-2.86zM5.41 20L4 18.59l7.72-7.72 1.47 1.35L5.41 20z\"/>\n",
              "  </svg>\n",
              "      </button>\n",
              "      \n",
              "  <style>\n",
              "    .colab-df-container {\n",
              "      display:flex;\n",
              "      flex-wrap:wrap;\n",
              "      gap: 12px;\n",
              "    }\n",
              "\n",
              "    .colab-df-convert {\n",
              "      background-color: #E8F0FE;\n",
              "      border: none;\n",
              "      border-radius: 50%;\n",
              "      cursor: pointer;\n",
              "      display: none;\n",
              "      fill: #1967D2;\n",
              "      height: 32px;\n",
              "      padding: 0 0 0 0;\n",
              "      width: 32px;\n",
              "    }\n",
              "\n",
              "    .colab-df-convert:hover {\n",
              "      background-color: #E2EBFA;\n",
              "      box-shadow: 0px 1px 2px rgba(60, 64, 67, 0.3), 0px 1px 3px 1px rgba(60, 64, 67, 0.15);\n",
              "      fill: #174EA6;\n",
              "    }\n",
              "\n",
              "    [theme=dark] .colab-df-convert {\n",
              "      background-color: #3B4455;\n",
              "      fill: #D2E3FC;\n",
              "    }\n",
              "\n",
              "    [theme=dark] .colab-df-convert:hover {\n",
              "      background-color: #434B5C;\n",
              "      box-shadow: 0px 1px 3px 1px rgba(0, 0, 0, 0.15);\n",
              "      filter: drop-shadow(0px 1px 2px rgba(0, 0, 0, 0.3));\n",
              "      fill: #FFFFFF;\n",
              "    }\n",
              "  </style>\n",
              "\n",
              "      <script>\n",
              "        const buttonEl =\n",
              "          document.querySelector('#df-38e32937-0bb1-420f-b5bf-d9fcca2b6fdb button.colab-df-convert');\n",
              "        buttonEl.style.display =\n",
              "          google.colab.kernel.accessAllowed ? 'block' : 'none';\n",
              "\n",
              "        async function convertToInteractive(key) {\n",
              "          const element = document.querySelector('#df-38e32937-0bb1-420f-b5bf-d9fcca2b6fdb');\n",
              "          const dataTable =\n",
              "            await google.colab.kernel.invokeFunction('convertToInteractive',\n",
              "                                                     [key], {});\n",
              "          if (!dataTable) return;\n",
              "\n",
              "          const docLinkHtml = 'Like what you see? Visit the ' +\n",
              "            '<a target=\"_blank\" href=https://colab.research.google.com/notebooks/data_table.ipynb>data table notebook</a>'\n",
              "            + ' to learn more about interactive tables.';\n",
              "          element.innerHTML = '';\n",
              "          dataTable['output_type'] = 'display_data';\n",
              "          await google.colab.output.renderOutput(dataTable, element);\n",
              "          const docLink = document.createElement('div');\n",
              "          docLink.innerHTML = docLinkHtml;\n",
              "          element.appendChild(docLink);\n",
              "        }\n",
              "      </script>\n",
              "    </div>\n",
              "  </div>\n",
              "  "
            ]
          },
          "metadata": {},
          "execution_count": 61
        }
      ]
    },
    {
      "cell_type": "code",
      "source": [
        "def sttmap(x):\n",
        "    return x.map({'HDD': 0, 'eMMC': 1, 'SSD': 2})\n",
        "\n",
        "laptop2[['StorageType']] = laptop2[['StorageType']].apply(sttmap)\n",
        "laptop2.head()"
      ],
      "metadata": {
        "colab": {
          "base_uri": "https://localhost:8080/"
        },
        "id": "hP4ddviM7lbP",
        "outputId": "962c1f16-5ae1-47c5-eb96-cede63db0f35"
      },
      "execution_count": null,
      "outputs": [
        {
          "output_type": "execute_result",
          "data": {
            "text/plain": [
              "   Brand  Weight(kg)  Width(cm)  Depth(cm)  Screen Size(inch) Display  \\\n",
              "0  Apple         2.2      35.57      24.81               16.2     IPS   \n",
              "1  Apple         2.2      35.57      24.81               16.2     IPS   \n",
              "2  Apple         2.1      35.57      24.81               16.2     IPS   \n",
              "3  Apple         2.1      35.57      24.81               16.2     IPS   \n",
              "4  Apple         1.6      31.26      22.12               14.2     IPS   \n",
              "\n",
              "   Resolution     OS                   CPU                       GPU  RAM(GB)  \\\n",
              "0          12  macOS          Apple M1 Max  Apple M1 Max 32-Core GPU       32   \n",
              "1          12  macOS          Apple M1 Max  Apple M1 Max 32-Core GPU       32   \n",
              "2          12  macOS  Apple M1 Pro 10-Core  Apple M1 Pro 16-Core GPU       16   \n",
              "3          12  macOS  Apple M1 Pro 10-Core  Apple M1 Pro 16-Core GPU       16   \n",
              "4           9  macOS  Apple M1 Pro 10-Core  Apple M1 Pro 16-Core GPU       16   \n",
              "\n",
              "   Processor Speed(GHz)  Storage(GB)  StorageType  Price(Baht)  \n",
              "0                   4.0         2000            2       138900  \n",
              "1                   4.0         1000            2       124900  \n",
              "2                   3.4         1000            2        96900  \n",
              "3                   3.4          512            2        89900  \n",
              "4                   3.4         2000            2       103900  "
            ],
            "text/html": [
              "\n",
              "  <div id=\"df-8cf53e8a-2dc6-45fd-af54-78fa31ea5cbf\">\n",
              "    <div class=\"colab-df-container\">\n",
              "      <div>\n",
              "<style scoped>\n",
              "    .dataframe tbody tr th:only-of-type {\n",
              "        vertical-align: middle;\n",
              "    }\n",
              "\n",
              "    .dataframe tbody tr th {\n",
              "        vertical-align: top;\n",
              "    }\n",
              "\n",
              "    .dataframe thead th {\n",
              "        text-align: right;\n",
              "    }\n",
              "</style>\n",
              "<table border=\"1\" class=\"dataframe\">\n",
              "  <thead>\n",
              "    <tr style=\"text-align: right;\">\n",
              "      <th></th>\n",
              "      <th>Brand</th>\n",
              "      <th>Weight(kg)</th>\n",
              "      <th>Width(cm)</th>\n",
              "      <th>Depth(cm)</th>\n",
              "      <th>Screen Size(inch)</th>\n",
              "      <th>Display</th>\n",
              "      <th>Resolution</th>\n",
              "      <th>OS</th>\n",
              "      <th>CPU</th>\n",
              "      <th>GPU</th>\n",
              "      <th>RAM(GB)</th>\n",
              "      <th>Processor Speed(GHz)</th>\n",
              "      <th>Storage(GB)</th>\n",
              "      <th>StorageType</th>\n",
              "      <th>Price(Baht)</th>\n",
              "    </tr>\n",
              "  </thead>\n",
              "  <tbody>\n",
              "    <tr>\n",
              "      <th>0</th>\n",
              "      <td>Apple</td>\n",
              "      <td>2.2</td>\n",
              "      <td>35.57</td>\n",
              "      <td>24.81</td>\n",
              "      <td>16.2</td>\n",
              "      <td>IPS</td>\n",
              "      <td>12</td>\n",
              "      <td>macOS</td>\n",
              "      <td>Apple M1 Max</td>\n",
              "      <td>Apple M1 Max 32-Core GPU</td>\n",
              "      <td>32</td>\n",
              "      <td>4.0</td>\n",
              "      <td>2000</td>\n",
              "      <td>2</td>\n",
              "      <td>138900</td>\n",
              "    </tr>\n",
              "    <tr>\n",
              "      <th>1</th>\n",
              "      <td>Apple</td>\n",
              "      <td>2.2</td>\n",
              "      <td>35.57</td>\n",
              "      <td>24.81</td>\n",
              "      <td>16.2</td>\n",
              "      <td>IPS</td>\n",
              "      <td>12</td>\n",
              "      <td>macOS</td>\n",
              "      <td>Apple M1 Max</td>\n",
              "      <td>Apple M1 Max 32-Core GPU</td>\n",
              "      <td>32</td>\n",
              "      <td>4.0</td>\n",
              "      <td>1000</td>\n",
              "      <td>2</td>\n",
              "      <td>124900</td>\n",
              "    </tr>\n",
              "    <tr>\n",
              "      <th>2</th>\n",
              "      <td>Apple</td>\n",
              "      <td>2.1</td>\n",
              "      <td>35.57</td>\n",
              "      <td>24.81</td>\n",
              "      <td>16.2</td>\n",
              "      <td>IPS</td>\n",
              "      <td>12</td>\n",
              "      <td>macOS</td>\n",
              "      <td>Apple M1 Pro 10-Core</td>\n",
              "      <td>Apple M1 Pro 16-Core GPU</td>\n",
              "      <td>16</td>\n",
              "      <td>3.4</td>\n",
              "      <td>1000</td>\n",
              "      <td>2</td>\n",
              "      <td>96900</td>\n",
              "    </tr>\n",
              "    <tr>\n",
              "      <th>3</th>\n",
              "      <td>Apple</td>\n",
              "      <td>2.1</td>\n",
              "      <td>35.57</td>\n",
              "      <td>24.81</td>\n",
              "      <td>16.2</td>\n",
              "      <td>IPS</td>\n",
              "      <td>12</td>\n",
              "      <td>macOS</td>\n",
              "      <td>Apple M1 Pro 10-Core</td>\n",
              "      <td>Apple M1 Pro 16-Core GPU</td>\n",
              "      <td>16</td>\n",
              "      <td>3.4</td>\n",
              "      <td>512</td>\n",
              "      <td>2</td>\n",
              "      <td>89900</td>\n",
              "    </tr>\n",
              "    <tr>\n",
              "      <th>4</th>\n",
              "      <td>Apple</td>\n",
              "      <td>1.6</td>\n",
              "      <td>31.26</td>\n",
              "      <td>22.12</td>\n",
              "      <td>14.2</td>\n",
              "      <td>IPS</td>\n",
              "      <td>9</td>\n",
              "      <td>macOS</td>\n",
              "      <td>Apple M1 Pro 10-Core</td>\n",
              "      <td>Apple M1 Pro 16-Core GPU</td>\n",
              "      <td>16</td>\n",
              "      <td>3.4</td>\n",
              "      <td>2000</td>\n",
              "      <td>2</td>\n",
              "      <td>103900</td>\n",
              "    </tr>\n",
              "  </tbody>\n",
              "</table>\n",
              "</div>\n",
              "      <button class=\"colab-df-convert\" onclick=\"convertToInteractive('df-8cf53e8a-2dc6-45fd-af54-78fa31ea5cbf')\"\n",
              "              title=\"Convert this dataframe to an interactive table.\"\n",
              "              style=\"display:none;\">\n",
              "        \n",
              "  <svg xmlns=\"http://www.w3.org/2000/svg\" height=\"24px\"viewBox=\"0 0 24 24\"\n",
              "       width=\"24px\">\n",
              "    <path d=\"M0 0h24v24H0V0z\" fill=\"none\"/>\n",
              "    <path d=\"M18.56 5.44l.94 2.06.94-2.06 2.06-.94-2.06-.94-.94-2.06-.94 2.06-2.06.94zm-11 1L8.5 8.5l.94-2.06 2.06-.94-2.06-.94L8.5 2.5l-.94 2.06-2.06.94zm10 10l.94 2.06.94-2.06 2.06-.94-2.06-.94-.94-2.06-.94 2.06-2.06.94z\"/><path d=\"M17.41 7.96l-1.37-1.37c-.4-.4-.92-.59-1.43-.59-.52 0-1.04.2-1.43.59L10.3 9.45l-7.72 7.72c-.78.78-.78 2.05 0 2.83L4 21.41c.39.39.9.59 1.41.59.51 0 1.02-.2 1.41-.59l7.78-7.78 2.81-2.81c.8-.78.8-2.07 0-2.86zM5.41 20L4 18.59l7.72-7.72 1.47 1.35L5.41 20z\"/>\n",
              "  </svg>\n",
              "      </button>\n",
              "      \n",
              "  <style>\n",
              "    .colab-df-container {\n",
              "      display:flex;\n",
              "      flex-wrap:wrap;\n",
              "      gap: 12px;\n",
              "    }\n",
              "\n",
              "    .colab-df-convert {\n",
              "      background-color: #E8F0FE;\n",
              "      border: none;\n",
              "      border-radius: 50%;\n",
              "      cursor: pointer;\n",
              "      display: none;\n",
              "      fill: #1967D2;\n",
              "      height: 32px;\n",
              "      padding: 0 0 0 0;\n",
              "      width: 32px;\n",
              "    }\n",
              "\n",
              "    .colab-df-convert:hover {\n",
              "      background-color: #E2EBFA;\n",
              "      box-shadow: 0px 1px 2px rgba(60, 64, 67, 0.3), 0px 1px 3px 1px rgba(60, 64, 67, 0.15);\n",
              "      fill: #174EA6;\n",
              "    }\n",
              "\n",
              "    [theme=dark] .colab-df-convert {\n",
              "      background-color: #3B4455;\n",
              "      fill: #D2E3FC;\n",
              "    }\n",
              "\n",
              "    [theme=dark] .colab-df-convert:hover {\n",
              "      background-color: #434B5C;\n",
              "      box-shadow: 0px 1px 3px 1px rgba(0, 0, 0, 0.15);\n",
              "      filter: drop-shadow(0px 1px 2px rgba(0, 0, 0, 0.3));\n",
              "      fill: #FFFFFF;\n",
              "    }\n",
              "  </style>\n",
              "\n",
              "      <script>\n",
              "        const buttonEl =\n",
              "          document.querySelector('#df-8cf53e8a-2dc6-45fd-af54-78fa31ea5cbf button.colab-df-convert');\n",
              "        buttonEl.style.display =\n",
              "          google.colab.kernel.accessAllowed ? 'block' : 'none';\n",
              "\n",
              "        async function convertToInteractive(key) {\n",
              "          const element = document.querySelector('#df-8cf53e8a-2dc6-45fd-af54-78fa31ea5cbf');\n",
              "          const dataTable =\n",
              "            await google.colab.kernel.invokeFunction('convertToInteractive',\n",
              "                                                     [key], {});\n",
              "          if (!dataTable) return;\n",
              "\n",
              "          const docLinkHtml = 'Like what you see? Visit the ' +\n",
              "            '<a target=\"_blank\" href=https://colab.research.google.com/notebooks/data_table.ipynb>data table notebook</a>'\n",
              "            + ' to learn more about interactive tables.';\n",
              "          element.innerHTML = '';\n",
              "          dataTable['output_type'] = 'display_data';\n",
              "          await google.colab.output.renderOutput(dataTable, element);\n",
              "          const docLink = document.createElement('div');\n",
              "          docLink.innerHTML = docLinkHtml;\n",
              "          element.appendChild(docLink);\n",
              "        }\n",
              "      </script>\n",
              "    </div>\n",
              "  </div>\n",
              "  "
            ]
          },
          "metadata": {},
          "execution_count": 62
        }
      ]
    },
    {
      "cell_type": "markdown",
      "source": [
        "`!pip` for install the python package; in this case is **category_encoders**"
      ],
      "metadata": {
        "id": "OKf3Tvjs8A40"
      }
    },
    {
      "cell_type": "code",
      "source": [
        "!pip install category_encoders"
      ],
      "metadata": {
        "colab": {
          "base_uri": "https://localhost:8080/"
        },
        "id": "Rxyeief46Kp0",
        "outputId": "566b3b93-2688-414d-ee59-34c28eb65ed7"
      },
      "execution_count": null,
      "outputs": [
        {
          "output_type": "stream",
          "name": "stdout",
          "text": [
            "Requirement already satisfied: category_encoders in /usr/local/lib/python3.7/dist-packages (2.4.0)\n",
            "Requirement already satisfied: scikit-learn>=0.20.0 in /usr/local/lib/python3.7/dist-packages (from category_encoders) (1.0.2)\n",
            "Requirement already satisfied: scipy>=1.0.0 in /usr/local/lib/python3.7/dist-packages (from category_encoders) (1.4.1)\n",
            "Requirement already satisfied: statsmodels>=0.9.0 in /usr/local/lib/python3.7/dist-packages (from category_encoders) (0.10.2)\n",
            "Requirement already satisfied: numpy>=1.14.0 in /usr/local/lib/python3.7/dist-packages (from category_encoders) (1.21.6)\n",
            "Requirement already satisfied: pandas>=0.21.1 in /usr/local/lib/python3.7/dist-packages (from category_encoders) (1.3.5)\n",
            "Requirement already satisfied: patsy>=0.5.1 in /usr/local/lib/python3.7/dist-packages (from category_encoders) (0.5.2)\n",
            "Requirement already satisfied: python-dateutil>=2.7.3 in /usr/local/lib/python3.7/dist-packages (from pandas>=0.21.1->category_encoders) (2.8.2)\n",
            "Requirement already satisfied: pytz>=2017.3 in /usr/local/lib/python3.7/dist-packages (from pandas>=0.21.1->category_encoders) (2022.1)\n",
            "Requirement already satisfied: six in /usr/local/lib/python3.7/dist-packages (from patsy>=0.5.1->category_encoders) (1.15.0)\n",
            "Requirement already satisfied: joblib>=0.11 in /usr/local/lib/python3.7/dist-packages (from scikit-learn>=0.20.0->category_encoders) (1.1.0)\n",
            "Requirement already satisfied: threadpoolctl>=2.0.0 in /usr/local/lib/python3.7/dist-packages (from scikit-learn>=0.20.0->category_encoders) (3.1.0)\n"
          ]
        }
      ]
    },
    {
      "cell_type": "code",
      "source": [
        "import category_encoders as ce"
      ],
      "metadata": {
        "id": "g0DPpNZo5-3i"
      },
      "execution_count": null,
      "outputs": []
    },
    {
      "cell_type": "code",
      "source": [
        "laptop3 = laptop2.copy()\n",
        "laptop3.drop(['Width(cm)', 'Depth(cm)', 'CPU', 'Display', 'Brand'], axis = 1, inplace = True)\n",
        "laptop3.head()"
      ],
      "metadata": {
        "colab": {
          "base_uri": "https://localhost:8080/"
        },
        "id": "jLwDryUGBqn2",
        "outputId": "4af6e617-a8d0-4071-889c-401353a34ecf"
      },
      "execution_count": null,
      "outputs": [
        {
          "output_type": "execute_result",
          "data": {
            "text/plain": [
              "   Weight(kg)  Screen Size(inch)  Resolution     OS                       GPU  \\\n",
              "0         2.2               16.2          12  macOS  Apple M1 Max 32-Core GPU   \n",
              "1         2.2               16.2          12  macOS  Apple M1 Max 32-Core GPU   \n",
              "2         2.1               16.2          12  macOS  Apple M1 Pro 16-Core GPU   \n",
              "3         2.1               16.2          12  macOS  Apple M1 Pro 16-Core GPU   \n",
              "4         1.6               14.2           9  macOS  Apple M1 Pro 16-Core GPU   \n",
              "\n",
              "   RAM(GB)  Processor Speed(GHz)  Storage(GB)  StorageType  Price(Baht)  \n",
              "0       32                   4.0         2000            2       138900  \n",
              "1       32                   4.0         1000            2       124900  \n",
              "2       16                   3.4         1000            2        96900  \n",
              "3       16                   3.4          512            2        89900  \n",
              "4       16                   3.4         2000            2       103900  "
            ],
            "text/html": [
              "\n",
              "  <div id=\"df-f31ce75b-3dd4-4017-9391-0c373930a8c6\">\n",
              "    <div class=\"colab-df-container\">\n",
              "      <div>\n",
              "<style scoped>\n",
              "    .dataframe tbody tr th:only-of-type {\n",
              "        vertical-align: middle;\n",
              "    }\n",
              "\n",
              "    .dataframe tbody tr th {\n",
              "        vertical-align: top;\n",
              "    }\n",
              "\n",
              "    .dataframe thead th {\n",
              "        text-align: right;\n",
              "    }\n",
              "</style>\n",
              "<table border=\"1\" class=\"dataframe\">\n",
              "  <thead>\n",
              "    <tr style=\"text-align: right;\">\n",
              "      <th></th>\n",
              "      <th>Weight(kg)</th>\n",
              "      <th>Screen Size(inch)</th>\n",
              "      <th>Resolution</th>\n",
              "      <th>OS</th>\n",
              "      <th>GPU</th>\n",
              "      <th>RAM(GB)</th>\n",
              "      <th>Processor Speed(GHz)</th>\n",
              "      <th>Storage(GB)</th>\n",
              "      <th>StorageType</th>\n",
              "      <th>Price(Baht)</th>\n",
              "    </tr>\n",
              "  </thead>\n",
              "  <tbody>\n",
              "    <tr>\n",
              "      <th>0</th>\n",
              "      <td>2.2</td>\n",
              "      <td>16.2</td>\n",
              "      <td>12</td>\n",
              "      <td>macOS</td>\n",
              "      <td>Apple M1 Max 32-Core GPU</td>\n",
              "      <td>32</td>\n",
              "      <td>4.0</td>\n",
              "      <td>2000</td>\n",
              "      <td>2</td>\n",
              "      <td>138900</td>\n",
              "    </tr>\n",
              "    <tr>\n",
              "      <th>1</th>\n",
              "      <td>2.2</td>\n",
              "      <td>16.2</td>\n",
              "      <td>12</td>\n",
              "      <td>macOS</td>\n",
              "      <td>Apple M1 Max 32-Core GPU</td>\n",
              "      <td>32</td>\n",
              "      <td>4.0</td>\n",
              "      <td>1000</td>\n",
              "      <td>2</td>\n",
              "      <td>124900</td>\n",
              "    </tr>\n",
              "    <tr>\n",
              "      <th>2</th>\n",
              "      <td>2.1</td>\n",
              "      <td>16.2</td>\n",
              "      <td>12</td>\n",
              "      <td>macOS</td>\n",
              "      <td>Apple M1 Pro 16-Core GPU</td>\n",
              "      <td>16</td>\n",
              "      <td>3.4</td>\n",
              "      <td>1000</td>\n",
              "      <td>2</td>\n",
              "      <td>96900</td>\n",
              "    </tr>\n",
              "    <tr>\n",
              "      <th>3</th>\n",
              "      <td>2.1</td>\n",
              "      <td>16.2</td>\n",
              "      <td>12</td>\n",
              "      <td>macOS</td>\n",
              "      <td>Apple M1 Pro 16-Core GPU</td>\n",
              "      <td>16</td>\n",
              "      <td>3.4</td>\n",
              "      <td>512</td>\n",
              "      <td>2</td>\n",
              "      <td>89900</td>\n",
              "    </tr>\n",
              "    <tr>\n",
              "      <th>4</th>\n",
              "      <td>1.6</td>\n",
              "      <td>14.2</td>\n",
              "      <td>9</td>\n",
              "      <td>macOS</td>\n",
              "      <td>Apple M1 Pro 16-Core GPU</td>\n",
              "      <td>16</td>\n",
              "      <td>3.4</td>\n",
              "      <td>2000</td>\n",
              "      <td>2</td>\n",
              "      <td>103900</td>\n",
              "    </tr>\n",
              "  </tbody>\n",
              "</table>\n",
              "</div>\n",
              "      <button class=\"colab-df-convert\" onclick=\"convertToInteractive('df-f31ce75b-3dd4-4017-9391-0c373930a8c6')\"\n",
              "              title=\"Convert this dataframe to an interactive table.\"\n",
              "              style=\"display:none;\">\n",
              "        \n",
              "  <svg xmlns=\"http://www.w3.org/2000/svg\" height=\"24px\"viewBox=\"0 0 24 24\"\n",
              "       width=\"24px\">\n",
              "    <path d=\"M0 0h24v24H0V0z\" fill=\"none\"/>\n",
              "    <path d=\"M18.56 5.44l.94 2.06.94-2.06 2.06-.94-2.06-.94-.94-2.06-.94 2.06-2.06.94zm-11 1L8.5 8.5l.94-2.06 2.06-.94-2.06-.94L8.5 2.5l-.94 2.06-2.06.94zm10 10l.94 2.06.94-2.06 2.06-.94-2.06-.94-.94-2.06-.94 2.06-2.06.94z\"/><path d=\"M17.41 7.96l-1.37-1.37c-.4-.4-.92-.59-1.43-.59-.52 0-1.04.2-1.43.59L10.3 9.45l-7.72 7.72c-.78.78-.78 2.05 0 2.83L4 21.41c.39.39.9.59 1.41.59.51 0 1.02-.2 1.41-.59l7.78-7.78 2.81-2.81c.8-.78.8-2.07 0-2.86zM5.41 20L4 18.59l7.72-7.72 1.47 1.35L5.41 20z\"/>\n",
              "  </svg>\n",
              "      </button>\n",
              "      \n",
              "  <style>\n",
              "    .colab-df-container {\n",
              "      display:flex;\n",
              "      flex-wrap:wrap;\n",
              "      gap: 12px;\n",
              "    }\n",
              "\n",
              "    .colab-df-convert {\n",
              "      background-color: #E8F0FE;\n",
              "      border: none;\n",
              "      border-radius: 50%;\n",
              "      cursor: pointer;\n",
              "      display: none;\n",
              "      fill: #1967D2;\n",
              "      height: 32px;\n",
              "      padding: 0 0 0 0;\n",
              "      width: 32px;\n",
              "    }\n",
              "\n",
              "    .colab-df-convert:hover {\n",
              "      background-color: #E2EBFA;\n",
              "      box-shadow: 0px 1px 2px rgba(60, 64, 67, 0.3), 0px 1px 3px 1px rgba(60, 64, 67, 0.15);\n",
              "      fill: #174EA6;\n",
              "    }\n",
              "\n",
              "    [theme=dark] .colab-df-convert {\n",
              "      background-color: #3B4455;\n",
              "      fill: #D2E3FC;\n",
              "    }\n",
              "\n",
              "    [theme=dark] .colab-df-convert:hover {\n",
              "      background-color: #434B5C;\n",
              "      box-shadow: 0px 1px 3px 1px rgba(0, 0, 0, 0.15);\n",
              "      filter: drop-shadow(0px 1px 2px rgba(0, 0, 0, 0.3));\n",
              "      fill: #FFFFFF;\n",
              "    }\n",
              "  </style>\n",
              "\n",
              "      <script>\n",
              "        const buttonEl =\n",
              "          document.querySelector('#df-f31ce75b-3dd4-4017-9391-0c373930a8c6 button.colab-df-convert');\n",
              "        buttonEl.style.display =\n",
              "          google.colab.kernel.accessAllowed ? 'block' : 'none';\n",
              "\n",
              "        async function convertToInteractive(key) {\n",
              "          const element = document.querySelector('#df-f31ce75b-3dd4-4017-9391-0c373930a8c6');\n",
              "          const dataTable =\n",
              "            await google.colab.kernel.invokeFunction('convertToInteractive',\n",
              "                                                     [key], {});\n",
              "          if (!dataTable) return;\n",
              "\n",
              "          const docLinkHtml = 'Like what you see? Visit the ' +\n",
              "            '<a target=\"_blank\" href=https://colab.research.google.com/notebooks/data_table.ipynb>data table notebook</a>'\n",
              "            + ' to learn more about interactive tables.';\n",
              "          element.innerHTML = '';\n",
              "          dataTable['output_type'] = 'display_data';\n",
              "          await google.colab.output.renderOutput(dataTable, element);\n",
              "          const docLink = document.createElement('div');\n",
              "          docLink.innerHTML = docLinkHtml;\n",
              "          element.appendChild(docLink);\n",
              "        }\n",
              "      </script>\n",
              "    </div>\n",
              "  </div>\n",
              "  "
            ]
          },
          "metadata": {},
          "execution_count": 65
        }
      ]
    },
    {
      "cell_type": "markdown",
      "source": [
        "`ce.OneHotEncoder` is function similar with function `pd.get_dummies` in pandas.\n",
        "\n",
        "It use for categorical features but we don't have to use `.concat` and `.drop` to merge new data into dataset like `.get_dummies`. It will automatically delete old columns and add new columns into dataset with 0 and 1.\n",
        "\n",
        "`use_cat_names=True` is for encoded the features columns name with in the new generated columns"
      ],
      "metadata": {
        "id": "j7xzcTcI8B-8"
      }
    },
    {
      "cell_type": "code",
      "source": [
        "encoder = ce.OneHotEncoder(use_cat_names=True)"
      ],
      "metadata": {
        "id": "OjdS91Rt6e1y"
      },
      "execution_count": null,
      "outputs": []
    },
    {
      "cell_type": "markdown",
      "source": [
        "Split the test and train dataset\n",
        "\n",
        "* X is included all features **except Price(baht)**\n",
        "* y is have only one columns which is **Price(baht)**\n",
        "\n",
        "`train_test_split` is function in sklearn use for seperate the dataset into test and train data\n",
        "\n",
        "`test_size` is the proportion of the dataset we seperate for test the model\n",
        "\n",
        "`random_state` is for have the same result of split the test and train data everytime we run the program"
      ],
      "metadata": {
        "id": "ZQYV16GY8ISg"
      }
    },
    {
      "cell_type": "code",
      "source": [
        "X = laptop3.drop('Price(Baht)', axis=1)\n",
        "y = laptop3['Price(Baht)']\n",
        "X_train, X_test, y_train, y_test = train_test_split(X, y, test_size=0.3, random_state=90)"
      ],
      "metadata": {
        "id": "FxbeRrDa79AV"
      },
      "execution_count": null,
      "outputs": []
    },
    {
      "cell_type": "markdown",
      "source": [
        "`.fit_transform` for train data\n",
        "\n",
        "`.transform` for test data\n",
        "\n",
        "this because we don't want information from the test data to bias the model."
      ],
      "metadata": {
        "id": "gsLeNJ4f8UPW"
      }
    },
    {
      "cell_type": "code",
      "source": [
        "X_train2 = encoder.fit_transform(X_train)\n",
        "X_test2 = encoder.transform(X_test)"
      ],
      "metadata": {
        "id": "EagPnOab8Kjx"
      },
      "execution_count": null,
      "outputs": []
    },
    {
      "cell_type": "markdown",
      "source": [
        "`max_depth` is maximum depth of tree\n",
        "\n",
        "`min_impurity_decrease` is minimum number to indicate the growing of tree. If split can not decrease impurify more than the set data this will cause the tree to stops growing, because this means nodes will not be purer.\n",
        "\n",
        "`min_samples_split` is minimum number of samples required to split the node; in this case if the node contain less than 10 samples. it will be the last node and stop split further more.\n",
        "\n",
        "`n_estimators` is number of trees in the forest"
      ],
      "metadata": {
        "id": "UnCcjTXbjmAS"
      }
    },
    {
      "cell_type": "code",
      "source": [
        "rf = RandomForestRegressor(max_depth=19, min_impurity_decrease=0.05, min_samples_split=3, n_estimators=105, random_state=44)\n",
        "rf.fit(X_train2, y_train)"
      ],
      "metadata": {
        "id": "uxE9o1jWFgL-",
        "colab": {
          "base_uri": "https://localhost:8080/"
        },
        "outputId": "4b914330-442b-42a4-a92d-fa3b74ae79fe"
      },
      "execution_count": null,
      "outputs": [
        {
          "output_type": "execute_result",
          "data": {
            "text/plain": [
              "RandomForestRegressor(max_depth=19, min_impurity_decrease=0.05,\n",
              "                      min_samples_split=3, n_estimators=105, random_state=44)"
            ]
          },
          "metadata": {},
          "execution_count": 69
        }
      ]
    },
    {
      "cell_type": "code",
      "source": [
        "rf.get_params()"
      ],
      "metadata": {
        "colab": {
          "base_uri": "https://localhost:8080/"
        },
        "id": "tEAgp4Vu4jxv",
        "outputId": "e1726dea-4614-4b3a-b83a-67d99e8763c2"
      },
      "execution_count": null,
      "outputs": [
        {
          "output_type": "execute_result",
          "data": {
            "text/plain": [
              "{'bootstrap': True,\n",
              " 'ccp_alpha': 0.0,\n",
              " 'criterion': 'squared_error',\n",
              " 'max_depth': 19,\n",
              " 'max_features': 'auto',\n",
              " 'max_leaf_nodes': None,\n",
              " 'max_samples': None,\n",
              " 'min_impurity_decrease': 0.05,\n",
              " 'min_samples_leaf': 1,\n",
              " 'min_samples_split': 3,\n",
              " 'min_weight_fraction_leaf': 0.0,\n",
              " 'n_estimators': 105,\n",
              " 'n_jobs': None,\n",
              " 'oob_score': False,\n",
              " 'random_state': 44,\n",
              " 'verbose': 0,\n",
              " 'warm_start': False}"
            ]
          },
          "metadata": {},
          "execution_count": 70
        }
      ]
    },
    {
      "cell_type": "code",
      "source": [
        "# max_depth = [int(x) for x in np.linspace(1, 25, num = 25)]\n",
        "# max_depth.append(None)\n",
        "\n",
        "# random_grid = {'bootstrap': [True, False],\n",
        "#                'n_estimators': [int(x) for x in np.linspace(start = 50, stop = 500, num = 51)],\n",
        "#                'max_depth': max_depth,\n",
        "#                'min_samples_split': [int(x) for x in np.linspace(start = 1, stop = 10, num = 10)],\n",
        "#                'min_samples_leaf': [int(x) for x in np.linspace(start = 1, stop = 10, num = 10)],\n",
        "#                'min_impurity_decrease': [0, 0.0005,0.001,0.002,0.005,0.01,0.02,0.05,0.1,0.15,0.2,0.4]}\n",
        "# print(random_grid)"
      ],
      "metadata": {
        "id": "Jy3NYxzaBpvi"
      },
      "execution_count": null,
      "outputs": []
    },
    {
      "cell_type": "code",
      "source": [
        "# rf = RandomForestRegressor()\n",
        "# rf_random = RandomizedSearchCV(estimator = rf,\n",
        "#                                param_distributions = random_grid,\n",
        "#                                verbose=2, \n",
        "#                                random_state=44)\n",
        "# rf_random.fit(X_train2, y_train)"
      ],
      "metadata": {
        "id": "93b4-eFGCWBA"
      },
      "execution_count": null,
      "outputs": []
    },
    {
      "cell_type": "code",
      "source": [
        "# rf_random.best_params_"
      ],
      "metadata": {
        "id": "cap2AFxoJr_z"
      },
      "execution_count": null,
      "outputs": []
    },
    {
      "cell_type": "code",
      "source": [
        "# param_grid = {\n",
        "#     'bootstrap': [True],\n",
        "#     'max_depth': [16,17,18,19,20,None],\n",
        "#     'min_impurity_decrease': [0.025, 0.05, 0.1, 0.125, 0.15],\n",
        "#     'min_samples_leaf': [1],\n",
        "#     'min_samples_split': [2,3,4,5],\n",
        "#     'n_estimators': [int(x) for x in np.linspace(start = 100, stop = 150, num = 51)]\n",
        "# }\n",
        "\n",
        "# rf = RandomForestRegressor()\n",
        "# grid_search = GridSearchCV(estimator = rf,\n",
        "#                            param_grid = param_grid,\n",
        "#                            scoring= 'r2',\n",
        "#                            verbose = 3,\n",
        "#                            return_train_score=True)\n",
        "# grid_search.fit(X_train2, y_train)"
      ],
      "metadata": {
        "id": "ZBBnXKveYKtb"
      },
      "execution_count": null,
      "outputs": []
    },
    {
      "cell_type": "code",
      "source": [
        "# grid_search.best_params_"
      ],
      "metadata": {
        "id": "Gvx_IJWXucq9"
      },
      "execution_count": null,
      "outputs": []
    },
    {
      "cell_type": "markdown",
      "source": [
        "# Score testing\n",
        "\n",
        "*   MAE (mean absolute error)\n",
        "*   RMSE (Root mean squared error)\n",
        "*   R2 ( R-Square)"
      ],
      "metadata": {
        "id": "LnMGI9_o8ZME"
      }
    },
    {
      "cell_type": "code",
      "source": [
        "y_pred = rf.predict(X_test2)"
      ],
      "metadata": {
        "id": "PVk5aBk39YF_"
      },
      "execution_count": null,
      "outputs": []
    },
    {
      "cell_type": "code",
      "source": [
        "y_test-y_pred"
      ],
      "metadata": {
        "colab": {
          "base_uri": "https://localhost:8080/"
        },
        "id": "NcnGw4fKGixV",
        "outputId": "0c4e706c-4ab6-4f2c-ec54-f7ce28cda5cf"
      },
      "execution_count": null,
      "outputs": [
        {
          "output_type": "execute_result",
          "data": {
            "text/plain": [
              "258    -3016.648299\n",
              "319     1997.208617\n",
              "335    -9882.193651\n",
              "337    14380.115873\n",
              "301   -10425.606349\n",
              "           ...     \n",
              "291     -957.944444\n",
              "333    -2269.084127\n",
              "63      2118.809524\n",
              "50    -11219.565079\n",
              "155   -28353.077778\n",
              "Name: Price(Baht), Length: 104, dtype: float64"
            ]
          },
          "metadata": {},
          "execution_count": 77
        }
      ]
    },
    {
      "cell_type": "code",
      "source": [
        "mae = mean_absolute_error(y_test, y_pred)\n",
        "mae"
      ],
      "metadata": {
        "colab": {
          "base_uri": "https://localhost:8080/"
        },
        "id": "_gJzMhtN-rJ1",
        "outputId": "23a7f767-2ef4-4194-a335-d604583fbefd"
      },
      "execution_count": null,
      "outputs": [
        {
          "output_type": "execute_result",
          "data": {
            "text/plain": [
              "6419.1492743764165"
            ]
          },
          "metadata": {},
          "execution_count": 78
        }
      ]
    },
    {
      "cell_type": "code",
      "source": [
        "rmse = mean_squared_error(y_test, y_pred, squared=False)\n",
        "rmse"
      ],
      "metadata": {
        "colab": {
          "base_uri": "https://localhost:8080/"
        },
        "id": "4-GdIgfpLU-g",
        "outputId": "bfefed4d-bb33-4dd1-884c-2d0edc0c5cc2"
      },
      "execution_count": null,
      "outputs": [
        {
          "output_type": "execute_result",
          "data": {
            "text/plain": [
              "9381.113152180254"
            ]
          },
          "metadata": {},
          "execution_count": 79
        }
      ]
    },
    {
      "cell_type": "code",
      "source": [
        "# r2 = r2_score(y_test, y_pred)"
      ],
      "metadata": {
        "id": "TS4pil8V_Ffp"
      },
      "execution_count": null,
      "outputs": []
    },
    {
      "cell_type": "code",
      "source": [
        "r2 = cross_val_score(rf, X_test2, y_test, scoring='r2', cv=5)\n",
        "r2 = r2.mean()"
      ],
      "metadata": {
        "id": "ibMdReh0otK1"
      },
      "execution_count": null,
      "outputs": []
    },
    {
      "cell_type": "code",
      "source": [
        "print(dict(zip(X.columns,rf.feature_importances_.round(6))))"
      ],
      "metadata": {
        "colab": {
          "base_uri": "https://localhost:8080/"
        },
        "id": "bmZB6zv_EVnK",
        "outputId": "5c2774ef-4d46-4c0d-d4bf-7e4325209ef9"
      },
      "execution_count": null,
      "outputs": [
        {
          "output_type": "stream",
          "name": "stdout",
          "text": [
            "{'Weight(kg)': 0.044626, 'Screen Size(inch)': 0.014476, 'Resolution': 0.294449, 'OS': 0.003418, 'GPU': 0.005181, 'RAM(GB)': 0.001247, 'Processor Speed(GHz)': 0.001662, 'Storage(GB)': 2e-06, 'StorageType': 0.0}\n"
          ]
        }
      ]
    },
    {
      "cell_type": "markdown",
      "source": [
        "Check R-square score for train dataset.\n",
        "\n",
        "this is to compare the score for train and test dataset to check if the model is overfitting or underfitting."
      ],
      "metadata": {
        "id": "xDfARV-Q8fpv"
      }
    },
    {
      "cell_type": "code",
      "source": [
        "y_predtr = rf.predict(X_train2)"
      ],
      "metadata": {
        "id": "3sb5OttC8hJw"
      },
      "execution_count": null,
      "outputs": []
    },
    {
      "cell_type": "code",
      "source": [
        "# r2tr = r2_score(y_train, y_predtr)"
      ],
      "metadata": {
        "id": "dZ_pV1Eh8npx"
      },
      "execution_count": null,
      "outputs": []
    },
    {
      "cell_type": "code",
      "source": [
        "r2tr = cross_val_score(rf, X_train2, y_train, scoring='r2', cv=5)\n",
        "r2tr = r2tr.mean()"
      ],
      "metadata": {
        "id": "q35P9c5Loz03"
      },
      "execution_count": null,
      "outputs": []
    },
    {
      "cell_type": "code",
      "source": [
        "print('Performance score of test set: ' + str(r2))\n",
        "print('Performance score of train set: ' + str(r2tr))\n",
        "print('Overfitting?: ' + str(r2tr-r2))"
      ],
      "metadata": {
        "colab": {
          "base_uri": "https://localhost:8080/"
        },
        "id": "7AsLnVU68pB8",
        "outputId": "bc26470f-89d8-4436-d6de-4d16ad201ccb"
      },
      "execution_count": null,
      "outputs": [
        {
          "output_type": "stream",
          "name": "stdout",
          "text": [
            "Performance score of test set: 0.7267219108511892\n",
            "Performance score of train set: 0.8397272268269298\n",
            "Overfitting?: 0.1130053159757406\n"
          ]
        }
      ]
    },
    {
      "cell_type": "markdown",
      "source": [
        "# K fold"
      ],
      "metadata": {
        "id": "L4eC9WQ_xDTg"
      }
    },
    {
      "cell_type": "code",
      "source": [
        "len(X_train2.columns)"
      ],
      "metadata": {
        "colab": {
          "base_uri": "https://localhost:8080/"
        },
        "id": "xgFZrj2fxGd2",
        "outputId": "9d7ef777-0fe8-46ac-f03e-0218387b54cd"
      },
      "execution_count": null,
      "outputs": [
        {
          "output_type": "execute_result",
          "data": {
            "text/plain": [
              "42"
            ]
          },
          "metadata": {},
          "execution_count": 87
        }
      ]
    },
    {
      "cell_type": "markdown",
      "source": [
        "`KFold` is fuction in sklearn to split data into train and test.\n",
        "*   each fold is used as a test data while the remaining folds used as a train data.\n",
        "\n",
        "> `n_splits` is the number of folds; in this case is 5\n",
        "\n",
        "\n",
        "---\n",
        "\n",
        "\n",
        "`RFE` (Recursive Feature Elimination) is wrapper method. It a type of backward selection method but it assign weights to features as well.\n",
        "\n",
        "---\n",
        "\n",
        "\n",
        "`GridSearchCV` is use to get the mean of train and test score for different train and test data.\n",
        "\n",
        "> `estimator` we use rfe to select the best set of feature for each different number of features to select.\n",
        "\n",
        "> `param_grid` listd of parameter settings; in this case we change only number of features to select in model.\n",
        "\n",
        "> `scoring` use r2 method to calculate the score.\n",
        "\n",
        "> `cv` determines the splitting strategy.\n",
        "\n",
        "> `verbose` use to control how much the message result will appear.\n",
        "\n",
        "> `return_train_score` to indicate that should it return the training score or not."
      ],
      "metadata": {
        "id": "Ga4GOpltgtJK"
      }
    },
    {
      "cell_type": "code",
      "source": [
        "# #folds = KFold(n_splits = 5, shuffle = True, random_state = 100)\n",
        "\n",
        "# hyper_params = [{'n_features_to_select': list(range(1, 43))}]\n",
        "# rfe = RFE(rf)             \n",
        "\n",
        "# model_cv = GridSearchCV(estimator = rfe, \n",
        "#                         param_grid = hyper_params, \n",
        "#                         scoring= 'r2', \n",
        "#                         #cv = folds, \n",
        "#                         verbose = 3,\n",
        "#                         return_train_score=True)      \n",
        "\n",
        "# model_cv.fit(X_train2, y_train)"
      ],
      "metadata": {
        "id": "PfJ8OKwNxHVY"
      },
      "execution_count": null,
      "outputs": []
    },
    {
      "cell_type": "code",
      "source": [
        "# cv_results = pd.DataFrame(model_cv.cv_results_)"
      ],
      "metadata": {
        "id": "vLt4GHjzxKQ5"
      },
      "execution_count": null,
      "outputs": []
    },
    {
      "cell_type": "markdown",
      "source": [
        "<h3> Plotting the cv results\n",
        "\n",
        "`plt.figure` to create a new figure (figsize=(W,H))\n",
        "\n",
        "`plt.plot` to plot(x,y)\n",
        "\n",
        "`plt.xlabel` to set x-axis label\n",
        "\n",
        "`plt.ylabel` to set y-axis label\n",
        "\n",
        "`plt.title` to set the title of the graph\n",
        "\n",
        "`plt.legend` generate graph legend of each line on graph with `loc` to specify the location to place."
      ],
      "metadata": {
        "id": "log7RU29g2dV"
      }
    },
    {
      "cell_type": "code",
      "source": [
        "# plt.figure(figsize=(16,6))\n",
        "\n",
        "# plt.plot(cv_results[\"param_n_features_to_select\"], cv_results[\"mean_test_score\"])\n",
        "# plt.plot(cv_results[\"param_n_features_to_select\"], cv_results[\"mean_train_score\"])\n",
        "# plt.xlabel('number of features')\n",
        "# plt.ylabel('r-squared score')\n",
        "# plt.title(\"Optimal Number of Features\")\n",
        "# plt.legend(['test score', 'train score'], loc='upper left')"
      ],
      "metadata": {
        "id": "T6KOsH1FxQIb"
      },
      "execution_count": null,
      "outputs": []
    },
    {
      "cell_type": "markdown",
      "source": [
        "# Test"
      ],
      "metadata": {
        "id": "zsrRC0jzEGu8"
      }
    },
    {
      "cell_type": "markdown",
      "source": [
        "```\n",
        "def resmap(x):\n",
        "    return x.map({'1366x768': 0, '1920x1080': 1, '1920x1200': 2, '2160x1440': 3, '2520x1680': 4,\n",
        "                  '2560x1440': 5, '2560x1600': 6, '2880x1800': 7, '3000x2000': 8, '3024x1964': 9,\n",
        "                  '3072x1920': 10, '3456x2160': 11, '3456x2234': 12, '3840x2160': 13, '3840x2400': 14,\n",
        "                  '4096x2160': 15})\n",
        "\n",
        "def sttmap(x):\n",
        "    return x.map({'HDD': 0, 'eMMC': 1, 'SSD': 2})\n",
        "```"
      ],
      "metadata": {
        "id": "tvNaFb6qCS-o"
      }
    },
    {
      "cell_type": "code",
      "source": [
        "laptop2['GPU'].unique()"
      ],
      "metadata": {
        "colab": {
          "base_uri": "https://localhost:8080/"
        },
        "id": "lyhn4e2IEOv0",
        "outputId": "7e3365c4-bd32-409d-8763-47504d84c301"
      },
      "execution_count": null,
      "outputs": [
        {
          "output_type": "execute_result",
          "data": {
            "text/plain": [
              "array(['Apple M1 Max 32-Core GPU', 'Apple M1 Pro 16-Core GPU',\n",
              "       'Apple M1 Pro 14-Core GPU', 'Apple M1 8-Core GPU',\n",
              "       'Apple M1 7-Core GPU', 'Intel Iris Xe Graphics',\n",
              "       'NVIDIA GeForce GTX 1650', 'AMD Radeon Graphics',\n",
              "       'NVIDIA GeForce MX330', 'NVIDIA GeForce RTX 3050',\n",
              "       'Intel UHD Graphics', 'NVIDIA GeForce RTX 3070',\n",
              "       'NVIDIA GeForce RTX 3080', 'NVIDIA RTX A3000',\n",
              "       'NVIDIA GeForce MX350', 'NVIDIA Quadro RTX 3000',\n",
              "       'NVIDIA GeForce RTX Super', 'NVIDIA GeForce RTX 3060',\n",
              "       'NVIDIA GeForce MX150', 'NVIDIA GeForce RTX 2070',\n",
              "       'NVIDIA GeForce GTX 1660', 'NVIDIA GeForce MX250',\n",
              "       'NVIDIA GeForce MX230', 'NVIDIA GeForce RTX 2060',\n",
              "       'NVIDIA GeForce RTX2070', 'NVIDIA GeForce RTX SUPER',\n",
              "       'NVIDIA GeForce GTX 3060', 'NVIDIA T600', 'NVIDIA GeForce MX450'],\n",
              "      dtype=object)"
            ]
          },
          "metadata": {},
          "execution_count": 91
        }
      ]
    },
    {
      "cell_type": "markdown",
      "source": [
        "![101.PNG](data:image/png;base64,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)"
      ],
      "metadata": {
        "id": "VB48mKSaDsBw"
      }
    },
    {
      "cell_type": "code",
      "source": [
        "LT = pd.DataFrame([{\n",
        "                    'Weight(kg)': 1.31,\n",
        "                    'Screen Size(inch)': 13.3,\n",
        "                    'Resolution': 1,\n",
        "                    'OS': 'Windows 11 Home',\n",
        "                    'GPU': 'Intel Iris Xe Graphics',\n",
        "                    'RAM(GB)': 16,\n",
        "                    'Processor Speed(GHz)': 4.2,\n",
        "                    'Storage(GB)': 512,\n",
        "                    'StorageType': 2\n",
        "                   }\n",
        "])\n",
        "\n",
        "X_custom = LT[['Weight(kg)',\n",
        "               'Screen Size(inch)',\n",
        "               'Resolution',\n",
        "               'OS',\n",
        "               'GPU',\n",
        "               'RAM(GB)',\n",
        "               'Processor Speed(GHz)',\n",
        "               'Storage(GB)',\n",
        "               'StorageType']]\n",
        "X_custom = encoder.transform(X_custom)\n",
        "\n",
        "y_predd = rf.predict(X_custom)\n",
        "print('Price: 33990 baht\\n' + 'Predicted Price: %d baht\\n' %y_predd + 'Different: %d baht' %abs(33990-y_predd))"
      ],
      "metadata": {
        "colab": {
          "base_uri": "https://localhost:8080/"
        },
        "id": "Oo2U4yUB_YlL",
        "outputId": "3d4a882c-213f-4984-9ea8-87451c26a776"
      },
      "execution_count": null,
      "outputs": [
        {
          "output_type": "stream",
          "name": "stdout",
          "text": [
            "Price: 33990 baht\n",
            "Predicted Price: 40444 baht\n",
            "Different: 6454 baht\n"
          ]
        }
      ]
    },
    {
      "cell_type": "markdown",
      "source": [
        "![158.PNG](data:image/png;base64,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)"
      ],
      "metadata": {
        "id": "DDIABByzDvth"
      }
    },
    {
      "cell_type": "code",
      "source": [
        "LT = pd.DataFrame([{\n",
        "                    'Weight(kg)': 2.1,\n",
        "                    'Screen Size(inch)': 15.6,\n",
        "                    'Resolution': 13,\n",
        "                    'OS': 'Windows 11 Home',\n",
        "                    'GPU': 'NVIDIA GeForce RTX 3080',\n",
        "                    'RAM(GB)': 64,\n",
        "                    'Processor Speed(GHz)': 5,\n",
        "                    'Storage(GB)': 2000,\n",
        "                    'StorageType': 2\n",
        "                   }\n",
        "])\n",
        "\n",
        "X_custom = LT[['Weight(kg)',\n",
        "               'Screen Size(inch)',\n",
        "               'Resolution',\n",
        "               'OS',\n",
        "               'GPU',\n",
        "               'RAM(GB)',\n",
        "               'Processor Speed(GHz)',\n",
        "               'Storage(GB)',\n",
        "               'StorageType']]\n",
        "X_custom = encoder.transform(X_custom)\n",
        "\n",
        "y_predd = rf.predict(X_custom)\n",
        "print('Price: 164990 baht\\n' + 'Predicted Price: %d baht\\n' %y_predd + 'Different: %d baht' %abs(164990-y_predd))"
      ],
      "metadata": {
        "colab": {
          "base_uri": "https://localhost:8080/"
        },
        "id": "konv_owXDx1J",
        "outputId": "5e378bf8-e80d-4549-bead-71e52a642fdc"
      },
      "execution_count": null,
      "outputs": [
        {
          "output_type": "stream",
          "name": "stdout",
          "text": [
            "Price: 164990 baht\n",
            "Predicted Price: 150659 baht\n",
            "Different: 14330 baht\n"
          ]
        }
      ]
    },
    {
      "cell_type": "markdown",
      "source": [
        "![172.PNG](data:image/png;base64,iVBORw0KGgoAAAANSUhEUgAABu4AAAAzCAYAAAB4+/6QAAAAAXNSR0IArs4c6QAAAARnQU1BAACxjwv8YQUAAAAJcEhZcwAAEnQAABJ0Ad5mH3gAAEP8SURBVHhe7X1NaF3XlqYGGWiQgQYZaOBBBBk8QwY2ZGBBJhFkEEEGEWRgQeg2ag+MCE0QgTYiNTDq0ARhmiDS4BLuwpRM4UKuaj/kR6dK7lS5+jppv3f1Hk5JCQ6ywYFr8OAOPNAgg93r2z/n7L3P3ufn6txzz5XXB8fWPff8futba6+19z7nTvzTP/2TeFXw448/6r8YeWCeGIxisJ8UgzmqDuasGMxRFszJeIDtVA3M13iC7dZusH0YAOuAcRLAOi4P5ooBsA6qgzmrDuasPoBLHrhjZMA8MRjFYD8pBnNUHcxZMZijLJiT8QDbqRqYr/EE263dYPswANYB4ySAdVwezBUDYB1UB3NWHcxZfQCXPHDHyIB5YjCKwX5SDOaoOpizYjBHWTAn4wG2UzUwX+MJtlu7wfZhAKwDxkkA67g8mCsGwDqoDuasOpiz+gAueeCOkQHzxGAUg/2kGMxRdTBnxWCOsmBOxgNsp2pgvsYTbLd2g+3DAFgHjJMA1nF5MFcMgHVQHcxZdTBn9QFc8sAdIwPmicEoBvtJMZij6mDOisEcZcGcjAfYTtXAfI0n2G7tBtuHAbAOGCcBrOPyYK4YAOugOpiz6mDO6gO45IE7RgbME4NRDPaTYjBH1cGcFYM5yoI5GQ+wnaqB+RpPsN3aDbYPA2AdME4CWMflwVwxANZBdTBn1cGc1QdwyQN3jAyYJwajGOwnxWCOqoM5KwZzlAVzMh5gO1UD8zWeYLu1G2wfBsA6YJwEsI7Lg7liAKyD6mDOqoM5qw/gkgfuGBkwTwxGMdhPisEcVQdzVgzmKAvmZDzAdqoG5ms8wXZrN9g+DIB1wDgJYB2XB3PFAFgH1cGcVQdzVh/AJQ/cjSmO+ofi8ElPHOnPdYKdjMEoRqv85KgvDg8ORe+l/lwCR493xfbdruj9JkT/2aHYf9LX3xThSPQe7IidB8XxZyQc/UbX95i4iNwOYuf+Y7p2uu8g+vti5/aO2C9LRw6OnnQSjstirHT1W090726L3cc1tES/9Usfa1QcFWong/K+UogCfrjdDqFG/nN8oYqfj5WdBmhX6saJ1LVso/bF4Ysa4mZLwfGo3WD7MADWAeMkYCx0XFdtScfZvb078HHY5xtGpk+ixrokhhL19MnQQX1clqnj2Heqo/2cHV9DlfqGjhG/weXxB+5e7ovtL5fFylfb6UX81hO736yKtVv7wwtKA2BY4jl6siPWP10SSxdoubQq1m8O3qCWw5Hofj0vJt9ZFbsv9KoawYFpSHhBvnJ1RSxfJJ18tia2BggSR4+2xPJHS2Lz4VAFxiiBXD/pd8XWFyti/e5hauNnu2L98xWxcb+nVxBedMTG5dUcex6Jw9urYuGTdbFr7ebjaG9dzL0+K9bul9TF0aHYvnRazFzYEocve/T3jJj+hP4uJcgjsX9tQUy/syJ2nulVEZSLJXSPd9fFyhdboptcPp3j5qpYuULtStJpDC7WqK3ZEYe/Em8XF8TKzUAb82xHLL89JRauW9wnoGNcXxBTby9Hrp3Oe31RTJ+JfV8N/Qdkl+m58nYhlOEs0+Zc3xadx/XHhCJd4f7mpyvoLg/Q5MUZMXOxWIdhjsi2d0hHX26TpvUq2PMWaeYqaSbvmMhZvlwUC1/kbVeknQB6u2L13JSY/7pLex8TBfwU64au//6mWINuLi6L1W/qGZyuDcH2ET5fHP+isPkvZeM48nyhip+Xi4nl0bu3IVbAGcWC5c/XxeYtyj+TvPB4/FVuV4aAuvkqgs/n1t190T+283p4Qbp8Z3KguNC7ty4Wz6+K7TomSwwRTdutTvQf7YjNK8tJ+7pxqyN6Ft2Y9LRxWX2/fGWznokrDWOc7VMGfbLR1pcrykaXN8T2Q3Sq9EX3+qqyK7WBK19tip09HRiPqH34ekWsOjkl4qfOOcfPxKVw0nUwVPyGnGqL6jodKyhv2UR7gc67PK1R3beJuu+B1a5Cf5T/rIVqGkYhBtKxbSNaVr4kGyFO6K8VyMZUVyx/uia2D6xvsO+NVbl+K1C/9x5sidVPl61+0EBtmacf9K2aNkjm61TjPdHnp7x25dy0WPhmsLoiylWeZk8EwPcIaiC/TyJUF5L/d29viNVLSovLX2xI7vH90aNtsXaZcvhnqbX7D0lf1K51YuYpUU8X+cxY5DkBLo96XbFzbU3VkrDz1dR38vrry9RxeZy1my8dx3RtYy/LlzdFdwhjCQaVY3OlOET3dZw+AsDpJyjTJviga6jSN3SM+A0ujz1wd/R4SyxNT4iJiQmxeE03UNTgbHw0IWYubVd60mDYqCyekujdXRGn6f5Pf7goFj+eE1P097TsENcb1A4euBs76EZ0YuKsmP+EdPL+jJj+cF10K2qkv7cplt5fFBs8cDdy5PpJvyvWP6A4cHE7SZp6d5bFDOLEpztJXFTr5sS6XcA5wADWipj/eG3wgbt+R6y9R42Eic+Eo4MtsfjmabF8+5AayaoDd7Q/4v5bM2L5VmhwLEXZWHJ42+PhJfH3IdqVebGxp8+g10lOf+2I9fNzYvlGoMi1k2S6t53PTlPyauxQ0MCS3TY+nBKzX+yq4um4kG3htDh7ebd0W1iGM7vNWTo/L/+emCB7hviogKNHG2L+VGqHXF1RgrN7ZVZMfUBxLCbfisB9nT21IDYf5d9FmKO+6Hw5JybsdhHXePmsmHi/4BqpaNr5Yl7MXx584M7nDoB/n35zUWzaBf8xkMdPkW5kUYLc5L0FsfjJgpidJr3caUlRHm0fy8W/GBz+S9k4jlxfqODnZWNiOWjNT0yLufPE20ekdcQCumeVIxyPv1dv4M7lc4HaTfA592WnnvbAoPTAHcWcm4ti5p2VxH69b9fEwkcrPHA3JIBfxMkJiuWLVLgvfnhaauDsp3pCCOUXK+/Q92/NUxxdFPNnaswXGsS42qcM5ISi18hGU7NigWy0AHtNLYqtv+zJvgmzfu4U/T1B8e0eOVeo36Js/jDGOMk6GCow0PblvIwNk+9SToVYQXnLxATVRcirtJ5CWpP106lJd3Ihasb3Kc5QDjFusaQNGEjHno3m34KNzoqVu1aypO2S5AF6dbIv2oqPNty+HFlHqu8mTV3t15YF+lEaoWO8o/N1nOeMmSyr8pSpAeNSlKsczZ4EjKwG8gbuMnUhJnCfV7nm2Y+opr9AWnwbdqA2i/I8Ve9TbWn6QgiHt5bEzBv5tXJRPZ3rM7E8B3WU06cyWvhc9h+R3/wOuj0t5s8viSXjO+inIB+1+04y/fVS//l1XJSzaF6YzeFHAzWJeRlxRt/3xNt0rfR56fMN0WnTwF2lOHS8GhdwNOS3CfBD8r21e3mBtmrf0ODxG1zWOnA38bZuVPSN2wnw0Yt9sXtrS2zd2BLb3+oZJQ2jsnhKwg2qR6J7lRrjN5fENkb49aPxnYe7YpvufWePrNQ/FJ07iostzI7WhlOvruuI/T217RYe2bUCY/9xR62/tSO2vvA6KGvEsHh6pYGGmxqTua9M4nck+i9Sjz3qpf5hZtkkr6F70BE79J30G/Ij6CmZHUGNaPeu2s/xKyo49+9tK415OmLUg1w/QcH/xSzFRB3IzWfESUq+ZQNj1p3TfhyxpYwLd8yMb0ri9sj/YVe9bN87FH3ZwUoFx81dqRUZV3BMaOjmquzEmDm/JjZvYoYZEoklMX1KJYX+wN3RM4ozFGOkxqCjb7WO9LLziHRLMX7z/JSM8XnJW9lYgnZkkdoR05EpP0+pdsUMOMp1p6bE4nX6jPu6Q75xYIKnxd2dTbH0FpLkA3Fwf1OsvEvHeWdJrF/DayP6qoH93ZLYvLuTibNHe9TATrnJPF6fsHMTxzZPtenH6u/vJz4mfTa5BmxnSOlTe0CxGjYumVSU4SyTyL/ois1PKPE/taRsCuTpie45aWegLSSt1FZtf7UopiemxPzlDVrfFU//GNEVQMXG2nsTbqelrRfNq9+uyWs5Ig0Sh5I7+8njJ9sUJ7WN9aoQwhyVG7gLxlpp023pS/JzUPfP49oJcNcj/lHgTNgTNIbIT75u1GSfJC8BXvbTJ4li10Xa6N6n9TdJ05jtiSKEeJLb3e6Iw7QJA7EBvVm+guPI+wkM9ue0j2n8o3ObNk0u6WtgYu2ny79t46Lrou9NnJWapz1iMVaivJ+XjYnlkNU8CtflMxTzdGdSyh99CTv7eYF+bUf3oKvui9qIrvyC9nUG7oiTR0qjki85C9Hi1MQAikU7pv2oAfXyVQSPz6NDsfXJlJh4b010tNb7B5oD4imZAU9w9aJXSn/R6+3tnYE7pesk9pjP5Pd4amjjIgaO5sTK1U2xqbnfukW+p2NKrLby40pi74bQrN1qAjppPyDfoZiRdGSQz3S/XiAbKD/o318TsxNnxeq32tHJxv3aH8kcPsbSPmVgOs3JZ5NYjLh3n3zhV69vQrc78jPFQb/fAvvxwB0jBNkpPjEpFq66kzr6B5QzIVfy+8EsrT39aYsH7mrGQDqO2Oj05+nk2mSwB53HplYHTAcvanrUYtaEvf69VTVYQIsZuPNryyL9qIG7VCM45lmr3ZGfp+i8A0zijnKVo9me7nty+jIJSb+kXGfVKvSXn0NLxGqIUG5KqJRXhfrMEm5zaqCcHFgiUksD4XqSYO+T9EkgT/bqErpvmXNicOCutT/u8WFX5nmZep/gDNwh55Z9FHpB/YlrLKin83wmnOf05ROLbp+KOnJuHurUkf1AHaEBDYT6mwjBvNvnEvr9GNe24j4d+5Js8UBdU25/fYk6LsZZLC/E/ds5PPJ6eebSfNExnmldmm3NreXwFdUloP3a1B/RGq6n/enRvh6zoL9NnxsQ82UPlWNzXhySfuX6+POfFGeJy2KM5ba+d9T1+r5Kayhw7qRvIjh+QzxU6Rui4w4av8FlPQN31KCd/WRJzL1GQkAj5CXAeLpDjYDPiNlzelbBZ82P1lcWT0k4gYCMvnWJRIDCn/xXdnzoBlze9+db4q//wxT9PS3mPpojY06IqfObYv+lMrzZzizoFJVG3ttMOrKT5YyVRNSIYfH0SkMn5RPk2Bt2gCQk/vHWnFiQM64oubtN26BzBx1wxt4frIvv/9XqSEOBeh5aOivmSUuYQTEn9WI6GmZIY/Pi7BtWY8KoDUV+kiTamKkB+6Mz4RTiH8UKJPl63enPqEighjJsS90gyAFA+vs2Yg3t8z7ZVesCs4UOfnDjjFzQEP3SEWtIspL182Ljj0/FzucUo0xnBDVcZuBu/2BHrL5H2727KnZ+eSp2ryChpFj14ayaoUOLfLwbyeaVWdWhmRODSscSipub5yfFpI6FcgYMNXQz1KaYpxbluin9BJ7d8YkBkst6UNRaFjZ/EP/wKRIms25SLN44EAc5cVYOaE6lM9Rk3JWzfeha3qD/keARL9uXVDuWLtPirJyZo5dkZiSum2z2hvXkYAHKcBZK5FWBOSWWblLsiMYG6GkxvU69zFyChqiwtNe/uya++z8RXZFujh5tioWpabF061BdAOxgBqffRBxDsvOd+HOA75l3bLtYs5leotNtUvmEFSN9hDnSBdBblDzd74p9SjbRab15ga5Faz0aay0fwKtjw7r/Pqqdp3/McteB75EvJR0xQ+YnXzdk91vLMt+Y/2I7U5QWX9e0WP77vyQzhGc/nBezeKLhI93BHdMbHTvrK5pzdXYFxMJg+2jFv18OpY3sYy18Q0VMzKbySWOLf8/G8etSXMmnWF+j7fH/x5ti7//GfQEo6+elY2IpZAfuwBleZayeVtYTFWT7Ec4L/BxVLlS4In7ZA3eqMKXv3pkX85hZirbt9z+rduB3ZqYhnZviy9R0fU+Z1stXETw+X3T0QA4GQUkXZGO0u5ixLWdinqL7pLaif089pXX6gwUx97spVeSR3oy/TJyZ1XpaUG2/035hcHA6feJdf5659Hfih/+5KCaxX2ZRbVS8tlJ+4+9n2rkm0Kzd6oHsXH1tivIENz7JSUPU/s9f7Yo+2j3kJR+vix27E2PMMI72KQNlQ8r1Qp2VfqeMbiPkZx64Y5SF6eyzB3J85GiNB+7qx0A69myEmgZxfvaKHkyD/+OtIu+vie2baPutvhS978S7i2KB2uBkAiPy6c/Oislzi2KR8qQp3a47tWUJ/TgDd+jTuYbO37SjV01kpfoL9Z5cUx5RrvI0i0mcVi5x9vIfxJ//QeVDE9OzYvZNrKfrkXE3nEPv99OcyK0hwrnpQHmV12eWxm11TaEaKC8HjtY20Eus9oAGQn0SsKVfl2AC7Lt0j58S5xFDqnr/rFi51VF17aOu2LlKeb3WU/+hd/2/WxE7kGlBPZ3nM7K+9/Mc6DbTp3KY1mCFeei0+E//9b9k6wg84Qq7xuruSN5t9Gm4TPK3nIm/ef318vuCOi7GWZAvaO6Gm8PjjVtPfyzP1/Jf/60cOJJPgH2guJ+HH5DGYv1z0ZpYX5UzcGf68kI1XOcPVKeYazGL7r+0/DDTH+ChcmzOiUM9vNbS8fH/Jn6/YWpc2hY1m37aeVo/Qb367dNo7eZryDk3fd27j7c3IA6TplCbXUAsKD9+E+wbIo4Gjd/gsqaBO7qpb3bFNhLcN5fE1sOOdeNkXKw/s6JHtI9kAzRlNUBNobJ4SkIFAsswtMxepkBJt2sahLOfm4FKzELp6pFp7SDgTD8JglmdKybwf068UePR6enigYQpOZSPVZN4nM6a+jAsnl519B9siEUZSCh4fLgqtjFjCcEPtsXsUNgSgeHijJj6aEPsP0XnDm1PSaNpVNKOtOcyCZlBA2NeiXWNghe09ONB0hEkfx/MfrKCURsK/cTM1LjaIZ+nRv0UJV7XNmSDig6gHjWu8nWVd6hRidnSPCEmO66tjmeyp4w707oDT8eZ+S/RWU6NCIoE85pJZ3Y/gRomPC1nCgpoUHaIv0OFxnuT1LBQ0odZVPZ+aNy/nBOTyZMHiF0LYvIta/ZaAOVjiZ759BbFuMeHMvYhAdpEYoK495j85AtKTsysGOva+gfELTrV8DcGpm6vyMTQzG6zOcN5onEWxQNmW5kEhvaV38nf8qOdiYP9e5j1pzv9f0f2AfdPtqkNJD+la+tQ0Fcd3KfFip5ZqZJqq+ArQBnOQgN3qi2GtijRLdBTcv/EF76bfE1pxe6ol8fM0ZUamLa2ReL6OnIB6IU+P+mI3YdP9WAXne8OnQ/aw4w4JE10bUfkIyuURKWFMnF7cVpMosiDnSMIc6Q73el6Mws63shu0VhLBWWik19jus/TjubK4k7OdqR4b/xu2PwU6ublIeVohp+zYunrXekT+dc1I5b061fldtOUaOrPcqD4ddL53Zz49ZMe5Ja+QveDIvV9yg2t1wUbBNtHOlYS/2RRQSAOzNPMGESP2vTfXf5NnJM2NgN3oevC3ygS8NsQ4Bgz7O51xXPdcRGMsdispJ+Xj4ll4A00aZhCf/WefkpUth9qQMjPC1wf13alwgQFhXqSW2v6xb7oPtIzNxF/z1Hb9mVHPJXb69cmk37lOS6YeHt81MtXEQIxhNrYdfwurelYRScI7g2+SfnZ3JffiX/BTG5wjLaQYmqf+JX+8gb5lWyX1PbgDHWRE2P0QF3SRunPqmjN6v/QzLT+s9Z+sLZSdo/FqibQrN3qgf9UQwL8JgXFYVncH1EecGNZdVjSMvfZpmz3xw3jaJ8ycCbM+dCdMhPvLov1a5ti/TP4ehq7nM4igNp/6WM8cMewITvE00GZ/t5W8ttUSxdX1G+W52itbw/K6EPywN3xMJCOjY3s9v6DVdWOAzLPmVQDRs9UzpMMguh9py9sqjdgyTZaTaZBh+zi19uyA1lpxKstS+hH1nPmbWbJtVkd47i2M9T+mCdBKiDKVZ5mdZ6Y9GVqvSLXk/kk5S2qH4Fy0Z8jOfSfIzXEP/4QyE31E3KV8yq6fqvPzEGsBormwAfxWppqm1jtsfcnXKOqPTJ9En5dKDvw9WfU4/p1hlILn23I+wj1MatFDwRrgBt5LPMUZ0E9nesz6O8I5Tl2HYVTox4rzEPTOjJWR/StPh2n7n4ay7tpH49LOehm+iTIHjtf6d+IpGVZ/05tXn89UFTHRTmL8UVX5uTwVfmi3H3/oX4iT3M/mfQPB/jK6+cwGiAOk4E7+qj0HqjhtD9Nndev0tTcIwY+jfmy/ZphjcqxOScOyQdaHB+3+TV1ufmdwiPRe7grOn/5vrSGgm3C1KLY1P0RlcdviLdM3xAwYPwGl/UN3F3XM5/fJHIurYkVIkkmwJitQA2UnQzLwDtFRrgddoxhobJ4SsJ0kqzc7IjOt1tiQ4oMHfJ6NrNnMDwKa374fOHdKTlbZPORPTNabqUaLTT0P6Ezb1I+eaI4VN/xb9yNISiB2b22Iubx9CTZdvvf91RHrR0ksMDhf7YCs9491dNT0fnKJCD2Micwy37/BoIXjrMk1m6lrx1g1IdCP0EiS0nT1MfrYvubRTENex9QoyjXbYgdauRPv4XXVT7PtWUSF57oxuDdFbF1vyO2r1AMkI1GdsBFDR7pz3ZChC91w5TEZJkMqFk/aHiSDg89E+X0pU2x+2BHrJ+nBDBp/FVjOYEZXzlPVlSJJbLhf43i6A0qYiguYsDz8L5ed2tHrH0wlQ5gWPf09Ft01FgTQZCUWL9x5ySZ+rqDcfaZ1wmuiyunIwfwjykLGLpe/fsHqrCgxIuSDEAVBeXbuzKcBQfuMIBJcWXhmx/Ed2X0pDuCVaKqEi5fR3m68q9BJs2vwQ62HvykVXWEJUmk31lhtFjwu3lhjrT9Yk/c/aoHxXxeEGt7lk2fx3Sfp50sV2luRDqkz8Pmp5yvIZHdFusXKI7QvaPA+7nMdRF65Geh4nHxxp/jevsjBu4sX0ERYQ9S+PDbxycBvcpZuORfmKlGsSxm0+/+n9c5ZvutHLgLX9fBjyiks7M2c2MsoayfV4mJxfBilkZP/mYoXdsDa+COippQXuDfV1JQUDx7bn9HxUj31rpYQQfTJ+p3NaUu8bQ4xUkUet2HKOZ0gaWOdmzUy1cRNJ+vzYuVq+timXxP6hBtrJmgYeuMFgz2/vzHDbHwOn1+fU4sX8XrqAP+TvqTT7rDd3+x2mTfJ/Rn1e5k/fDQDNz98H1ObfXU28+NVU2gWbvVAzXok066SaA7OuwiGxMctr5YkL9bPPVJ/kSTNmIc7VMGiQ0DHUiZTplp8vPrOqf082JAt8c8cMdwYPIO3SEuf17gxqbYvLJI7eK0yv1ztObnhhJ+rseohIF0bGyEDuKrq2KB2nf1BIX6WtU4p8XyjY7omlrCtKFWvNiXT2WgE7srOlepLke7+4jyIvreDNy5tWWxfpRGqM25siM693fE1ldqUGD2itaH7sAeRC9RrvI0G6hv/DxZdppPL4j/8b//JphDx2uIA7EXyE37e8fIq9S3AWRrICfPBZIc+Fvxbay2+b/xvrvf/328T8IftJd55Zs6tyCe5atBr2+K9UuzdN9qYC7pY75FOrSeuJu03g4E223JWlc90SNRUE+X8ZlMnmNPcsWpA/0k8TwUX8bqiHDdvffv8bzbf3IZ+komXmEg7e6W2Ly+IccjTBue118vL6+gjiviLJsXejl8Vb6g1wdbYu0zDEDq33vDvTyN9FM8z+nnMLrQ+WziJ3qcJlPD+X2H0NNF0hOd51//V8yXrTZNo3JszolDmf5M+jfh7AnFWTw96NXDebVb5ul3fe7Jjzfk6zi3r6+JReJKvnWF9FN5/IY+Z2psYMD4DS5rHLijm9ajvoaUaQhTv34iHXTCTWyIeYzM+sXRkFFZPCWR6UTVTgGDyFnaToNAziaDiB5JToJziYE7jIDLU6jveOBufKFmhpAPbP+rCrLnlB42qcHG75jI9z5nApQdAMzAnf7tE+x3He/VNe8/RnKyIzY+xTaR18YwjoViP9EzMigJmKV4YB6pxoytiddmxfy5Sb2O4mbUlnajpGfSJA3PWbF8Xc068xuGooG74BN3p+bELDVuaLBkktfXrwkz53tzUWzgyQMJ3Bvdxyn9O3kRVIoluM5zdP4zZymBVzOmjzDTnRLomffnKBGyZlFb96QG7uhezW8MHGPgLjQr0m67JPxjFgzcJQNjJdu7Mpxl2hzcF2YGEg+r9/Jig3//dH0PoBXNt6ejPF35T9ypmGYVKxLe+coMTCExlK+mw/5hhDnyimPA7ngzA3ehWGvb9HlM93nayXLlP3E3bH4q+Rq0jcQYCfitEtdFUEUR+dXlDa2pTf2O95z4lTNApvwxjKR9xNN89nVQ/gTbzFxQHR4ylsVs6s+ks21cOHCH2bHVBu7K+nklOxUipHndTkhdZjXr5wXOU3VATz3lOXe1a3VoPNczGU+LxStk/69VJ5fSpWrTJqfmxPLFOTFJ5817Crsq6uWrCC6fmAyB315Fp8pz3cFy+pO1RP+b+D1Tfa+yYP9qiXwEBeG2+Ms/en5FdsFrhibhu/Zs2YEH7vZyaiseuBsEcvLL68redjREWzdrOuRtoOZFR4H927JjgnG0TxnIDuU3yIbIx+y8DdCdMs7gnIFsS+w6m6B9Nvn9kxOIk6qDoQJ5Gp76tzvOCU7un6M101mPV30ne1Nug/oneeUioxIG0rFtI9RGcsKT6fjXvm/qgGSZTp5MSfbtq5p64sy8mCO7YnDN9H0Gn7groZ/M4K7MC+gcZhAGNTDVxslk1gqIcpWnWS9PNAOLaZ5M/N1YFFOnFsXf/DMG7rI5dLyGwLfhPquB8yr1bRxWDSRfgx/Mgf9FD9wFapsX8dojt0/Cr0voOmS9SXY1v6MMJHleMnBH92xN1LW/l9zfXJYDmmv3rPqDuMmrp0v7jJ3nyLeoWLWT1kzZPDRaR+jaLvEzXXebWBnMuz0uZds/pY6X6FfX1O7AncWl1V8PPyqq40px5uSFXt9+Jb7oOzmoR35+ke7/mjUI+TTST0HHj9bE6pDZgTv6N1jD+X2HiEEXpmW/JQbu4r7sonJszolDmWuifxPOzMCd9zNiVTSUPbeunRCrO99VH7+hz5m+IWDA+A0u6x24wwoSBAIehCQH7qjBkg3UNImKAu1R/1Ds4FFlXejgEfG1y+tit8ZCP4bK4imJZARfvn+4K3avq5kx8inESGMnfyvhJXEBbopGbEmMkkO8PmuvL3rE2QoleP6ocl0YFk+vMo4eb4v1rzbF7qMeNVBkd/lu4Hmx/v1TFWjwlIh8FJcajiekocKBO9KB7NyE7ijBIcfHj5127pOuMKNFvtKP9sL7gN8dLLlj5KOMn8gGWTespkiz1xnbRm1pd9z9RAkeBpI+XBGrl1fF2jdojCnuYnsvzrgDd6ogPPv5jjjskf5e6hlqOpGRyZ1MxDZF5+66vLa5L9R7uJF8z11apfOtiQ00dJSESJjEpCAGVYolSMDx3n9w87b+jTi7eLI7HS3fwAw22VFD13xIvrV7lfii7c3A3c6nM3Sva9RI96iYsvgMNLAyqTRPEdK+MuFD2/WAeHvWFVtfb1Bb5SWuBQN30raZJ5riKMNZps25uSYTYDPoWqQn/GbfwtVdyZd8F79uj5U2p8XSzX3R6/VF35t4YutKJZRpZ6b8/DrFmstkh35f7H9Lic3N7+VvpSV86yQ6OjAVmI0WQpgj0mTewN0LrdlQrE18IB24yeo+Xzs+d/L1i++l9zZsfnJ1A3+9RveCH5AmHnoPKQ+hPA2/q/D0jyWuiyCLIvByhbaTgawn9u+T/vL0RtvEBsiSzlFCtH3Urw6R14GkHK/TxXkwA/rRPt3L87hN/XfXWzbOG7g7fK44n/hgTezih9T3dsTG1zviwCvu/YG7sn5eKSYWQmvePGW61xHbV5fIFmQn2XFtFzXhvMC8AvT0RYr/dL/76ACYoCLSeQKX8hScR2odebt6JU+ibbweimIw4nTR71NWRb18FcGLIdAv2o93VsTuL8r38AR9BzU9cdsjvhEbeg92VYwgHW2jE4n89/s/6d/LgV+9pG3xKlgqHqVd7NwObRTaY/yg/mPyqTvqd11k/QT7oTOM2qQN0jTiStJh8+fnObVVfiHZBJq1W03QHRMTxO/a7a44fHZIMY7qLcQD/bu1vW83xNq1HdElX+k/wc8W0PbnhlOLDRNjaZ8ygA3RWTkxJ1Zvqnaie29LrF1cFlt/UoPd4fyCfF930q7iiY8++SLlw+g0q/o6o3HCidXBkIE2ENqYeG9FbN2jtveAdHbbGuDP63yUnauTFPNJkw8OZc6z+/ViOmjEqIyBdOzbCO0y1cozF7fFwU/bqnMbfXVqazK6yimnMLhPOW6yr351uvqdKeSttIc+tpkg69SWOFSBfkxfIfJtGcOo3UH+gPPheCofz/89rxiiXOVoNtP5jNpEDjghT8YbCXbF+oekadQuv0Zy6L9EaogXodz0O/Hzvx0jr1JXmSKvBvohngPHaxs6XqT2yO2T8OsS1JV0PjyhdfbShth5qJ+o+4ryNeeJu/jAnRwMxORw/L4a9qc8EtdaVE/n+Uw0z+l5fSrEZfk8VOfXgTri+U9aG37dre8hm3cTFz6XpCf124IzYvHqjujot+5sUG3nDtxZfSdWfz3YLarjYpzF80Ivh39WJW9Pr1dNZO+o32+je/n+TxG+oPNYTSw/ETIDd0RdqIaT/kTrzlGMotq891DZC772PKc/wEfl2JzXdmZ83KpxMVH1Fn7HEk9J74s+cdu5sS427/1LeQ2ZuI0n7vZIPw92xNpHaKtXxR86A4zf0OdM3xCdZ9D4DS7rH7ijf9VTJkS6/h2Toyc7MhDLzle5nBXLdAMUbqSg8Tl5kmKIqCyekgg9/j376ZYUcKaxQ1FxiYKevX0Zw5NTLesBUbmgweeBu7EBOiYd+02Qz+j3UEv/oMCRfqeDCBKYnIE7BJitT886+8nZWJQ0IfAk66hx3zAzfxi1oZSfmNlUSLqMDdChL+OhtS5mS3ugybwqk+IlfiRZvlaCFrzr3X/Vg9OpjI5BDF7I7WfpnM/l03L48Vk5S9zp0O7r921Tw/e3v5cNmvyBW/2juLjmNcRqul7MMMSsIdloR1A1lvTuqAQ2PS7dvy6InHN5HZ+7SHLl9WGZkv8vyjZJ7Y9jYt3CtT35212xOCtnW702k7424YD89ow5Li3vUswlOzid/v7AHWbtT5uBOz3T8sxK+J37AZThLNjmUNKPAkqiQE/OekooFq9hUI/2gzZRcGH92yviD/+coysZn+i8ZoYwEkbPDos+36GBKfKPJGmSs58oNl7LT2bCHOmiIDZwR5ccjbX2ANOvKpHL6t5+7SAO7nWGe9ztPtW/+WBm6w+Zn1zdZM5NixwooKOUuS59jO611JfkgtwFHRExvcnfg4wMkFk3EG8frfiHiQv2DENa5Lv2f4nYFL9n4fBvx7m860KhjA4U6zxU3B+guI/5QgU/rxoT8wHb0Xmta8VrXxbxew64Z8Q/i79QXiBzCmd/ut9L4Ij2ttqVPl5b7G2X6BIdK7KzXHV21Il6+SpCNoaoWeK6E+ee6shPOZgWy3//syqUk3UU+/G7D/AXvCI7Wa8KRxmjveITr4m2f8Bc1k+6aD1CBx9eF4X1F7bE7g1qI5MOm5zaKi9WNYBm7VYfjh4Tp16cmXh7SWzqXM2PDbJtwCC3/HZ8MK72KYOjZ7ti/SOVB5pFdtr8ktMhBKBjDB1u1n7T53VnzwnFSdbBcEF5ArUH8jVall7wm6jy97AoJ8rTGjqt8Xvn9r7zV9LfWmJUw0A6zthI51OnFsV///o/iunX9CBcAv09aue/uJMAzJNUk/ItOrSpPrZ5gtevLYv0I58SOeV99/6qytkJ8o0nGGAYoG8nylWOZjN9mQRcv523yMECyVc4h1b9C4Ea4k/fy/Mm65Cb/pue1J5sWz2vcpBTA+XlwNHahm4zr56M9kkgV7brEgDXdi39fbRkwcAnyaVo4M70m6T7zosNPIlXUE/n+Uw8z/H7VPZFv3QeSrqN1RHU9sb6m4J5N15lGeKyT/b63K+JJsQsJq4TCXn99fDvojouxlleXujk8HJSQHm+MMiGyQTptrSgP+OXOF9RXRqfDgzcBWs4M3BnHQd9YOo3JyO+HPjpnMqxOa/tzB24o4/9rtjEQG1yXRTDKUaW1hCdWz6xmGxHC37n/FuyJW07yPhNpm+ITjto/AaXxx64kyOXj/dFzz431h1gNrRlwCO6sUdd0X1I6+3M5GVPHB4cUqDTn4eIyuIpC9wb3a/8TR3MAjedpwC+e+zdHwlecrFHvL2g+8f3EGcff5M4tFCPXhymMyeAPn3e69I6ckxv2zoxNJ5edWgf6DwkGz7znNV89wD2NXZVvpXxI0dPapsu7dd9ZK0nv8Ls+w78zd6fURvK+skRZm0jxlm+2n9GseLA99+ILbWv9/Eu5jetGRpoYDB4hsKg7+lCxiT/c3pO+fSP9VtEuMZDo0nEJ9r2h7/7z+L061bhogsTPDkoZ5S9iRkkZsJGGJVjib5Op40w6xwd+76huUNMpZvuP6H78b7bJ057aJjz4qwchFNJTpIwSF/S8Vonhw5fdPz+E+taJH/6XJgt9tGU+lFcx9ZxlOLM2FO3OU77myCkpzTJ2ab7wXeyPZHba2CmOY77hA6K88R0hQFTa1BMgbjAORHjsD/g890jvs13hjttbznbDUWbVaCEEOMosaX+DJjzJetwD5lYS6u1TWWRFNG93+5m22iLOzqjfH0pJX3qdSbA8PgpoxvEne5DPIVg2VSi+LoMjswxSD8hn/Tjl+sruAb3cwJjF799tK5Dxk2teSxJnAjaNMu/fS1F1wU7gI+uidN5vlDBzyvHxCIYzWGxY76BbcdAXmA6ZFbv0v5GG+YevHs2nOw/ofYIMdbwb2LBEJ48qp2vAmRiiG4PkxgLvjWHiU5lzaP1Z2uXoHwOOrJ41b5i+4/0K+T3tL/Sov0dXRP0ju1NzWTbiLSfqa08/83EqiGjabvVCl3DSrtlYqXmEhrIxMDxwVjbpwx034SMi5Y/y/bUrtF9aF+Wca5BfxkVTrwOhg2ZB2idee1vodYQy2XszrYbjGoYVMcZG+n29fmvkfbStL+0i7uvm6sDzveh2hKI6seKX14MQ06CQa3J96zfM6uAPK6imvVyQQPVFpKGrfrYIJNDawRriEBuWkde5SNUA+XmwBLquJm+GUDnX349mewDXmiHtE8iVBdq2Lm8bW9LcwnMOpxPXoPeD4teX1RPF/lMPM8x2tT9HHKV4qEoDwVCdURu3Y3Pobw7h0uTM2Nx9Gz7m/9diTouj7O8vNDJ4eWK8nwp39DaI+4OqUZ/WsRXVJcEnRs51xiq4cwg2dVdunY6VsjHQ77sYZDYHI1DWnvOuXzOzBiLHUuAkhqytZOpqc2xwUWl8Rvt2+hfOUb8BpfHH7gbIwwinlcRzBODUYzG/US/em9iak4sXFgSix9ils3pZPCtEjBz5MKM+3seHvB49wJmiJxbEIsXFsUCZv3I1/Xiib1FMa1fHZWH8YslR6L7zYKYOmPNeDoG5JMUp9QsqLIYLmeUpPgzuo4BPHU094Y7C3NgyJlPp8VMjiYNhslRXPcD3CNeHf7OVHgGaFUU8DN+vtYA6uQ/B1X8vG12Cs2krgoz23wYr+RmXY8n2G7tBtuHAbAOGCcB7ddxjbUl3nZyblq+bWeQvJZ93kUdOXAlNFGXlKin26SDgevuGrksU8e1hbNa+ykIwRou7wnWCmh9vGmonyDBMeI3uOSBO0YGzBODUYxR+MlRryt2bm6Kza/Xxcb1LbGz1xu4oTl6vCu273RyX83SP6BtbmyKjasbYvPGjvoxVzpj78GO2H5QfO6xjCX9fbFza0d0a3hyBO/9377bLf20HTBszvqPduSPCKtX6R0Tv/VE98622D2ooeD5rS+6d+lY+lUweRg6R0HdDwL4yrbYvj/A4LqPAn643Q6hRv5zUMXPW2enF2hTtkUnOLuxHI6edcQ2HWN3CL9VzboeT7Dd2g22DwNgHTBOAsZCx3XVlnSc3ds7+vV+1cE+76GGHLgaGqhLStTTbdPBYHV3fVyWqePaxFl9/RSRGu6oJzq30c94vP6d9sebZvoJEhwjfoNLHrhjZMA8MRjFYD8pBnNUHcxZMZijLJiT8QDbqRqYr/EE263dYPswANYB4ySAdVwezBUDYB1UB3NWHcxZfQCXPHDHyIB5YjCKwX5SDOaoOpizYjBHWTAn4wG2UzUwX+MJtlu7wfZhAKwDxkkA67g8mCsGwDqoDuasOpiz+gAueeCOkQHzxGAUg/2kGMxRdTBnxWCOsmBOxgNsp2pgvsYTbLd2g+3DAFgHjJMA1nF5MFcMgHVQHcxZdTBn9QFc8sAdIwPmicEoBvtJMZij6mDOisEcZcGcjAfYTtXAfI0n2G7tBtuHAbAOGCcBrOPyYK4YAOugOpiz6mDO6gO45IE7RgbME4NRDPaTYjBH1cGcFYM5yoI5GQ+wnaqB+RpPsN3aDbYPA2AdME4CWMflwVwxANZBdTBn1cGc1Qdw+UoN3DEYDAaDwWAwGAwGg8FgMBgMBoPBYDAYbYUcuPurv/orXnjhhRdeeOGFF1544YUXXnjhhRdeeOGFF1544YUXXnjhZYQLvyqTkQHzxGAUg/2kGMxRdTBnxWCOsmBOxgNsp2pgvsYTbLd2g+3DAFgHY4xnW2Lh4y3R0x9fZbCOy4O5YgCsg+pgzqqDOasP4JIH7hgZME8MRjHYT4rBHFUHc1YM5igL5mQ8wHaqBuZrPMF2azfYPgyAdTDG4IG7BKzj8mCuGADroDqYs+pgzuoDuOSBO0YGzBODUQz2k2IwR9XBnBWDOcqCORkPsJ2qgfkaT7Dd2g22DwNgHTBOAljH5cFcMQDWQXUwZ9XBnNUHcCkH7vAHL7zwwgsvvPDCCy+88MILL7zwwgsvvPDCCy+88MILL7zwMrqFn7hjZMA8MRjFYD8pBnNUHcxZMZijLJiT8QDbqRqYr/EE263dYPswANYB4ySAdVwezBUDYB1UB3NWHcxZfQCXPHDHyIB5YjCKwX5SDOaoOpizYjBHWTAn4wG2UzUwX+MJtlu7wfZhAKwDxkkA67g8mCsGwDqoDuasOpiz+gAueeCOkQHzxGAUg/2kGMxRdTBnxWCOsmBOxgNsp2pgvsYTbLd2g+3DAFgHjJMA1nF5MFcMgHVQHcxZdTBn9QFc8sAdIwPmicEoBvtJMZij6mDOisEcZcGcjAfYTtXAfI0n2G7tBtuHAbAOGCcBrOPyYK4YAOugOpiz6mDO6gO45IE7RgbME4NRDPaTYjBH1cGcFYM5yoI5GQ+wnaqB+RpPsN3aDbYPA2AdME4CWMflwVwxANZBdTBn1cGc1QdwWd/A3YM1MTGxILae6c+iI9YmJmidvazRWqAntj5O1689kCuHjvrFg3s093RywE5Glr0S0eWzLbHw8RYpuDp6NxcsX6iq+5jWbF+y/Uv7ovTLY2gU95tcs+u/CzcHYeHkoHE/0bbI1U3QXl4sHlC/g6AxjqTOs/dX1ufg76Ft7PVN6X34nMXb37L3G9ruePGtGprzPc3VlXgEte/b4cz2xQZ8bvza7RC35WPVKHyzDozWTq7vJwtsoPXqcIm4mqP9JjA6vsK+H/X3SBsUbpPzUHxe5zv7vNEazF7fDGJ2g9/abYO8L8fPcd3qerPfFcM//vAQbxtkbIpedzaXx302HcPa1l7UygF8Lsa/4y/HqI2iULpI7iUWF1qC0epAxyjbhxLbgcds3Er827axE2OxuHbNxoS47zpwtFImz/Dyl6HoKwR93oC+TLuh7j+NrQoBjjWX6b1692Sfw+G9qXsNo23xzEC2BSPmxkdbuRoeAnHGh9ZyM7lDOzASHciY6sd1O8bY38XWG79SS5O50yg4y7RfdtvncJTlycT/ZClq84aA5jnLtu8ZHmgpzNHs9s1pW+O6HDbAZS0Dd9KBrmwFk6wEIMaQSH87hAWSjWGgfvHAeO1qkOvASIJ5y5BN9DWcgFkNTmEqA0IV7YS1JoOR8Ss65po8frjgGQSdK+k5netnNOon0s6ku62YLiWgkZDdRxenmuGI9E7tj1Gm7btlNOv7UOKX+Du0fsgYOmex9jeJH0BcMw5fFpqMD43oStqc/Ommlbv4cPIX2/9cX4Qmh83NWLXbUW7LxaqYBscBbbFTxl9hE8obnDgHfY+Y55HwFdNn1N+RcxneVNGo2iD77xK6jZ1Xro8dP40ztr2cmONcdzOI2c3nQNaPtuakDge/1mjuXididpKaoPPfzLuHbIxrsu00aFt7UY4DT+8xxDQEP/C0luY8wwBdbyQ3bQtGqwMVQ9HuJDa1bJfVhOU7to19e3t2zvAut18Ta3la8rUCWyYxPoasbzeDAI8S6nrW7Pu32ohse6T8a+2KzXvsnrBtetzssZpF2+KZhOSa+B+JJuJoJVdDhPR/skNMn1K7FD/y+1dOHprWgcz1AmMFWB/KVWPrnb917CvMCWrCKHwn3H7Z92/FF3xn8eG3ocoGzUajRjkz95/XbyPbLsNRLEdzdWVrMarLBgAua3xVpk1EFhnhGUiSm2nU6hdPOKGRjYAZjTXCSRJFvd4xtEqAzD6GJ5czm1+c12wf53xQjCIwtQ0O91Kjiu8FavzdgBmwAxw5sN4NoKk9ca5ke0cX1vEjyV84Wba0InWnj4nrkscxx+xYWi32QZuTqD+/QmhFA25D2jdkxXCcagLNc+S2Q37SEoLLqYrFWY7BoeXjQ0SjnMXaXztuOHD5tVGG67rQKEdRv8reM7QkP/v8NZDcjWW7neG2TKyKa3Ac0BY7ZfxVa7aDnMDYJEf7TWGkfHn3H/V3D9E4kHy225OAngvOm3729qX91Hrfj5rPAaJ2czih66K/7Q4z514tHmQ7jc43nb/abTS+M3ms00kt79t8F+Yb50u5TnmS6wPnchDzD9/uDrK2cO2L6zPXbJ1bHtOrIXF+uZ2rn5SPsD6BtrUXWbu7tYrPi+HdtlNiiwj/UkN5tjTHsfa1dZf6lt4ukhOGzxPw8xZgtDrQvgDuDee27Xw72v6Wtx0BNjB68u1htOb6nY1iWwV1F/BthTI+nY07zr2adcHjWzwm10LQn937V9ey9iAeh1xeIvfkcx6wQZNoWzxLeYtpYnRoH1dDhPEJ3zcCCMftk4vR6MCPrb5/xPwm/ezbqUm7jYKzzP05sTYbX2QborXuxnIA2zebh4xEZ3n+Hm2rLG362+B48nNcl00AXDYzcJfXoJcIpnWhfvEEDIZ7te4ncTisTxI2kzjhb7VN4lhyO31Mm5uEQ3ffVEz1YTTBvF1IA2XWVobvzhVL7zGNWzZ0AqhtZwt2gLZ1IQNxMDhAg0jmbd+LBB9cS7Kd3k9fm6NBG/I6dcEQ0vUrjFY04BaURrStsCR6NBpRS9DOQ0JjHEltZ+/P5STcuMptirQd8+8hoFFd2W0MAfeuuIq05Z6WsBiuynBdF0bJkQN8Z+kCHCj9gacS7UONGMt2O8NtmVgV1+A4oC12SrWqkWjU0m6e9hvCSPny7z/q7zYi+Rcg8yk3v/fbHwnvvP55nH3kMbUvJPvAhnYM9uJRA4jbzeNHc2Duz2l/LR5k22S4tO1g/625UPvHayX3fPS3eZJGX4/ky7ZbDJ6dEuA40f2z8QuLff+JreX9WNdG29n3Zt9Pch10TalWLK49tK29cDQOXp1axfzt3U9iL4VEO0H+41w4PBNsGzi6k5+98wfsnFwHIO/FtXGbMFodmDhl+arDqWszh1d7u5AdLN909rOPGbFfel0RYL+Q7uR+qU8b3eD7Yp82n/3z4nqtdcGYY67XvW6jVff+CVqTrh5pX329ji/KY6b35NyHzV3w2ptDG+NZqonR8RJC27gaHizfCfqNi4yfnHCMRgduTM/6Bz7j+9j6rJ2c+DpkjIIz3F/Sppglib2B+GLFZjeWKzSt85HoLMffM/ev20Msbrtn6TThNK7LJgAuGxm4CwlHISC4IaJ+8QSu3xKAIwQvyUk58ZIyQiqq9Pjp9rTOTpZyeB8Uownm7YJjA5vvxI7g3bVz2lntfaeDB2yYbusFhGS9Oa+viwJf0cdINaWPb+vOCWSubuI+mkJev96/6cDfRoyqAY/x7tpQaTC7LXTUnO1GxVFIy1K/Tuw0UJykvunz4/rKsNEcZ3kxBd+F7tnbBzElwGmc63rQqK5yEkDjZ7Z2jPYkB9b6YfIBjGW7ncttLFaV02Bb0RY7ue0FwcoVpHZhl1z7NIOR8pW5/7i/Gzi82vmXhK1dc6xADPbOm7GV/T3+xjHk/8ZfPB+R52quDQPy7GbymOS+Ep4Cvq3v08190u1wDDtGpNvRNg73Fgf2+ej/zs01uT7lWdvG2T8Az04JMna34dvGP6/7XXI/3jEdPqzrwLFsfaaacNG29iLlgODxmt6rp2OteXtx9WQDvEd8gI6TnBuw9nd1p3XhnNO1F+DukwLrnfO0AKPVgeULsCU492yX6sLzG3u7kL0tDTn2cLb19GSAbZJz4bzG1nrbmO78a5Qo79MZHUrY59eLf6/WeUPHzujRXH/Qx2zOfahrCV67dQ2jQKvimcPNaHkJoW2xf1jIa1NCyPjJCcdodODHXN8/zPex9Vk7xeNV/RgFZxldFsUX6/sQN03rfCQ6i/p7fjwGN4YvcJdtd+O6bALgsoGBuxhJ2H7cxZO9t2gA8ZKcdLvsMWynUn9b3GaSpfpFM5pg3i4kNvD5Tj7Hnd/RgBU8wtpw7Zfa3j9+/HwJcG1ym4henEDmnjeqWxvWsWyNvqpoRQNuwbdhzKZN2q5VDbbvy0Fk4yn4KvSNGtEMZ7jPfB2EdVIyLpXienA0qqsSBZ9B1LcqHGNQjGW7XcDLsTTYUrTFTpn2wfFZcEpxMPd3AprBSPmqqk9sb8c9Pw46n1UMDj7d7J032rbjeLb2k+OP3kdy7abvL316Sbe7D+j6bb4tHlyu0/vxbZB89rk355Dn0/vTNvI3zug8Czc7mbZf8RuKQRqenRJkzm0ja4vUvtnvYvfj3HeUpzja1l44Gvd4Te/Jzc8yMcwgyH8858kcx9rf5bOcH0VtENPLCDFaHdh8avv4vw9pbOFzZ9s4YG/YwNjUtgds7XTG0ZLVkKszhXRdVHdBfZT36eBxA/eWhXUOzZN9rKyGcR/mf6xT3BfzEr/2ctc5PLQqnsEGHpfDfgtJFbQt9g8L0GrGDjnx1/WTk4/R6MCPrX58NJ9j67N2atJuo+Asc39OrPV5Uu2I0Xm2TcH2fts2XIxEZ5FcK952a8RytGR9XJdNAFwOfeDOFlAK3GjzAbJ+8QQMBocKGdFLavykKhGSvz/EQrym+6oEK+FOfl9vsjSaYN4upIHS1TXWG74du1mwbWvrPxww7OO7trWDtTxOQFfOa1sSLVjHtHXnBCT3vqLXZv1op30v9rW9qmhFA27DiQWxxjm2fjhohiO6J6uNyfPLbFvkQm6TcKj8MXSsYWL4nEXaX9JPui6mEzdGxTgtw/Vx0KjvOXEzB9gumMBF+K4ZY9lu53J7PA22FW2xE3hzYlsgRy3q6GgCI+UrT5+ev0u+LP4UXK3abZPhP6hf/7xOXWD5RbBeUNfgn6tpO+baTWqN7t+6dnm9WGdr0uLBzX3Agd7X5kryYbZzube5Acz55PfYD7+plrEfgfZzrsmGfW4b8v4Cx5Kwrl3DaAGw7ebY1zumw4d9Hd59xtC29sLmwOc1vVfY1GoTbH5sxPjHce3tsR3O4x3HtoHDM8GxTwTpPmRr7z6K9m0ao9WB5wvSPmmNraBsvmD7MmDb2Le3Z+fUHp5+gIi/yJjpaMva19NLiqxvA47d7X396w4e14tjQdjnxd8YpEiPk96/vi+tyVi74PiiAxzb8Ode16i13bZ4liKsiVGivVwNEV6bEoLtJ68CRqODbAy2Y4cdk2LrnZgdjcXDwSg4y+jSaTe8+CL5SPn1YzmOVeQHdWMkOgv6u91+GdA6aztbcymwX7iti7WhwwK4rGXgTgpBJgp6SQQVTjjkjdrb09JEsKxfPMqY6X0o53Hvz0r0rATNdSb3OC4X6jtHSNIxvePXiNEE83bBCZSyCNC2cWYDevY3zmvbBwWHXu8HUANbL0lHAmAdZ4HOG0z+glrwCgxzvU4gcxvPMtcWKwReVTTpJ64dUlvI2Os1OmYbp2Gx9m3Sbk1x5LRBMf+04q/yaa1ny7+z21j70xLykboxbM6yWjKacPlK7lXGGKudcWKOiQk5XA8BjejKuU+1SJ5s7QS5AFTu4+w3ZIxVux3hNh6rFJ+uJs12Nu/tR1vsBK6deAZOHb/VPt1gURLCSPiK+X5Ud178w2K4tPdx1pn9rTopdl5sZfmGbTfXZ+x6wL6m5n0k3246PtraknHVvn4C1ult3JwT9+byJ++T+N2yt3P4DBzbyZkrxJeonbI6cHxMwr52BdcX3WM492L5p8OHxRPg5EMR27etvXA4CNyPuddE7/r7oP49rmy426fcOOtjPEt4NrY1rGHv49gick2jxGh14PuC9mWPJ2UbT8e2jTP+6G6b2COoC1yDFxsMZIywjmvtG9Rd5n4Myvk04BzXaMu7v6KYIo8R9J8w366+1f7mHO59etva15XhtVm0LZ6liGlidGgvV0OE06a47b2v8VibedLQtA6cthBLEjPs+GhzH1vvHsuPX8PEKHwnjd8aTrthc4TFbcsy2g7kK8NGo5x5bSWWhDvEgEA75egy+d6qK+xjSMR1OWyAyxqfuGs/XsnGagAwTwxGMdhPisEcVQdzVgzmKAvmZDzAdqoG5ms8wXZrN9g+DIB1wDgJYB2XB3PFAFgH1cGcVQdzVh/AJQ/cMTJgnhiMYrCfFIM5qg7mrBjMURbMyXiA7VQNzNd4gu3WbrB9GADrgHESwDouD+aKAbAOqoM5qw7mrD6ASx64Y2TAPDEYxWA/KQZzVB3MWTGYoyyYk/EA26kamK/xBNut3WD7MADWAeMkgHVcHswVA2AdVAdzVh3MWX0Al3LgDn/wwgsvvPDCCy+88MILL7zwwgsvvPDCCy+88MILL7zwwgsvo1v4iTtGBswTg1EM9pNiMEfVwZwVgznKgjkZD7CdqoH5Gk+w3doNtg8DYB0wTgJYx+XBXDEA1kF1MGfVwZzVB3DJA3eMDJgnBqMY7CfFYI6qgzkrBnOUBXMyHmA7VQPzNZ5gu7UbbB8GwDpgnASwjsuDuWIArIPqYM6qgzmrDz/++KP4/7NR83yUhWj0AAAAAElFTkSuQmCC)"
      ],
      "metadata": {
        "id": "8ygrH2UUDyXY"
      }
    },
    {
      "cell_type": "code",
      "source": [
        "LT = pd.DataFrame([{\n",
        "                    'Weight(kg)': 1.65,\n",
        "                    'Screen Size(inch)': 15.6,\n",
        "                    'Resolution': 1,\n",
        "                    'OS': 'Windows 11 Home',\n",
        "                    'GPU': 'NVIDIA GeForce MX450',\n",
        "                    'RAM(GB)': 4,\n",
        "                    'Processor Speed(GHz)': 4.1,\n",
        "                    'Storage(GB)': 1000,\n",
        "                    'StorageType': 0\n",
        "                   }\n",
        "])\n",
        "\n",
        "X_custom = LT[['Weight(kg)',\n",
        "               'Screen Size(inch)',\n",
        "               'Resolution',\n",
        "               'OS',\n",
        "               'GPU',\n",
        "               'RAM(GB)',\n",
        "               'Processor Speed(GHz)',\n",
        "               'Storage(GB)',\n",
        "               'StorageType']]\n",
        "X_custom = encoder.transform(X_custom)\n",
        "\n",
        "y_predd = rf.predict(X_custom)\n",
        "print('Price: 17390 baht\\n' + 'Predicted Price: %d baht\\n' %y_predd + 'Different: %d baht' %abs(17390-y_predd))"
      ],
      "metadata": {
        "colab": {
          "base_uri": "https://localhost:8080/"
        },
        "id": "JW3_pB8sD0aS",
        "outputId": "a73db0a5-04b8-4b5d-e2d3-cd221b52ade0"
      },
      "execution_count": null,
      "outputs": [
        {
          "output_type": "stream",
          "name": "stdout",
          "text": [
            "Price: 17390 baht\n",
            "Predicted Price: 32354 baht\n",
            "Different: 14964 baht\n"
          ]
        }
      ]
    },
    {
      "cell_type": "code",
      "source": [
        "LT = pd.DataFrame([{\n",
        "                    'Weight(kg)': 1.39,\n",
        "                    'Screen Size(inch)': 14,\n",
        "                    'Resolution': 1,\n",
        "                    'OS': 'Windows 11 Home',\n",
        "                    'GPU': 'NVIDIA GeForce RTX 3050',\n",
        "                    'RAM(GB)': 16,\n",
        "                    'Processor Speed(GHz)': 4.4,\n",
        "                    'Storage(GB)': 512,\n",
        "                    'StorageType': 2\n",
        "                   }\n",
        "])\n",
        "\n",
        "X_custom = LT[['Weight(kg)',\n",
        "               'Screen Size(inch)',\n",
        "               'Resolution',\n",
        "               'OS',\n",
        "               'GPU',\n",
        "               'RAM(GB)',\n",
        "               'Processor Speed(GHz)',\n",
        "               'Storage(GB)',\n",
        "               'StorageType']]\n",
        "X_custom = encoder.transform(X_custom)\n",
        "\n",
        "y_predd = rf.predict(X_custom)\n",
        "print('Price: 33990 baht\\n' + 'Predicted Price: %d baht\\n' %y_predd + 'Different: %d baht' %abs(33990-y_predd))"
      ],
      "metadata": {
        "id": "MR0YerJmtfMN",
        "outputId": "bad20117-e293-4380-f277-fec73cf4e99f",
        "colab": {
          "base_uri": "https://localhost:8080/"
        }
      },
      "execution_count": null,
      "outputs": [
        {
          "output_type": "stream",
          "name": "stdout",
          "text": [
            "Price: 33990 baht\n",
            "Predicted Price: 37214 baht\n",
            "Different: 3224 baht\n"
          ]
        }
      ]
    },
    {
      "cell_type": "markdown",
      "source": [
        "# Graph"
      ],
      "metadata": {
        "id": "8Tj5bUkmh3Hh"
      }
    },
    {
      "cell_type": "markdown",
      "source": [
        "<h3> Plotting compare between actual vs predicted price\n",
        "\n",
        "*   Create dataframe by concat the train and test data\n",
        "*   Seperate between actual price and predicted price into each column\n"
      ],
      "metadata": {
        "id": "yXp0tJQnM2Gs"
      }
    },
    {
      "cell_type": "code",
      "source": [
        "actual = np.concatenate((y_test, y_train), axis=None)\n",
        "predict = np.concatenate((y_pred, y_predtr), axis=None)\n",
        "pricedf = pd.DataFrame(data = ([actual, predict]), index = ['actual', 'predict']).transpose()"
      ],
      "metadata": {
        "id": "7xyMrzMgM0fi"
      },
      "execution_count": null,
      "outputs": []
    },
    {
      "cell_type": "code",
      "source": [
        "pricedf"
      ],
      "metadata": {
        "colab": {
          "base_uri": "https://localhost:8080/"
        },
        "id": "65SYwBVRM5XI",
        "outputId": "0744daec-8ba9-43c7-b34a-a5f191907908"
      },
      "execution_count": null,
      "outputs": [
        {
          "output_type": "execute_result",
          "data": {
            "text/plain": [
              "       actual        predict\n",
              "0    117900.0  120916.648299\n",
              "1     42490.0   40492.791383\n",
              "2     64990.0   74872.193651\n",
              "3     56990.0   42609.884127\n",
              "4     38326.0   48751.606349\n",
              "..        ...            ...\n",
              "340  107990.0   88832.468254\n",
              "341  159990.0  150917.068254\n",
              "342   30190.0   29563.317460\n",
              "343   54000.0   51518.504762\n",
              "344  164990.0  150659.960998\n",
              "\n",
              "[345 rows x 2 columns]"
            ],
            "text/html": [
              "\n",
              "  <div id=\"df-b9e22248-8dcf-457e-949f-24d1136db533\">\n",
              "    <div class=\"colab-df-container\">\n",
              "      <div>\n",
              "<style scoped>\n",
              "    .dataframe tbody tr th:only-of-type {\n",
              "        vertical-align: middle;\n",
              "    }\n",
              "\n",
              "    .dataframe tbody tr th {\n",
              "        vertical-align: top;\n",
              "    }\n",
              "\n",
              "    .dataframe thead th {\n",
              "        text-align: right;\n",
              "    }\n",
              "</style>\n",
              "<table border=\"1\" class=\"dataframe\">\n",
              "  <thead>\n",
              "    <tr style=\"text-align: right;\">\n",
              "      <th></th>\n",
              "      <th>actual</th>\n",
              "      <th>predict</th>\n",
              "    </tr>\n",
              "  </thead>\n",
              "  <tbody>\n",
              "    <tr>\n",
              "      <th>0</th>\n",
              "      <td>117900.0</td>\n",
              "      <td>120916.648299</td>\n",
              "    </tr>\n",
              "    <tr>\n",
              "      <th>1</th>\n",
              "      <td>42490.0</td>\n",
              "      <td>40492.791383</td>\n",
              "    </tr>\n",
              "    <tr>\n",
              "      <th>2</th>\n",
              "      <td>64990.0</td>\n",
              "      <td>74872.193651</td>\n",
              "    </tr>\n",
              "    <tr>\n",
              "      <th>3</th>\n",
              "      <td>56990.0</td>\n",
              "      <td>42609.884127</td>\n",
              "    </tr>\n",
              "    <tr>\n",
              "      <th>4</th>\n",
              "      <td>38326.0</td>\n",
              "      <td>48751.606349</td>\n",
              "    </tr>\n",
              "    <tr>\n",
              "      <th>...</th>\n",
              "      <td>...</td>\n",
              "      <td>...</td>\n",
              "    </tr>\n",
              "    <tr>\n",
              "      <th>340</th>\n",
              "      <td>107990.0</td>\n",
              "      <td>88832.468254</td>\n",
              "    </tr>\n",
              "    <tr>\n",
              "      <th>341</th>\n",
              "      <td>159990.0</td>\n",
              "      <td>150917.068254</td>\n",
              "    </tr>\n",
              "    <tr>\n",
              "      <th>342</th>\n",
              "      <td>30190.0</td>\n",
              "      <td>29563.317460</td>\n",
              "    </tr>\n",
              "    <tr>\n",
              "      <th>343</th>\n",
              "      <td>54000.0</td>\n",
              "      <td>51518.504762</td>\n",
              "    </tr>\n",
              "    <tr>\n",
              "      <th>344</th>\n",
              "      <td>164990.0</td>\n",
              "      <td>150659.960998</td>\n",
              "    </tr>\n",
              "  </tbody>\n",
              "</table>\n",
              "<p>345 rows × 2 columns</p>\n",
              "</div>\n",
              "      <button class=\"colab-df-convert\" onclick=\"convertToInteractive('df-b9e22248-8dcf-457e-949f-24d1136db533')\"\n",
              "              title=\"Convert this dataframe to an interactive table.\"\n",
              "              style=\"display:none;\">\n",
              "        \n",
              "  <svg xmlns=\"http://www.w3.org/2000/svg\" height=\"24px\"viewBox=\"0 0 24 24\"\n",
              "       width=\"24px\">\n",
              "    <path d=\"M0 0h24v24H0V0z\" fill=\"none\"/>\n",
              "    <path d=\"M18.56 5.44l.94 2.06.94-2.06 2.06-.94-2.06-.94-.94-2.06-.94 2.06-2.06.94zm-11 1L8.5 8.5l.94-2.06 2.06-.94-2.06-.94L8.5 2.5l-.94 2.06-2.06.94zm10 10l.94 2.06.94-2.06 2.06-.94-2.06-.94-.94-2.06-.94 2.06-2.06.94z\"/><path d=\"M17.41 7.96l-1.37-1.37c-.4-.4-.92-.59-1.43-.59-.52 0-1.04.2-1.43.59L10.3 9.45l-7.72 7.72c-.78.78-.78 2.05 0 2.83L4 21.41c.39.39.9.59 1.41.59.51 0 1.02-.2 1.41-.59l7.78-7.78 2.81-2.81c.8-.78.8-2.07 0-2.86zM5.41 20L4 18.59l7.72-7.72 1.47 1.35L5.41 20z\"/>\n",
              "  </svg>\n",
              "      </button>\n",
              "      \n",
              "  <style>\n",
              "    .colab-df-container {\n",
              "      display:flex;\n",
              "      flex-wrap:wrap;\n",
              "      gap: 12px;\n",
              "    }\n",
              "\n",
              "    .colab-df-convert {\n",
              "      background-color: #E8F0FE;\n",
              "      border: none;\n",
              "      border-radius: 50%;\n",
              "      cursor: pointer;\n",
              "      display: none;\n",
              "      fill: #1967D2;\n",
              "      height: 32px;\n",
              "      padding: 0 0 0 0;\n",
              "      width: 32px;\n",
              "    }\n",
              "\n",
              "    .colab-df-convert:hover {\n",
              "      background-color: #E2EBFA;\n",
              "      box-shadow: 0px 1px 2px rgba(60, 64, 67, 0.3), 0px 1px 3px 1px rgba(60, 64, 67, 0.15);\n",
              "      fill: #174EA6;\n",
              "    }\n",
              "\n",
              "    [theme=dark] .colab-df-convert {\n",
              "      background-color: #3B4455;\n",
              "      fill: #D2E3FC;\n",
              "    }\n",
              "\n",
              "    [theme=dark] .colab-df-convert:hover {\n",
              "      background-color: #434B5C;\n",
              "      box-shadow: 0px 1px 3px 1px rgba(0, 0, 0, 0.15);\n",
              "      filter: drop-shadow(0px 1px 2px rgba(0, 0, 0, 0.3));\n",
              "      fill: #FFFFFF;\n",
              "    }\n",
              "  </style>\n",
              "\n",
              "      <script>\n",
              "        const buttonEl =\n",
              "          document.querySelector('#df-b9e22248-8dcf-457e-949f-24d1136db533 button.colab-df-convert');\n",
              "        buttonEl.style.display =\n",
              "          google.colab.kernel.accessAllowed ? 'block' : 'none';\n",
              "\n",
              "        async function convertToInteractive(key) {\n",
              "          const element = document.querySelector('#df-b9e22248-8dcf-457e-949f-24d1136db533');\n",
              "          const dataTable =\n",
              "            await google.colab.kernel.invokeFunction('convertToInteractive',\n",
              "                                                     [key], {});\n",
              "          if (!dataTable) return;\n",
              "\n",
              "          const docLinkHtml = 'Like what you see? Visit the ' +\n",
              "            '<a target=\"_blank\" href=https://colab.research.google.com/notebooks/data_table.ipynb>data table notebook</a>'\n",
              "            + ' to learn more about interactive tables.';\n",
              "          element.innerHTML = '';\n",
              "          dataTable['output_type'] = 'display_data';\n",
              "          await google.colab.output.renderOutput(dataTable, element);\n",
              "          const docLink = document.createElement('div');\n",
              "          docLink.innerHTML = docLinkHtml;\n",
              "          element.appendChild(docLink);\n",
              "        }\n",
              "      </script>\n",
              "    </div>\n",
              "  </div>\n",
              "  "
            ]
          },
          "metadata": {},
          "execution_count": 97
        }
      ]
    },
    {
      "cell_type": "code",
      "source": [
        "plt.figure(figsize=(25,6))\n",
        "\n",
        "plt.plot(pricedf['actual'])\n",
        "plt.plot(pricedf['predict']) #, linestyle='dashdot'\n",
        "plt.xlabel('no.')\n",
        "plt.ylabel('price(baht)')\n",
        "plt.title('Actual vs Predicted price')\n",
        "plt.legend(['actual', 'predict'], loc='upper left')"
      ],
      "metadata": {
        "colab": {
          "base_uri": "https://localhost:8080/"
        },
        "id": "uRWxaPTPM7UC",
        "outputId": "403e140e-44f7-4684-f31e-1840eb3c40d3"
      },
      "execution_count": null,
      "outputs": [
        {
          "output_type": "execute_result",
          "data": {
            "text/plain": [
              "<matplotlib.legend.Legend at 0x7f6a573139d0>"
            ]
          },
          "metadata": {},
          "execution_count": 98
        },
        {
          "output_type": "display_data",
          "data": {
            "text/plain": [
              "<Figure size 1800x432 with 1 Axes>"
            ],
            "image/png": "[encoded data removed]"
          },
          "metadata": {
            "needs_background": "light"
          }
        }
      ]
    },
    {
      "cell_type": "markdown",
      "source": [
        "<h3> Plotting 5 kfold r2-score on different data size"
      ],
      "metadata": {
        "id": "D3AaQ2rUib8V"
      }
    },
    {
      "cell_type": "code",
      "source": [
        "X_kf = pd.concat([X_train2, X_test2], axis=0)\n",
        "y_kf = pd.concat([y_train, y_test], axis=0)\n",
        "laptop4 = pd.concat([X_kf,y_kf], axis=1)"
      ],
      "metadata": {
        "id": "xiEHv3-59sQW"
      },
      "execution_count": null,
      "outputs": []
    },
    {
      "cell_type": "code",
      "source": [
        "score = []\n",
        "for i in range(100,346,5):\n",
        "  df = laptop4.sample(i, random_state=90)\n",
        "  X = df.drop('Price(Baht)', axis=1)\n",
        "  y = df['Price(Baht)']\n",
        "  X_train, X_test, y_train, y_test = train_test_split(X, y, test_size=0.3, random_state=90)\n",
        "  rf.fit(X_train,y_train)\n",
        "  y_pred = rf.predict(X_test)\n",
        "  rscore = cross_val_score(rf, X_train, y_train, scoring='r2', cv=5).mean()\n",
        "  score.append(rscore)"
      ],
      "metadata": {
        "id": "i1XbMKoN9vFZ"
      },
      "execution_count": null,
      "outputs": []
    },
    {
      "cell_type": "code",
      "source": [
        "scoredf = pd.DataFrame(data = ([score]), index = ['score'], columns = list(range(100, 346, 5))).transpose()"
      ],
      "metadata": {
        "id": "HXx__z_l90bT"
      },
      "execution_count": null,
      "outputs": []
    },
    {
      "cell_type": "code",
      "source": [
        "plt.figure(figsize=(25,6))\n",
        "\n",
        "plt.plot(scoredf['score'])\n",
        "plt.xlabel('Data Size')\n",
        "plt.ylabel('r2-score')\n",
        "plt.title('Score vs Data size')"
      ],
      "metadata": {
        "colab": {
          "base_uri": "https://localhost:8080/"
        },
        "id": "Obv62IE292St",
        "outputId": "6f59984f-8b5f-4595-a297-e9bd1c960ada"
      },
      "execution_count": null,
      "outputs": [
        {
          "output_type": "execute_result",
          "data": {
            "text/plain": [
              "Text(0.5, 1.0, 'Score vs Data size')"
            ]
          },
          "metadata": {},
          "execution_count": 102
        },
        {
          "output_type": "display_data",
          "data": {
            "text/plain": [
              "<Figure size 1800x432 with 1 Axes>"
            ],
            "image/png": "[encoded data removed]"
          },
          "metadata": {
            "needs_background": "light"
          }
        }
      ]
    }
  ]
}